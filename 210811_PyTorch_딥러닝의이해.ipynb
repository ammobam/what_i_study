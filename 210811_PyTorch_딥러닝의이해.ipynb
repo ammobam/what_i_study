{
  "nbformat": 4,
  "nbformat_minor": 0,
  "metadata": {
    "colab": {
      "name": "210811 PyTorch_딥러닝의이해.ipynb",
      "provenance": [],
      "collapsed_sections": [],
      "toc_visible": true,
      "mount_file_id": "1e-Mi2Xh0VFtYFcZvrcWU9-dSE0MMcwlq",
      "authorship_tag": "ABX9TyP55EfdmbYcUBgajHeGs/wm",
      "include_colab_link": true
    },
    "kernelspec": {
      "name": "python3",
      "display_name": "Python 3"
    },
    "language_info": {
      "name": "python"
    },
    "accelerator": "GPU"
  },
  "cells": [
    {
      "cell_type": "markdown",
      "metadata": {
        "id": "view-in-github",
        "colab_type": "text"
      },
      "source": [
        "<a href=\"https://colab.research.google.com/github/ammobam/Study_DeepLearing/blob/main/210811_PyTorch_%EB%94%A5%EB%9F%AC%EB%8B%9D%EC%9D%98%EC%9D%B4%ED%95%B4.ipynb\" target=\"_parent\"><img src=\"https://colab.research.google.com/assets/colab-badge.svg\" alt=\"Open In Colab\"/></a>"
      ]
    },
    {
      "cell_type": "code",
      "metadata": {
        "colab": {
          "base_uri": "https://localhost:8080/"
        },
        "id": "EAZIHTAnp7yy",
        "outputId": "fc12b1f3-64c5-478a-f8fa-5b0928373ec5"
      },
      "source": [
        "from google.colab import drive\n",
        "drive.mount('/content/drive')"
      ],
      "execution_count": 1,
      "outputs": [
        {
          "output_type": "stream",
          "text": [
            "Drive already mounted at /content/drive; to attempt to forcibly remount, call drive.mount(\"/content/drive\", force_remount=True).\n"
          ],
          "name": "stdout"
        }
      ]
    },
    {
      "cell_type": "markdown",
      "metadata": {
        "id": "L5zynmxQ4KKI"
      },
      "source": [
        "# ** Torch 소개\n",
        "- facebook이 만든 Python을 위한 오픈소스 머신러닝 라이브러링\n",
        "- GPU 사용이 가능하기 때문에 속도가 빠름\n",
        "- 최근에는 PyTorch 사용자가 늘어나고 있음\n",
        "- PyTorch의 장점 : Microsoft의 프레임워크가 모델전환이 가능함\n",
        "\n",
        "\n",
        "- 다른 딥러닝 패키지 : TensorFlow\n",
        "    - 먼저 배포되어 현재까지 사용자가 많으나 비직관적인 구조, 학습 난이도가 높음\n",
        "    - TensorFlow는 비직관적인 구조를 개선하기 위해 2.0에서 Keras를 포집함\n",
        "\n",
        "\n",
        "\n",
        "1) Pytorch 설치\n",
        "\n",
        "```\n",
        "\tpip install torch torchvision\n",
        "\tconda install pytorch torchvision -c pytorch\n",
        "```\n",
        "\n",
        "2) GPU 사용을 위한 설정\n",
        "- CUDA 설치\n",
        "\t- https://developer.nvidia.com/cuda-toolkit-archive\n",
        "\n",
        "- cuDNN 설치\n",
        "\t- https://developer.nvidia.com/cudnn\n",
        "\n",
        "- 윈도우에 GPU 확인하는 방법\n",
        "\t- 작업관리자 > 성능 > GPU 확인"
      ]
    },
    {
      "cell_type": "markdown",
      "metadata": {
        "id": "9KRtWmgpxb5z"
      },
      "source": [
        "## Torch 설치"
      ]
    },
    {
      "cell_type": "code",
      "metadata": {
        "colab": {
          "base_uri": "https://localhost:8080/"
        },
        "id": "Vk1kcZt5uvd9",
        "outputId": "e2836fe1-e35d-4705-9833-7a4c00d2c198"
      },
      "source": [
        "import torch\n",
        "x = torch.rand(5, 3)\n",
        "print(x)"
      ],
      "execution_count": 1,
      "outputs": [
        {
          "output_type": "stream",
          "text": [
            "tensor([[0.9631, 0.6426, 0.8523],\n",
            "        [0.8878, 0.2459, 0.8171],\n",
            "        [0.1911, 0.1547, 0.5760],\n",
            "        [0.5163, 0.3672, 0.5157],\n",
            "        [0.8142, 0.5548, 0.0964]])\n"
          ],
          "name": "stdout"
        }
      ]
    },
    {
      "cell_type": "markdown",
      "metadata": {
        "id": "jVCRLO03yAnz"
      },
      "source": [
        "## Tensor\n",
        "- Tensor\n",
        "- 데이터를 표현하는 단위\n",
        "- Scalar, Vector, Matmul, Tensor등이 있음\n",
        "\n",
        "1) Scalar\n",
        "- 하나의 값\n",
        "\n",
        "2) Vector\n",
        "- 원래 의미는 데이터 모임을 Vector라고 함\n",
        "- 프로그래밍 언어에서는 Collection이라고 표현함\n",
        "\n",
        "- 1차원으로 모인 데이터의 집합\n",
        "- Vector끼리 연산을 하면 동일한 위치의 데이터끼리 연산을 수행함\n",
        "- torch에서 numpy의 ndarray 연산 대부분을 제공함\n",
        "\n",
        "3) Matmul\n",
        "- 행과 열 구조\n",
        "- 벡터의 모임\n",
        "- 내적을 구하는 메소드로 matmul을 지원함\n",
        "\n",
        "4) Tensor\n",
        "- Matrix의 배열"
      ]
    },
    {
      "cell_type": "code",
      "metadata": {
        "colab": {
          "base_uri": "https://localhost:8080/"
        },
        "id": "7rodMuVLx-NP",
        "outputId": "b6da2fff-12e7-46bc-9070-d21be16b60b0"
      },
      "source": [
        "# 하나의 값을 스칼라 데이터라고 함\n",
        "scalar_data = torch.tensor([1.0])\n",
        "print(\"스칼라 데이터:\", scalar_data)\n",
        "\n",
        "# Vector : 1차원 데이터의 모임\n",
        "vector1 = torch.tensor([1.0, 2.0])\n",
        "vector2 = torch.tensor([4.0, 5.0])\n",
        "\n",
        "# 동일한 인덱스의 데이터끼리 연산\n",
        "# 2개 벡터 크기가 다르면 연산이 불가함\n",
        "print(\"벡터의 덧셈:\", vector1 + vector2)\n",
        "\n",
        "# torch는 numpy의 거의 모든 연산을 지원함\n",
        "# 행렬연산. 행, 열 단위로 계산함\n",
        "# 하나의 벡터를 1개의 열로 간주하여 연산 수행함\n",
        "print(\"벡터의 내적:\", torch.dot(vector1, vector2))    # 1x2 dot 2x1 --> 1x1\n",
        "\n",
        "# Matrix (행렬)\n",
        "matrix1 = torch.tensor([[1, 2], [3, 4]])    # 2x2\n",
        "matrix2 = torch.tensor([[5, 6], [7, 8]])    # 2x2\n",
        "print(\"행렬연산 지원:\\n\", torch.matmul(matrix1, matrix2))    # 2x2\n",
        "\n",
        "# Tensor : Matrix의 배열\n",
        "tensor1 = torch.tensor([[[1, 2], [3, 4]], [[2, 2], [2, 2]]])    # 2x2 행렬 2개의 배열\n",
        "print(tensor1)"
      ],
      "execution_count": 2,
      "outputs": [
        {
          "output_type": "stream",
          "text": [
            "스칼라 데이터: tensor([1.])\n",
            "벡터의 덧셈: tensor([5., 7.])\n",
            "벡터의 내적: tensor(14.)\n",
            "행렬연산 지원:\n",
            " tensor([[19, 22],\n",
            "        [43, 50]])\n",
            "tensor([[[1, 2],\n",
            "         [3, 4]],\n",
            "\n",
            "        [[2, 2],\n",
            "         [2, 2]]])\n"
          ],
          "name": "stdout"
        }
      ]
    },
    {
      "cell_type": "markdown",
      "metadata": {
        "id": "Nsix3EvSmCCt"
      },
      "source": [
        "# ** MLP 설계를 통한 딥러닝의 이해\n",
        "- MNIST 데이터셋 이용\n",
        "- Pytorch는 클래스를 수정하여 모델을 생성, 훈련, 평가함\n",
        "---\n",
        "## 과정\n",
        "- 필요한 모듈 불러오기\n",
        "- 장비 확인\n",
        "- 데이터 다운로드 및 분할\n",
        "- 데이터 확인\n",
        "- MLP 모델 설계\n",
        "- Optimizer, Object Function 설정\n",
        "- 학습진행 중 모델 성능을 확인하는 함수 정의\n",
        "- 학습진행 중 검증 데이터에 대한 모델 성능을 확인하는 함수 정의\n",
        "- 학습진행 중 학습/테스트 데이터의 Loss 및 Accuracy 확인"
      ]
    },
    {
      "cell_type": "markdown",
      "metadata": {
        "id": "8NtSkQm3muhs"
      },
      "source": [
        "## 필요한 모듈 불러오기"
      ]
    },
    {
      "cell_type": "code",
      "metadata": {
        "id": "a1Dt4GzKmyxM"
      },
      "source": [
        "# 필요한 모듈 불러오기\n",
        "import numpy as np\n",
        "import matplotlib.pyplot as plt\n",
        "\n",
        "# pytorch 기본모듈\n",
        "import torch\n",
        "\n",
        "# 딥러닝 모델을 만들 때 필요한 함수 모듈\n",
        "import torch.nn as nn\n",
        "# 자주 사용하는 함수 모듈\n",
        "import torch.nn.functional as F\n",
        "\n",
        "# 데이터 관련 모듈\n",
        "from torchvision import transforms, datasets"
      ],
      "execution_count": 2,
      "outputs": []
    },
    {
      "cell_type": "markdown",
      "metadata": {
        "id": "po-fWxJa2kIU"
      },
      "source": [
        "## 장비 확인 - GPU 사용가능 여부 확인"
      ]
    },
    {
      "cell_type": "code",
      "metadata": {
        "colab": {
          "base_uri": "https://localhost:8080/"
        },
        "id": "TE5Hwq6czofc",
        "outputId": "8a9dc44c-12a0-441f-925b-6cecb72580f5"
      },
      "source": [
        "# Colab GPU를 켜고 확인해보면 True가 나옴\n",
        "print(\"GPU 사용가능 여부:\", torch.cuda.is_available())\n",
        "\n",
        "# 조건문으로 확인 가능\n",
        "if torch.cuda.is_available():\n",
        "    DEVICE = torch.device('cuda')\n",
        "else:\n",
        "    DEVICE = torch.device('CPU')\n",
        "\n",
        "print('torch version:', torch.__version__)\n",
        "print('DEVICE:', DEVICE)"
      ],
      "execution_count": 3,
      "outputs": [
        {
          "output_type": "stream",
          "text": [
            "GPU 사용가능 여부: True\n",
            "torch version: 1.9.0+cu102\n",
            "DEVICE: cuda\n"
          ],
          "name": "stdout"
        }
      ]
    },
    {
      "cell_type": "markdown",
      "metadata": {
        "id": "Af2sTwG6nRsE"
      },
      "source": [
        "## 데이터 준비"
      ]
    },
    {
      "cell_type": "markdown",
      "metadata": {
        "id": "3HeO5lQOsbc4"
      },
      "source": [
        "### 데이터 다운로드"
      ]
    },
    {
      "cell_type": "code",
      "metadata": {
        "id": "zq22B1qTn2wc"
      },
      "source": [
        "# torch 에서 지원하는 MNIST 손글씨 데이터 가져오기\n",
        "# 데이터를 다운로드 받아서 경로에 저장하고\n",
        "# transform을 설정하면 텐서로 변경하고 0~1 사이로 정규화함\n",
        "train_datasets = datasets.MNIST(root='/content/drive/MyDrive/data/MNIST', train=True, download=True, transform=transforms.ToTensor())\n",
        "test_datasets = datasets.MNIST(root='/content/drive/MyDrive/data/MNIST', train=False, download=True, transform=transforms.ToTensor())\n"
      ],
      "execution_count": 33,
      "outputs": []
    },
    {
      "cell_type": "code",
      "metadata": {
        "id": "RP6_EMtVo_Fc"
      },
      "source": [
        "# 한 번에 훈련하는 크기\n",
        "BATCH_SIZE = 32\n",
        "# 훈련 횟수\n",
        "EPOCHS = 10"
      ],
      "execution_count": 4,
      "outputs": []
    },
    {
      "cell_type": "code",
      "metadata": {
        "id": "RHu4M_xeqL8S"
      },
      "source": [
        "# pytorch 딥러닝에서 사용할 형태로 데이터 변환\n",
        "# 여기서 데이터 섞는 옵션 줄 수 있음\n",
        "train_loader = torch.utils.data.DataLoader(dataset = train_datasets, batch_size=BATCH_SIZE, shuffle=True)\n",
        "test_loader = torch.utils.data.DataLoader(dataset = test_datasets, batch_size=BATCH_SIZE, shuffle=True)"
      ],
      "execution_count": 27,
      "outputs": []
    },
    {
      "cell_type": "markdown",
      "metadata": {
        "id": "dU9JycMksYJx"
      },
      "source": [
        "### 데이터 확인"
      ]
    },
    {
      "cell_type": "code",
      "metadata": {
        "colab": {
          "base_uri": "https://localhost:8080/"
        },
        "id": "h2Bh9gGFrPCy",
        "outputId": "9033711e-0415-4c41-d6e5-84cb64eac0a0"
      },
      "source": [
        "# 데이터 확인\n",
        "print(dir(train_loader))\n",
        "print(dir(test_loader))\n",
        "\n",
        "# 순환 가능한 데이터\n",
        "for (X_train, y_train) in train_loader:\n",
        "    print('X_train:', X_train.size(), 'type:', X_train.type())\n",
        "    print('y_train:', y_train.size(), 'type:', y_train.type())\n",
        "    break\n",
        "\n",
        "# 훈련 데이터는 28*28 짜리 흑백 이미지이고 32개 씩 묶여 있음\n",
        "# 훈련 레이블은 32개 짜리 스칼라 데이터가 묶여 있음"
      ],
      "execution_count": 31,
      "outputs": [
        {
          "output_type": "stream",
          "text": [
            "['_DataLoader__initialized', '_DataLoader__multiprocessing_context', '_IterableDataset_len_called', '__annotations__', '__class__', '__class_getitem__', '__delattr__', '__dict__', '__dir__', '__doc__', '__eq__', '__format__', '__ge__', '__getattribute__', '__gt__', '__hash__', '__init__', '__init_subclass__', '__iter__', '__le__', '__len__', '__lt__', '__module__', '__ne__', '__new__', '__orig_bases__', '__parameters__', '__reduce__', '__reduce_ex__', '__repr__', '__setattr__', '__sizeof__', '__slots__', '__str__', '__subclasshook__', '__weakref__', '_auto_collation', '_dataset_kind', '_get_iterator', '_index_sampler', '_iterator', 'batch_sampler', 'batch_size', 'check_worker_number_rationality', 'collate_fn', 'dataset', 'drop_last', 'generator', 'multiprocessing_context', 'num_workers', 'persistent_workers', 'pin_memory', 'prefetch_factor', 'sampler', 'timeout', 'worker_init_fn']\n",
            "['_DataLoader__initialized', '_DataLoader__multiprocessing_context', '_IterableDataset_len_called', '__annotations__', '__class__', '__class_getitem__', '__delattr__', '__dict__', '__dir__', '__doc__', '__eq__', '__format__', '__ge__', '__getattribute__', '__gt__', '__hash__', '__init__', '__init_subclass__', '__iter__', '__le__', '__len__', '__lt__', '__module__', '__ne__', '__new__', '__orig_bases__', '__parameters__', '__reduce__', '__reduce_ex__', '__repr__', '__setattr__', '__sizeof__', '__slots__', '__str__', '__subclasshook__', '__weakref__', '_auto_collation', '_dataset_kind', '_get_iterator', '_index_sampler', '_iterator', 'batch_sampler', 'batch_size', 'check_worker_number_rationality', 'collate_fn', 'dataset', 'drop_last', 'generator', 'multiprocessing_context', 'num_workers', 'persistent_workers', 'pin_memory', 'prefetch_factor', 'sampler', 'timeout', 'worker_init_fn']\n",
            "X_train: torch.Size([32, 1, 28, 28]) type: torch.FloatTensor\n",
            "y_train: torch.Size([32]) type: torch.LongTensor\n"
          ],
          "name": "stdout"
        }
      ]
    },
    {
      "cell_type": "code",
      "metadata": {
        "colab": {
          "base_uri": "https://localhost:8080/",
          "height": 94
        },
        "id": "JeNGxMF-sTB5",
        "outputId": "7b522241-8bba-4cbc-d296-f57149105f2c"
      },
      "source": [
        "# 데이터 꺼내보기\n",
        "pltsize = 1\n",
        "plt.figure(figsize=(10*pltsize, pltsize))\n",
        "\n",
        "for i in range(10):\n",
        "    plt.subplot(1, 10, i + 1)\n",
        "    plt.axis('off')\n",
        "    plt.imshow(X_train[i, :, :, :].numpy().reshape(28, 28), cmap='gray_r')\n",
        "    plt.title('Class:' + str(y_train[i].item()))"
      ],
      "execution_count": 32,
      "outputs": [
        {
          "output_type": "display_data",
          "data": {
            "image/png": "[encoded data removed]",
            "text/plain": [
              "<Figure size 720x72 with 10 Axes>"
            ]
          },
          "metadata": {
            "tags": [],
            "needs_background": "light"
          }
        }
      ]
    },
    {
      "cell_type": "markdown",
      "metadata": {
        "id": "SJEalRT3r7vR"
      },
      "source": [
        "## MLP 모델 설계\n",
        "- pytorch는 클래스를 상속받아서 모델을 설계함"
      ]
    },
    {
      "cell_type": "code",
      "metadata": {
        "id": "e5k_cd4br-wn"
      },
      "source": [
        "# 모델 설계\n",
        "class Net(nn.Module):\n",
        "    # 생성자 - 초기화 메소드\n",
        "    ## 인스턴스를 만들기 위해서 호출하는 함수\n",
        "    def __init__(self):\n",
        "        # 상위 클래스의 생성자를 호출\n",
        "        ## Java, C++은 상위 클래스 생성자 호출하지 않음. 파이썬은 함.\n",
        "        super(Net, self).__init__()\n",
        "        # 인스턴스 변수 초기화 - 층을 쌓음\n",
        "        self.fc1 = nn.Linear(28*28, 512)   # 입력층\n",
        "        self.fc2 = nn.Linear(512, 256)     # 은닉층\n",
        "        self.fc3 = nn.Linear(256, 10)      # 출력층\n",
        "\n",
        "    # Forward Propagation을 위한 함수\n",
        "    def forward(self, x):\n",
        "        # 입력 데이터를 만들기 위해서 28*28의 1차원 데이터로 펼침\n",
        "        x = x.view(-1, 28*28)\n",
        "        \n",
        "        # 입력층을 활성화해서 다음으로 넘김\n",
        "        x = self.fc1(x)\n",
        "        x = F.sigmoid(x)\n",
        "        \n",
        "        # 은닉층을 활성화해서 다음으로 넘김\n",
        "        x = self.fc2(x)\n",
        "        x = F.sigmoid(x)\n",
        "        \n",
        "        # 출력층을 활성화함\n",
        "        # 활성화함수 softmax, log_softmax의 차이?\n",
        "        # 로그값을 이용하면 역전파할 때 그래프의 기울기가 부드럽게 변하여 그라디언트 소실 문제를 예방함\n",
        "        x = self.fc3(x)\n",
        "        x = F.log_softmax(x, dim=1)\n",
        "\n",
        "        return x"
      ],
      "execution_count": 17,
      "outputs": []
    },
    {
      "cell_type": "code",
      "metadata": {
        "colab": {
          "base_uri": "https://localhost:8080/"
        },
        "id": "TX_NE0dLzc79",
        "outputId": "c5c8a92c-e8aa-4aae-d93a-183d055a362a"
      },
      "source": [
        "# 모델 생성\n",
        "model = Net().to(DEVICE)\n",
        "## Net() : 클래스 불러와서 모델 객체 생성\n",
        "## .to(DEVICE) : 장치 할당\n",
        "\n",
        "print(model)"
      ],
      "execution_count": 38,
      "outputs": [
        {
          "output_type": "stream",
          "text": [
            "Net(\n",
            "  (fc1): Linear(in_features=784, out_features=512, bias=True)\n",
            "  (fc2): Linear(in_features=512, out_features=256, bias=True)\n",
            "  (fc3): Linear(in_features=256, out_features=10, bias=True)\n",
            ")\n"
          ],
          "name": "stdout"
        }
      ]
    },
    {
      "cell_type": "markdown",
      "metadata": {
        "id": "91zPOiwgsB0g"
      },
      "source": [
        "## Optimizer, Object Function 설정\n",
        "- Gradient Descent Method(경사하강법)\n",
        "    - loss를 최소화하는 방법\n",
        "- Optimizer\n",
        "    - 경사하강법을 구현하는 함수\n",
        "    - loss를 최소화하는 함수\n",
        "- Optimizer 종류\n",
        "    - SGD : 데이터를 미분하여 loss를 최소화해나가는 방법\n",
        "\t    - Stochastic Gradient Descent\n",
        "    - SGD 외 여러 함수 이용 가능"
      ]
    },
    {
      "cell_type": "code",
      "metadata": {
        "id": "hf0CijuRzZQF"
      },
      "source": [
        "# Optimizer 정의\n",
        "optimizer = torch.optim.SGD(model.parameters(), lr=0.01, momentum=0.5)\n",
        "## lr : 학습률\n",
        "## momentum : 관성, 일종의 가속도\n",
        "\n",
        "# Loss Function 정의\n",
        "criterion = nn.CrossEntropyLoss()\n",
        "## criterion : 표준\n",
        "## CrossEntropyLoss\n",
        "    ## 다중분류를 위한 함수\n",
        "    ## nn.LogSoftmax와 nn.NLLLoss의 연산의 조합"
      ],
      "execution_count": 39,
      "outputs": []
    },
    {
      "cell_type": "markdown",
      "metadata": {
        "id": "Uo57RDp8O_nL"
      },
      "source": [
        "* nn.CrossEntropyLoss에 대하여\n",
        "* http://www.gisdeveloper.co.kr/?p=8668"
      ]
    },
    {
      "cell_type": "markdown",
      "metadata": {
        "id": "49FpFY-IsJgo"
      },
      "source": [
        "## 학습진행 중 모델 성능을 확인하는 함수 정의"
      ]
    },
    {
      "cell_type": "code",
      "metadata": {
        "id": "TY9zVR6_sKfq"
      },
      "source": [
        "def train(model, train_loader, optimizer, log_interval):\n",
        "    # 모델 훈련 시작\n",
        "    model.train()\n",
        "    # 훈련 데이터의 배치번호, 이미지, 레이블을 순회함\n",
        "    for batch_idx, (image, label) in enumerate(train_loader):\n",
        "        # image, label을 DEVICE에 할당\n",
        "        image = image.to(DEVICE)\n",
        "        label = label.to(DEVICE)\n",
        "        # optimizer 초기화\n",
        "        optimizer.zero_grad()\n",
        "        # image로 예측\n",
        "        output = model(image)\n",
        "        # 손실 계산\n",
        "        loss = criterion(output, label)\n",
        "        # 손실 역전파\n",
        "        loss.backward()\n",
        "\n",
        "        # 파라미터 값(weight)을 업데이트\n",
        "        ## weight를 업데이트 하고 사용한 optimizer는 None으로 초기화 하는 것!\n",
        "        ## loss가 적을 때의 weight만 업데이트하고 다시 for문\n",
        "        optimizer.step()\n",
        "\n",
        "        # 출력\n",
        "        if batch_idx % log_interval == 0:\n",
        "            print('Train Epoch:{}[{}/{} {:.0f}%]\\tTrain Loss:{:.6f}'.\n",
        "                  format(epoch, batch_idx*len(image), len(train_loader.dataset), 100*batch_idx/len(train_loader), loss.item()))"
      ],
      "execution_count": 67,
      "outputs": []
    },
    {
      "cell_type": "markdown",
      "metadata": {
        "id": "Fvr4qFPp2k4z"
      },
      "source": [
        "### help(optimizer)\n",
        "\n",
        "```\n",
        " |  zero_grad(self, set_to_none: bool = False)\n",
        " |      Sets the gradients of all optimized :class:`torch.Tensor` s to zero.\n",
        " |      \n",
        " |      Args:\n",
        " |          set_to_none (bool): instead of setting to zero, set the grads to None.\n",
        " |              This will in general have lower memory footprint, and can modestly improve performance.\n",
        " |              However, it changes certain behaviors. For example:\n",
        " |              1. When the user tries to access a gradient and perform manual ops on it,\n",
        " |              a None attribute or a Tensor full of 0s will behave differently.\n",
        " |              2. If the user requests ``zero_grad(set_to_none=True)`` followed by a backward pass, ``.grad``\\ s\n",
        " |              are guaranteed to be None for params that did not receive a gradient.\n",
        " |              3. ``torch.optim`` optimizers have a different behavior if the gradient is 0 or None\n",
        " |              (in one case it does the step with a gradient of 0 and in the other it skips\n",
        " |              the step altogether).\n",
        "```\n",
        "```\n",
        " |  step(self, closure=None)\n",
        " |      Performs a single optimization step.\n",
        " |      \n",
        " |      Args:\n",
        " |          closure (callable, optional): A closure that reevaluates the model\n",
        " |              and returns the loss.\n",
        " ```\n"
      ]
    },
    {
      "cell_type": "markdown",
      "metadata": {
        "id": "_OnBrd88sK3X"
      },
      "source": [
        "## 학습진행 중 검증 데이터에 대한 모델 성능을 확인하는 함수 정의"
      ]
    },
    {
      "cell_type": "code",
      "metadata": {
        "id": "pazqgqTPsL0T"
      },
      "source": [
        "def evaluate(model, test_loader):\n",
        "    # 모델 검증 시작\n",
        "    model.eval()\n",
        "    # 누적 손실을 계산하기 위한 변수\n",
        "    test_loss = 0\n",
        "    # 정확히 분류된 데이터의 개수를 세는 변수\n",
        "    correct_cnt = 0\n",
        "\n",
        "    # 훈련 데이터의 배치번호, 이미지, 레이블을 순회함\n",
        "    with torch.no_grad():\n",
        "        for image, label in test_loader:\n",
        "            # image, label을 DEVICE에 할당\n",
        "            image = image.to(DEVICE)\n",
        "            label = label.to(DEVICE)\n",
        "\n",
        "            # image로 예측\n",
        "            output = model(image)\n",
        "                ## output : 어떤 클래스로 분류할기 확률을 리턴한 텐서\n",
        "\n",
        "            # 누적 손실 계산\n",
        "            test_loss += criterion(output, label)\n",
        "\n",
        "            # 정답의 개수를 계산\n",
        "            prediction = output.max(1, keepdim=True)[1]\n",
        "                ## ouput 텐서에서 가장 큰 값(확률)의 클래스를 리턴함\n",
        "                ## keepdim : 차원도 같이 리턴하는 옵션\n",
        "            correct_cnt += prediction.eq(label.view_as(prediction)).sum().item()\n",
        "                ## 결과적으로, 예측값과 레이블값이 동일하면 1 더해주는 코드임\n",
        "                ## .view_as : label은 텐서가 아니라서 prediction과 같은 타입으로 바꿔줌  #??정확한 기능 찾아보기\n",
        "                ## .eq: prediction과, label의 값이 같은지 비교\n",
        "                ## .sum().item() : True일 때의 개수를 리턴함                \n",
        "        \n",
        "        # 손실의 평균 구하기\n",
        "        test_loss /= len(test_loader.dataset)    # /= : 나눠서 다시 왼쪽 변수에 할당\n",
        "        # 정확도 구하기\n",
        "        test_accuracy = 100 * correct_cnt / len(test_loader.dataset)\n",
        "        return test_loss, test_accuracy"
      ],
      "execution_count": 68,
      "outputs": []
    },
    {
      "cell_type": "markdown",
      "metadata": {
        "id": "bCCDPgkcsMKP"
      },
      "source": [
        "## 학습진행 중 학습/테스트 데이터의 Loss 및 Accuracy 확인"
      ]
    },
    {
      "cell_type": "markdown",
      "metadata": {
        "id": "KPSmG0038Lx2"
      },
      "source": [
        "### 모델 훈련"
      ]
    },
    {
      "cell_type": "code",
      "metadata": {
        "colab": {
          "base_uri": "https://localhost:8080/"
        },
        "id": "j_orgAcQ8LR_",
        "outputId": "9e721f9f-3906-4fe5-cc78-8d2a32b3dbe8"
      },
      "source": [
        "# 정의한 함수 불러와서 모델 훈련하기\n",
        "for epoch in range(1, EPOCHS+1):\n",
        "    # 훈련\n",
        "    train(model , train_loader, optimizer, log_interval=200)\n",
        "    # 검증해서 loss, accuracy 받아오기\n",
        "    test_loss, test_accuracy = evaluate(model, test_loader)\n",
        "    # 출력\n",
        "    print('\\n[EPOCH:{}]\\ \\tTest Loss : {:.4f} \\tTest Accuracy:{:.2f}%\\n'.format(epoch, test_loss, test_accuracy))\n",
        "\n",
        "# [EPOCH:10]\\ \tTest Loss : 0.0105 \tTest Accuracy:90.03%\n",
        "# 훈련할수록 Loss는 감소하고 Accuracy는 증가하는 것을 확인할 수 있음"
      ],
      "execution_count": 69,
      "outputs": [
        {
          "output_type": "stream",
          "text": [
            "/usr/local/lib/python3.7/dist-packages/torch/nn/functional.py:1805: UserWarning: nn.functional.sigmoid is deprecated. Use torch.sigmoid instead.\n",
            "  warnings.warn(\"nn.functional.sigmoid is deprecated. Use torch.sigmoid instead.\")\n"
          ],
          "name": "stderr"
        },
        {
          "output_type": "stream",
          "text": [
            "Train Epoch:1[0/60000 0%]\tTrain Loss:2.313113\n",
            "Train Epoch:1[6400/60000 11%]\tTrain Loss:2.280902\n",
            "Train Epoch:1[12800/60000 21%]\tTrain Loss:2.335389\n",
            "Train Epoch:1[19200/60000 32%]\tTrain Loss:2.323482\n",
            "Train Epoch:1[25600/60000 43%]\tTrain Loss:2.324605\n",
            "Train Epoch:1[32000/60000 53%]\tTrain Loss:2.309533\n",
            "Train Epoch:1[38400/60000 64%]\tTrain Loss:2.302251\n",
            "Train Epoch:1[44800/60000 75%]\tTrain Loss:2.273365\n",
            "Train Epoch:1[51200/60000 85%]\tTrain Loss:2.232270\n",
            "Train Epoch:1[57600/60000 96%]\tTrain Loss:2.216110\n",
            "\n",
            "[EPOCH:1]\\ \tTest Loss : 0.0694 \tTest Accuracy:30.45%\n",
            "\n",
            "Train Epoch:2[0/60000 0%]\tTrain Loss:2.181501\n",
            "Train Epoch:2[6400/60000 11%]\tTrain Loss:2.175222\n",
            "Train Epoch:2[12800/60000 21%]\tTrain Loss:2.260787\n",
            "Train Epoch:2[19200/60000 32%]\tTrain Loss:2.014546\n",
            "Train Epoch:2[25600/60000 43%]\tTrain Loss:1.962686\n",
            "Train Epoch:2[32000/60000 53%]\tTrain Loss:1.845089\n",
            "Train Epoch:2[38400/60000 64%]\tTrain Loss:1.629709\n",
            "Train Epoch:2[44800/60000 75%]\tTrain Loss:1.527965\n",
            "Train Epoch:2[51200/60000 85%]\tTrain Loss:1.449652\n",
            "Train Epoch:2[57600/60000 96%]\tTrain Loss:1.605603\n",
            "\n",
            "[EPOCH:2]\\ \tTest Loss : 0.0388 \tTest Accuracy:67.32%\n",
            "\n",
            "Train Epoch:3[0/60000 0%]\tTrain Loss:1.415351\n",
            "Train Epoch:3[6400/60000 11%]\tTrain Loss:1.068305\n",
            "Train Epoch:3[12800/60000 21%]\tTrain Loss:0.982917\n",
            "Train Epoch:3[19200/60000 32%]\tTrain Loss:1.110085\n",
            "Train Epoch:3[25600/60000 43%]\tTrain Loss:0.996785\n",
            "Train Epoch:3[32000/60000 53%]\tTrain Loss:0.922818\n",
            "Train Epoch:3[38400/60000 64%]\tTrain Loss:0.822744\n",
            "Train Epoch:3[44800/60000 75%]\tTrain Loss:0.726629\n",
            "Train Epoch:3[51200/60000 85%]\tTrain Loss:0.754814\n",
            "Train Epoch:3[57600/60000 96%]\tTrain Loss:0.553737\n",
            "\n",
            "[EPOCH:3]\\ \tTest Loss : 0.0235 \tTest Accuracy:77.96%\n",
            "\n",
            "Train Epoch:4[0/60000 0%]\tTrain Loss:0.606905\n",
            "Train Epoch:4[6400/60000 11%]\tTrain Loss:0.732905\n",
            "Train Epoch:4[12800/60000 21%]\tTrain Loss:0.599112\n",
            "Train Epoch:4[19200/60000 32%]\tTrain Loss:0.564721\n",
            "Train Epoch:4[25600/60000 43%]\tTrain Loss:0.451938\n",
            "Train Epoch:4[32000/60000 53%]\tTrain Loss:0.666092\n",
            "Train Epoch:4[38400/60000 64%]\tTrain Loss:0.560268\n",
            "Train Epoch:4[44800/60000 75%]\tTrain Loss:0.952939\n",
            "Train Epoch:4[51200/60000 85%]\tTrain Loss:0.416113\n",
            "Train Epoch:4[57600/60000 96%]\tTrain Loss:0.523258\n",
            "\n",
            "[EPOCH:4]\\ \tTest Loss : 0.0175 \tTest Accuracy:84.05%\n",
            "\n",
            "Train Epoch:5[0/60000 0%]\tTrain Loss:0.822870\n",
            "Train Epoch:5[6400/60000 11%]\tTrain Loss:0.363536\n",
            "Train Epoch:5[12800/60000 21%]\tTrain Loss:0.740127\n",
            "Train Epoch:5[19200/60000 32%]\tTrain Loss:0.464631\n",
            "Train Epoch:5[25600/60000 43%]\tTrain Loss:0.425929\n",
            "Train Epoch:5[32000/60000 53%]\tTrain Loss:0.705039\n",
            "Train Epoch:5[38400/60000 64%]\tTrain Loss:0.309926\n",
            "Train Epoch:5[44800/60000 75%]\tTrain Loss:0.467464\n",
            "Train Epoch:5[51200/60000 85%]\tTrain Loss:0.286222\n",
            "Train Epoch:5[57600/60000 96%]\tTrain Loss:0.393939\n",
            "\n",
            "[EPOCH:5]\\ \tTest Loss : 0.0145 \tTest Accuracy:86.65%\n",
            "\n",
            "Train Epoch:6[0/60000 0%]\tTrain Loss:0.793626\n",
            "Train Epoch:6[6400/60000 11%]\tTrain Loss:0.276175\n",
            "Train Epoch:6[12800/60000 21%]\tTrain Loss:0.425371\n",
            "Train Epoch:6[19200/60000 32%]\tTrain Loss:0.229160\n",
            "Train Epoch:6[25600/60000 43%]\tTrain Loss:0.611671\n",
            "Train Epoch:6[32000/60000 53%]\tTrain Loss:0.371792\n",
            "Train Epoch:6[38400/60000 64%]\tTrain Loss:0.540897\n",
            "Train Epoch:6[44800/60000 75%]\tTrain Loss:0.519419\n",
            "Train Epoch:6[51200/60000 85%]\tTrain Loss:0.452418\n",
            "Train Epoch:6[57600/60000 96%]\tTrain Loss:0.595177\n",
            "\n",
            "[EPOCH:6]\\ \tTest Loss : 0.0131 \tTest Accuracy:87.58%\n",
            "\n",
            "Train Epoch:7[0/60000 0%]\tTrain Loss:0.665470\n",
            "Train Epoch:7[6400/60000 11%]\tTrain Loss:0.281973\n",
            "Train Epoch:7[12800/60000 21%]\tTrain Loss:0.174823\n",
            "Train Epoch:7[19200/60000 32%]\tTrain Loss:0.370720\n",
            "Train Epoch:7[25600/60000 43%]\tTrain Loss:0.251484\n",
            "Train Epoch:7[32000/60000 53%]\tTrain Loss:0.232178\n",
            "Train Epoch:7[38400/60000 64%]\tTrain Loss:0.655965\n",
            "Train Epoch:7[44800/60000 75%]\tTrain Loss:0.426047\n",
            "Train Epoch:7[51200/60000 85%]\tTrain Loss:0.482162\n",
            "Train Epoch:7[57600/60000 96%]\tTrain Loss:0.366603\n",
            "\n",
            "[EPOCH:7]\\ \tTest Loss : 0.0120 \tTest Accuracy:88.90%\n",
            "\n",
            "Train Epoch:8[0/60000 0%]\tTrain Loss:0.289682\n",
            "Train Epoch:8[6400/60000 11%]\tTrain Loss:0.382784\n",
            "Train Epoch:8[12800/60000 21%]\tTrain Loss:0.276648\n",
            "Train Epoch:8[19200/60000 32%]\tTrain Loss:0.434797\n",
            "Train Epoch:8[25600/60000 43%]\tTrain Loss:0.128426\n",
            "Train Epoch:8[32000/60000 53%]\tTrain Loss:0.462122\n",
            "Train Epoch:8[38400/60000 64%]\tTrain Loss:0.386565\n",
            "Train Epoch:8[44800/60000 75%]\tTrain Loss:0.456458\n",
            "Train Epoch:8[51200/60000 85%]\tTrain Loss:0.257932\n",
            "Train Epoch:8[57600/60000 96%]\tTrain Loss:0.327230\n",
            "\n",
            "[EPOCH:8]\\ \tTest Loss : 0.0114 \tTest Accuracy:89.55%\n",
            "\n",
            "Train Epoch:9[0/60000 0%]\tTrain Loss:0.210846\n",
            "Train Epoch:9[6400/60000 11%]\tTrain Loss:0.394500\n",
            "Train Epoch:9[12800/60000 21%]\tTrain Loss:0.525804\n",
            "Train Epoch:9[19200/60000 32%]\tTrain Loss:0.935130\n",
            "Train Epoch:9[25600/60000 43%]\tTrain Loss:0.554022\n",
            "Train Epoch:9[32000/60000 53%]\tTrain Loss:0.602577\n",
            "Train Epoch:9[38400/60000 64%]\tTrain Loss:0.323722\n",
            "Train Epoch:9[44800/60000 75%]\tTrain Loss:0.432627\n",
            "Train Epoch:9[51200/60000 85%]\tTrain Loss:0.220912\n",
            "Train Epoch:9[57600/60000 96%]\tTrain Loss:0.162612\n",
            "\n",
            "[EPOCH:9]\\ \tTest Loss : 0.0109 \tTest Accuracy:90.00%\n",
            "\n",
            "Train Epoch:10[0/60000 0%]\tTrain Loss:0.596142\n",
            "Train Epoch:10[6400/60000 11%]\tTrain Loss:0.158334\n",
            "Train Epoch:10[12800/60000 21%]\tTrain Loss:0.264012\n",
            "Train Epoch:10[19200/60000 32%]\tTrain Loss:0.192708\n",
            "Train Epoch:10[25600/60000 43%]\tTrain Loss:0.240109\n",
            "Train Epoch:10[32000/60000 53%]\tTrain Loss:0.384707\n",
            "Train Epoch:10[38400/60000 64%]\tTrain Loss:0.775324\n",
            "Train Epoch:10[44800/60000 75%]\tTrain Loss:0.513929\n",
            "Train Epoch:10[51200/60000 85%]\tTrain Loss:0.164877\n",
            "Train Epoch:10[57600/60000 96%]\tTrain Loss:0.478534\n",
            "\n",
            "[EPOCH:10]\\ \tTest Loss : 0.0105 \tTest Accuracy:90.03%\n",
            "\n"
          ],
          "name": "stdout"
        }
      ]
    },
    {
      "cell_type": "markdown",
      "metadata": {
        "id": "XoMrvhBnR24i"
      },
      "source": [
        "---"
      ]
    },
    {
      "cell_type": "markdown",
      "metadata": {
        "id": "Mz1kgST-R6TR"
      },
      "source": [
        "# 딥러닝 모델을 개선하는 방법"
      ]
    },
    {
      "cell_type": "markdown",
      "metadata": {
        "id": "Ro5-tAfERkum"
      },
      "source": [
        "## Dropout을 적용한 신경망\n",
        "- 과적합과 경사소실에 대한 문제를 해결하기 위한 알고리즘\n",
        "\n",
        "(1) 효과\n",
        "- 신경망 학습 중 Layer의 노드를 랜덤하게 Drop함으로서 Generalization 효과를 냄\n",
        "\n",
        "(2) 구동원리\n",
        "- 실제 뉴런을 삭제하는 게 아님. 행렬에 0을 대입하여 연산 수행하는 것.\n",
        "-- 대다수의 머신러닝 알고리즘은 input data, weight, hidden layer 모두 행렬 연산 수행함\n",
        "\n",
        "- 누락할 뉴런 비율을 설정함\n",
        "\n",
        "(3) 활용\n",
        "- 신경망 설계시 많이 이용하는 기술임\n",
        "- 훈련 데이터에 대한 과적합을 방지하여 결과적으로 모델 정확도가 좋아짐\n",
        "- 주의 : 충분히 많은 epoch 수를 설정하여 훈련하고 비교해야 Dropout 효과를 알 수 있음\n",
        "\n",
        "(4) Pytorch에서 구현 방법\n",
        "- self.dropout_prob를 설정하고\n",
        "- 출력층을 제외한 각 층의 끝에 설정함\n",
        "- 출력층에 dropout을 설정하지 않는 이유 : 이득이 없고 성능만 떨어짐\n"
      ]
    },
    {
      "cell_type": "code",
      "metadata": {
        "id": "eI97BoCDRopf"
      },
      "source": [
        "# 모델 수정 - dropout 추가\n",
        "\n",
        "class Net(nn.Module):\n",
        "    # 생성자 - 초기화 메소드\n",
        "    def __init__(self):\n",
        "        # 상위 클래스의 생성자를 호출\n",
        "        super(Net, self).__init__()\n",
        "        # 인스턴스 변수 초기화 - 층을 쌓음\n",
        "        self.fc1 = nn.Linear(28*28, 512)   # 입력층\n",
        "        self.fc2 = nn.Linear(512, 256)     # 은닉층\n",
        "        self.fc3 = nn.Linear(256, 10)      # 출력층\n",
        "\n",
        "        # dropout 설정 추가\n",
        "        self.dropout_prob = 0.5\n",
        "\n",
        "    # Forward Propagation을 위한 함수\n",
        "    def forward(self, x):\n",
        "        # 입력 데이터를 만들기 위해서 28*28의 1차원 데이터로 펼침\n",
        "        x = x.view(-1, 28*28)\n",
        "        \n",
        "        # 입력층을 활성화해서 다음으로 넘김\n",
        "        x = self.fc1(x)\n",
        "        x = F.sigmoid(x)\n",
        "        # dropout 추가\n",
        "        x = F.dropout(x, training = self.training, p = self.dropout_prob)\n",
        "\n",
        "        \n",
        "        # 은닉층을 활성화해서 다음으로 넘김\n",
        "        x = self.fc2(x)\n",
        "        x = F.sigmoid(x)\n",
        "        # dropout 추가\n",
        "        x = F.dropout(x, training = self.training, p = self.dropout_prob)\n",
        "        \n",
        "        # 출력층을 활성화함\n",
        "        x = self.fc3(x)\n",
        "        x = F.log_softmax(x, dim=1)\n",
        "        # 출력층에는 dropout을 설정하지 않음 ! 성능을 떨어뜨릴 뿐, 이득이 없음.\n",
        "\n",
        "        return x"
      ],
      "execution_count": null,
      "outputs": []
    },
    {
      "cell_type": "code",
      "metadata": {
        "id": "lSNse022T5qx"
      },
      "source": [
        "# 모델 생성\n",
        "model = Net().to(DEVICE)\n",
        "\n",
        "# Optimizer 정의\n",
        "optimizer = torch.optim.SGD(model.parameters(), lr=0.01, momentum=0.5)\n",
        "\n",
        "# Loss Function 정의\n",
        "criterion = nn.CrossEntropyLoss()"
      ],
      "execution_count": 72,
      "outputs": []
    },
    {
      "cell_type": "code",
      "metadata": {
        "colab": {
          "base_uri": "https://localhost:8080/"
        },
        "id": "QqDSIf6PUCDP",
        "outputId": "26eceac3-da50-41fb-fcfa-8e213f64ab04"
      },
      "source": [
        "# 모델 훈련\n",
        "for epoch in range(1, EPOCHS+1):\n",
        "    # 훈련\n",
        "    train(model , train_loader, optimizer, log_interval=200)\n",
        "    # 검증해서 loss, accuracy 받아오기\n",
        "    test_loss, test_accuracy = evaluate(model, test_loader)\n",
        "    # 출력\n",
        "    print('\\n[EPOCH:{}]\\ \\tTest Loss : {:.4f} \\tTest Accuracy:{:.2f}%\\n'.format(epoch, test_loss, test_accuracy))\n",
        "\n",
        "# Dropout 효과 확인\n",
        "# 전 : [EPOCH:10]\\ \tTest Loss : 0.0105 \tTest Accuracy:90.03%\n",
        "# 후 : [EPOCH:10]\\ \tTest Loss : 0.0103 \tTest Accuracy:90.29%\n",
        "# epoch 수가 적어서 Dropout의 효과를 알기 어려움\n",
        "# Dropout으로 뉴런의 일부 값을 잃기 때문에 적은 epoch에서는 오히려 모델 성능이 나빠질 가능성도 있음"
      ],
      "execution_count": 73,
      "outputs": [
        {
          "output_type": "stream",
          "text": [
            "/usr/local/lib/python3.7/dist-packages/torch/nn/functional.py:1805: UserWarning: nn.functional.sigmoid is deprecated. Use torch.sigmoid instead.\n",
            "  warnings.warn(\"nn.functional.sigmoid is deprecated. Use torch.sigmoid instead.\")\n"
          ],
          "name": "stderr"
        },
        {
          "output_type": "stream",
          "text": [
            "Train Epoch:1[0/60000 0%]\tTrain Loss:2.313703\n",
            "Train Epoch:1[6400/60000 11%]\tTrain Loss:2.318047\n",
            "Train Epoch:1[12800/60000 21%]\tTrain Loss:2.282327\n",
            "Train Epoch:1[19200/60000 32%]\tTrain Loss:2.313968\n",
            "Train Epoch:1[25600/60000 43%]\tTrain Loss:2.295457\n",
            "Train Epoch:1[32000/60000 53%]\tTrain Loss:2.243975\n",
            "Train Epoch:1[38400/60000 64%]\tTrain Loss:2.262578\n",
            "Train Epoch:1[44800/60000 75%]\tTrain Loss:2.269325\n",
            "Train Epoch:1[51200/60000 85%]\tTrain Loss:2.328547\n",
            "Train Epoch:1[57600/60000 96%]\tTrain Loss:2.251366\n",
            "\n",
            "[EPOCH:1]\\ \tTest Loss : 0.0695 \tTest Accuracy:33.98%\n",
            "\n",
            "Train Epoch:2[0/60000 0%]\tTrain Loss:2.244982\n",
            "Train Epoch:2[6400/60000 11%]\tTrain Loss:2.182992\n",
            "Train Epoch:2[12800/60000 21%]\tTrain Loss:2.180601\n",
            "Train Epoch:2[19200/60000 32%]\tTrain Loss:2.047811\n",
            "Train Epoch:2[25600/60000 43%]\tTrain Loss:2.092475\n",
            "Train Epoch:2[32000/60000 53%]\tTrain Loss:1.841512\n",
            "Train Epoch:2[38400/60000 64%]\tTrain Loss:1.626981\n",
            "Train Epoch:2[44800/60000 75%]\tTrain Loss:1.439450\n",
            "Train Epoch:2[51200/60000 85%]\tTrain Loss:1.500099\n",
            "Train Epoch:2[57600/60000 96%]\tTrain Loss:1.264195\n",
            "\n",
            "[EPOCH:2]\\ \tTest Loss : 0.0386 \tTest Accuracy:66.25%\n",
            "\n",
            "Train Epoch:3[0/60000 0%]\tTrain Loss:1.101766\n",
            "Train Epoch:3[6400/60000 11%]\tTrain Loss:1.130491\n",
            "Train Epoch:3[12800/60000 21%]\tTrain Loss:1.078328\n",
            "Train Epoch:3[19200/60000 32%]\tTrain Loss:0.933993\n",
            "Train Epoch:3[25600/60000 43%]\tTrain Loss:1.056363\n",
            "Train Epoch:3[32000/60000 53%]\tTrain Loss:0.699210\n",
            "Train Epoch:3[38400/60000 64%]\tTrain Loss:0.810201\n",
            "Train Epoch:3[44800/60000 75%]\tTrain Loss:0.944378\n",
            "Train Epoch:3[51200/60000 85%]\tTrain Loss:0.591111\n",
            "Train Epoch:3[57600/60000 96%]\tTrain Loss:0.598370\n",
            "\n",
            "[EPOCH:3]\\ \tTest Loss : 0.0237 \tTest Accuracy:77.70%\n",
            "\n",
            "Train Epoch:4[0/60000 0%]\tTrain Loss:0.779183\n",
            "Train Epoch:4[6400/60000 11%]\tTrain Loss:0.707513\n",
            "Train Epoch:4[12800/60000 21%]\tTrain Loss:0.778977\n",
            "Train Epoch:4[19200/60000 32%]\tTrain Loss:0.625036\n",
            "Train Epoch:4[25600/60000 43%]\tTrain Loss:0.473246\n",
            "Train Epoch:4[32000/60000 53%]\tTrain Loss:0.919799\n",
            "Train Epoch:4[38400/60000 64%]\tTrain Loss:0.534047\n",
            "Train Epoch:4[44800/60000 75%]\tTrain Loss:0.432051\n",
            "Train Epoch:4[51200/60000 85%]\tTrain Loss:0.791829\n",
            "Train Epoch:4[57600/60000 96%]\tTrain Loss:0.567530\n",
            "\n",
            "[EPOCH:4]\\ \tTest Loss : 0.0175 \tTest Accuracy:83.60%\n",
            "\n",
            "Train Epoch:5[0/60000 0%]\tTrain Loss:0.321320\n",
            "Train Epoch:5[6400/60000 11%]\tTrain Loss:0.519475\n",
            "Train Epoch:5[12800/60000 21%]\tTrain Loss:0.380291\n",
            "Train Epoch:5[19200/60000 32%]\tTrain Loss:0.456002\n",
            "Train Epoch:5[25600/60000 43%]\tTrain Loss:0.387021\n",
            "Train Epoch:5[32000/60000 53%]\tTrain Loss:0.461455\n",
            "Train Epoch:5[38400/60000 64%]\tTrain Loss:0.567795\n",
            "Train Epoch:5[44800/60000 75%]\tTrain Loss:0.482719\n",
            "Train Epoch:5[51200/60000 85%]\tTrain Loss:0.364323\n",
            "Train Epoch:5[57600/60000 96%]\tTrain Loss:0.514712\n",
            "\n",
            "[EPOCH:5]\\ \tTest Loss : 0.0142 \tTest Accuracy:87.05%\n",
            "\n",
            "Train Epoch:6[0/60000 0%]\tTrain Loss:0.456992\n",
            "Train Epoch:6[6400/60000 11%]\tTrain Loss:0.326146\n",
            "Train Epoch:6[12800/60000 21%]\tTrain Loss:0.372137\n",
            "Train Epoch:6[19200/60000 32%]\tTrain Loss:0.439710\n",
            "Train Epoch:6[25600/60000 43%]\tTrain Loss:0.320669\n",
            "Train Epoch:6[32000/60000 53%]\tTrain Loss:0.575854\n",
            "Train Epoch:6[38400/60000 64%]\tTrain Loss:0.708860\n",
            "Train Epoch:6[44800/60000 75%]\tTrain Loss:0.549097\n",
            "Train Epoch:6[51200/60000 85%]\tTrain Loss:0.212419\n",
            "Train Epoch:6[57600/60000 96%]\tTrain Loss:0.429494\n",
            "\n",
            "[EPOCH:6]\\ \tTest Loss : 0.0127 \tTest Accuracy:88.18%\n",
            "\n",
            "Train Epoch:7[0/60000 0%]\tTrain Loss:0.228579\n",
            "Train Epoch:7[6400/60000 11%]\tTrain Loss:0.197803\n",
            "Train Epoch:7[12800/60000 21%]\tTrain Loss:0.467515\n",
            "Train Epoch:7[19200/60000 32%]\tTrain Loss:0.370276\n",
            "Train Epoch:7[25600/60000 43%]\tTrain Loss:0.159772\n",
            "Train Epoch:7[32000/60000 53%]\tTrain Loss:1.048970\n",
            "Train Epoch:7[38400/60000 64%]\tTrain Loss:0.384499\n",
            "Train Epoch:7[44800/60000 75%]\tTrain Loss:0.334874\n",
            "Train Epoch:7[51200/60000 85%]\tTrain Loss:0.297880\n",
            "Train Epoch:7[57600/60000 96%]\tTrain Loss:0.148771\n",
            "\n",
            "[EPOCH:7]\\ \tTest Loss : 0.0117 \tTest Accuracy:89.02%\n",
            "\n",
            "Train Epoch:8[0/60000 0%]\tTrain Loss:0.462868\n",
            "Train Epoch:8[6400/60000 11%]\tTrain Loss:0.385705\n",
            "Train Epoch:8[12800/60000 21%]\tTrain Loss:0.308631\n",
            "Train Epoch:8[19200/60000 32%]\tTrain Loss:0.639933\n",
            "Train Epoch:8[25600/60000 43%]\tTrain Loss:0.187301\n",
            "Train Epoch:8[32000/60000 53%]\tTrain Loss:0.537251\n",
            "Train Epoch:8[38400/60000 64%]\tTrain Loss:0.216566\n",
            "Train Epoch:8[44800/60000 75%]\tTrain Loss:0.274595\n",
            "Train Epoch:8[51200/60000 85%]\tTrain Loss:0.308743\n",
            "Train Epoch:8[57600/60000 96%]\tTrain Loss:0.259904\n",
            "\n",
            "[EPOCH:8]\\ \tTest Loss : 0.0112 \tTest Accuracy:89.59%\n",
            "\n",
            "Train Epoch:9[0/60000 0%]\tTrain Loss:0.608772\n",
            "Train Epoch:9[6400/60000 11%]\tTrain Loss:0.322217\n",
            "Train Epoch:9[12800/60000 21%]\tTrain Loss:0.424774\n",
            "Train Epoch:9[19200/60000 32%]\tTrain Loss:0.216360\n",
            "Train Epoch:9[25600/60000 43%]\tTrain Loss:0.408571\n",
            "Train Epoch:9[32000/60000 53%]\tTrain Loss:0.313608\n",
            "Train Epoch:9[38400/60000 64%]\tTrain Loss:0.108271\n",
            "Train Epoch:9[44800/60000 75%]\tTrain Loss:0.384065\n",
            "Train Epoch:9[51200/60000 85%]\tTrain Loss:0.341973\n",
            "Train Epoch:9[57600/60000 96%]\tTrain Loss:0.336165\n",
            "\n",
            "[EPOCH:9]\\ \tTest Loss : 0.0108 \tTest Accuracy:90.08%\n",
            "\n",
            "Train Epoch:10[0/60000 0%]\tTrain Loss:0.309768\n",
            "Train Epoch:10[6400/60000 11%]\tTrain Loss:0.334849\n",
            "Train Epoch:10[12800/60000 21%]\tTrain Loss:0.354752\n",
            "Train Epoch:10[19200/60000 32%]\tTrain Loss:0.405705\n",
            "Train Epoch:10[25600/60000 43%]\tTrain Loss:0.319697\n",
            "Train Epoch:10[32000/60000 53%]\tTrain Loss:0.456018\n",
            "Train Epoch:10[38400/60000 64%]\tTrain Loss:0.329057\n",
            "Train Epoch:10[44800/60000 75%]\tTrain Loss:0.318440\n",
            "Train Epoch:10[51200/60000 85%]\tTrain Loss:0.330937\n",
            "Train Epoch:10[57600/60000 96%]\tTrain Loss:0.163030\n",
            "\n",
            "[EPOCH:10]\\ \tTest Loss : 0.0103 \tTest Accuracy:90.29%\n",
            "\n"
          ],
          "name": "stdout"
        }
      ]
    },
    {
      "cell_type": "markdown",
      "metadata": {
        "id": "wC0qkdidX2Y-"
      },
      "source": [
        "## 활성화 함수가 ReLU인 신경망"
      ]
    },
    {
      "cell_type": "code",
      "metadata": {
        "id": "Nx84pownX-ju"
      },
      "source": [
        "# 모델 수정 - dropout 추가\n",
        "\n",
        "class Net(nn.Module):\n",
        "    # 생성자 - 초기화 메소드\n",
        "    def __init__(self):\n",
        "        # 상위 클래스의 생성자를 호출\n",
        "        super(Net, self).__init__()\n",
        "        # 인스턴스 변수 초기화 - 층을 쌓음\n",
        "        self.fc1 = nn.Linear(28*28, 512)   # 입력층\n",
        "        self.fc2 = nn.Linear(512, 256)     # 은닉층\n",
        "        self.fc3 = nn.Linear(256, 10)      # 출력층\n",
        "\n",
        "        # dropout 설정 추가\n",
        "        self.dropout_prob = 0.5\n",
        "\n",
        "    # Forward Propagation을 위한 함수\n",
        "    def forward(self, x):\n",
        "        # 입력 데이터를 만들기 위해서 28*28의 1차원 데이터로 펼침\n",
        "        x = x.view(-1, 28*28)\n",
        "        \n",
        "        # 입력층을 활성화해서 다음으로 넘김\n",
        "        x = self.fc1(x)\n",
        "        x = F.relu(x)\n",
        "        # dropout 추가\n",
        "        x = F.dropout(x, training = self.training, p = self.dropout_prob)\n",
        "\n",
        "        \n",
        "        # 은닉층을 활성화해서 다음으로 넘김\n",
        "        x = self.fc2(x)\n",
        "        x = F.relu(x)\n",
        "        # dropout 추가\n",
        "        x = F.dropout(x, training = self.training, p = self.dropout_prob)\n",
        "        \n",
        "        # 출력층을 활성화함\n",
        "        x = self.fc3(x)\n",
        "        x = F.log_softmax(x, dim=1)\n",
        "        # 출력층에는 dropout을 설정하지 않음 ! 성능을 떨어뜨릴 뿐, 이득이 없음.\n",
        "\n",
        "        return x"
      ],
      "execution_count": 74,
      "outputs": []
    },
    {
      "cell_type": "code",
      "metadata": {
        "id": "FkC_jWp9X-ju"
      },
      "source": [
        "# 모델 생성\n",
        "model = Net().to(DEVICE)\n",
        "\n",
        "# Optimizer 정의\n",
        "optimizer = torch.optim.SGD(model.parameters(), lr=0.01, momentum=0.5)\n",
        "\n",
        "# Loss Function 정의\n",
        "criterion = nn.CrossEntropyLoss()"
      ],
      "execution_count": 75,
      "outputs": []
    },
    {
      "cell_type": "code",
      "metadata": {
        "colab": {
          "base_uri": "https://localhost:8080/"
        },
        "id": "r1FJvEAUX-ju",
        "outputId": "f67bb940-6a44-493c-a737-b4f3624102a5"
      },
      "source": [
        "# 모델 훈련\n",
        "for epoch in range(1, EPOCHS+1):\n",
        "    # 훈련\n",
        "    train(model , train_loader, optimizer, log_interval=200)\n",
        "    # 검증해서 loss, accuracy 받아오기\n",
        "    test_loss, test_accuracy = evaluate(model, test_loader)\n",
        "    # 출력\n",
        "    print('\\n[EPOCH:{}]\\ \\tTest Loss : {:.4f} \\tTest Accuracy:{:.2f}%\\n'.format(epoch, test_loss, test_accuracy))\n",
        "\n",
        "# 활성화함수 relu 효과 확인\n",
        "# 전 : [EPOCH:10]\\ \tTest Loss : 0.0103 \tTest Accuracy:90.29%\n",
        "# 후 : [EPOCH:10]\\ \tTest Loss : 0.0027 \tTest Accuracy:97.40%\n",
        "# Loss는 감소하고 Accuracy는 증가함\n",
        "# epoch 수가 적어서 ReLU의 효과를 알기 어려움\n",
        "# 활성화함수들을 비교해보면 epoch 수가 충분히 커질 때 성능이 차이남"
      ],
      "execution_count": 76,
      "outputs": [
        {
          "output_type": "stream",
          "text": [
            "Train Epoch:1[0/60000 0%]\tTrain Loss:2.292025\n",
            "Train Epoch:1[6400/60000 11%]\tTrain Loss:2.068696\n",
            "Train Epoch:1[12800/60000 21%]\tTrain Loss:1.315995\n",
            "Train Epoch:1[19200/60000 32%]\tTrain Loss:0.666023\n",
            "Train Epoch:1[25600/60000 43%]\tTrain Loss:0.627972\n",
            "Train Epoch:1[32000/60000 53%]\tTrain Loss:0.720902\n",
            "Train Epoch:1[38400/60000 64%]\tTrain Loss:0.572086\n",
            "Train Epoch:1[44800/60000 75%]\tTrain Loss:0.495520\n",
            "Train Epoch:1[51200/60000 85%]\tTrain Loss:0.237104\n",
            "Train Epoch:1[57600/60000 96%]\tTrain Loss:0.445136\n",
            "\n",
            "[EPOCH:1]\\ \tTest Loss : 0.0100 \tTest Accuracy:90.84%\n",
            "\n",
            "Train Epoch:2[0/60000 0%]\tTrain Loss:0.438757\n",
            "Train Epoch:2[6400/60000 11%]\tTrain Loss:0.453742\n",
            "Train Epoch:2[12800/60000 21%]\tTrain Loss:0.291302\n",
            "Train Epoch:2[19200/60000 32%]\tTrain Loss:0.353523\n",
            "Train Epoch:2[25600/60000 43%]\tTrain Loss:0.342037\n",
            "Train Epoch:2[32000/60000 53%]\tTrain Loss:0.338289\n",
            "Train Epoch:2[38400/60000 64%]\tTrain Loss:0.231173\n",
            "Train Epoch:2[44800/60000 75%]\tTrain Loss:0.564083\n",
            "Train Epoch:2[51200/60000 85%]\tTrain Loss:0.219222\n",
            "Train Epoch:2[57600/60000 96%]\tTrain Loss:0.292490\n",
            "\n",
            "[EPOCH:2]\\ \tTest Loss : 0.0071 \tTest Accuracy:93.31%\n",
            "\n",
            "Train Epoch:3[0/60000 0%]\tTrain Loss:0.296917\n",
            "Train Epoch:3[6400/60000 11%]\tTrain Loss:0.312748\n",
            "Train Epoch:3[12800/60000 21%]\tTrain Loss:0.222546\n",
            "Train Epoch:3[19200/60000 32%]\tTrain Loss:0.558233\n",
            "Train Epoch:3[25600/60000 43%]\tTrain Loss:0.085960\n",
            "Train Epoch:3[32000/60000 53%]\tTrain Loss:0.203975\n",
            "Train Epoch:3[38400/60000 64%]\tTrain Loss:0.332533\n",
            "Train Epoch:3[44800/60000 75%]\tTrain Loss:0.194152\n",
            "Train Epoch:3[51200/60000 85%]\tTrain Loss:0.114302\n",
            "Train Epoch:3[57600/60000 96%]\tTrain Loss:0.183914\n",
            "\n",
            "[EPOCH:3]\\ \tTest Loss : 0.0054 \tTest Accuracy:94.87%\n",
            "\n",
            "Train Epoch:4[0/60000 0%]\tTrain Loss:0.733554\n",
            "Train Epoch:4[6400/60000 11%]\tTrain Loss:0.195264\n",
            "Train Epoch:4[12800/60000 21%]\tTrain Loss:0.324975\n",
            "Train Epoch:4[19200/60000 32%]\tTrain Loss:0.192171\n",
            "Train Epoch:4[25600/60000 43%]\tTrain Loss:0.185550\n",
            "Train Epoch:4[32000/60000 53%]\tTrain Loss:0.242182\n",
            "Train Epoch:4[38400/60000 64%]\tTrain Loss:0.071811\n",
            "Train Epoch:4[44800/60000 75%]\tTrain Loss:0.256948\n",
            "Train Epoch:4[51200/60000 85%]\tTrain Loss:0.265695\n",
            "Train Epoch:4[57600/60000 96%]\tTrain Loss:0.136075\n",
            "\n",
            "[EPOCH:4]\\ \tTest Loss : 0.0045 \tTest Accuracy:95.67%\n",
            "\n",
            "Train Epoch:5[0/60000 0%]\tTrain Loss:0.095860\n",
            "Train Epoch:5[6400/60000 11%]\tTrain Loss:0.114942\n",
            "Train Epoch:5[12800/60000 21%]\tTrain Loss:0.217800\n",
            "Train Epoch:5[19200/60000 32%]\tTrain Loss:0.142062\n",
            "Train Epoch:5[25600/60000 43%]\tTrain Loss:0.100483\n",
            "Train Epoch:5[32000/60000 53%]\tTrain Loss:0.309891\n",
            "Train Epoch:5[38400/60000 64%]\tTrain Loss:0.278420\n",
            "Train Epoch:5[44800/60000 75%]\tTrain Loss:0.133568\n",
            "Train Epoch:5[51200/60000 85%]\tTrain Loss:0.395500\n",
            "Train Epoch:5[57600/60000 96%]\tTrain Loss:0.494767\n",
            "\n",
            "[EPOCH:5]\\ \tTest Loss : 0.0039 \tTest Accuracy:96.09%\n",
            "\n",
            "Train Epoch:6[0/60000 0%]\tTrain Loss:0.314959\n",
            "Train Epoch:6[6400/60000 11%]\tTrain Loss:0.181422\n",
            "Train Epoch:6[12800/60000 21%]\tTrain Loss:0.139457\n",
            "Train Epoch:6[19200/60000 32%]\tTrain Loss:0.337658\n",
            "Train Epoch:6[25600/60000 43%]\tTrain Loss:0.235195\n",
            "Train Epoch:6[32000/60000 53%]\tTrain Loss:0.238660\n",
            "Train Epoch:6[38400/60000 64%]\tTrain Loss:0.070450\n",
            "Train Epoch:6[44800/60000 75%]\tTrain Loss:0.612417\n",
            "Train Epoch:6[51200/60000 85%]\tTrain Loss:0.101089\n",
            "Train Epoch:6[57600/60000 96%]\tTrain Loss:0.119283\n",
            "\n",
            "[EPOCH:6]\\ \tTest Loss : 0.0035 \tTest Accuracy:96.40%\n",
            "\n",
            "Train Epoch:7[0/60000 0%]\tTrain Loss:0.122808\n",
            "Train Epoch:7[6400/60000 11%]\tTrain Loss:0.081148\n",
            "Train Epoch:7[12800/60000 21%]\tTrain Loss:0.232924\n",
            "Train Epoch:7[19200/60000 32%]\tTrain Loss:0.055684\n",
            "Train Epoch:7[25600/60000 43%]\tTrain Loss:0.259237\n",
            "Train Epoch:7[32000/60000 53%]\tTrain Loss:0.124061\n",
            "Train Epoch:7[38400/60000 64%]\tTrain Loss:0.108402\n",
            "Train Epoch:7[44800/60000 75%]\tTrain Loss:0.042450\n",
            "Train Epoch:7[51200/60000 85%]\tTrain Loss:0.033612\n",
            "Train Epoch:7[57600/60000 96%]\tTrain Loss:0.276586\n",
            "\n",
            "[EPOCH:7]\\ \tTest Loss : 0.0031 \tTest Accuracy:96.82%\n",
            "\n",
            "Train Epoch:8[0/60000 0%]\tTrain Loss:0.170257\n",
            "Train Epoch:8[6400/60000 11%]\tTrain Loss:0.054169\n",
            "Train Epoch:8[12800/60000 21%]\tTrain Loss:0.099256\n",
            "Train Epoch:8[19200/60000 32%]\tTrain Loss:0.114149\n",
            "Train Epoch:8[25600/60000 43%]\tTrain Loss:0.331623\n",
            "Train Epoch:8[32000/60000 53%]\tTrain Loss:0.073089\n",
            "Train Epoch:8[38400/60000 64%]\tTrain Loss:0.182846\n",
            "Train Epoch:8[44800/60000 75%]\tTrain Loss:0.015920\n",
            "Train Epoch:8[51200/60000 85%]\tTrain Loss:0.187800\n",
            "Train Epoch:8[57600/60000 96%]\tTrain Loss:0.069101\n",
            "\n",
            "[EPOCH:8]\\ \tTest Loss : 0.0030 \tTest Accuracy:96.95%\n",
            "\n",
            "Train Epoch:9[0/60000 0%]\tTrain Loss:0.044018\n",
            "Train Epoch:9[6400/60000 11%]\tTrain Loss:0.049929\n",
            "Train Epoch:9[12800/60000 21%]\tTrain Loss:0.070538\n",
            "Train Epoch:9[19200/60000 32%]\tTrain Loss:0.094354\n",
            "Train Epoch:9[25600/60000 43%]\tTrain Loss:0.079536\n",
            "Train Epoch:9[32000/60000 53%]\tTrain Loss:0.040476\n",
            "Train Epoch:9[38400/60000 64%]\tTrain Loss:0.041143\n",
            "Train Epoch:9[44800/60000 75%]\tTrain Loss:0.042622\n",
            "Train Epoch:9[51200/60000 85%]\tTrain Loss:0.045737\n",
            "Train Epoch:9[57600/60000 96%]\tTrain Loss:0.075826\n",
            "\n",
            "[EPOCH:9]\\ \tTest Loss : 0.0027 \tTest Accuracy:97.32%\n",
            "\n",
            "Train Epoch:10[0/60000 0%]\tTrain Loss:0.098554\n",
            "Train Epoch:10[6400/60000 11%]\tTrain Loss:0.053207\n",
            "Train Epoch:10[12800/60000 21%]\tTrain Loss:0.026369\n",
            "Train Epoch:10[19200/60000 32%]\tTrain Loss:0.074704\n",
            "Train Epoch:10[25600/60000 43%]\tTrain Loss:0.055265\n",
            "Train Epoch:10[32000/60000 53%]\tTrain Loss:0.048704\n",
            "Train Epoch:10[38400/60000 64%]\tTrain Loss:0.031953\n",
            "Train Epoch:10[44800/60000 75%]\tTrain Loss:0.021942\n",
            "Train Epoch:10[51200/60000 85%]\tTrain Loss:0.064979\n",
            "Train Epoch:10[57600/60000 96%]\tTrain Loss:0.184110\n",
            "\n",
            "[EPOCH:10]\\ \tTest Loss : 0.0027 \tTest Accuracy:97.40%\n",
            "\n"
          ],
          "name": "stdout"
        }
      ]
    },
    {
      "cell_type": "markdown",
      "metadata": {
        "id": "fKWRoxmJ4F7Z"
      },
      "source": [
        "---\n",
        "### Autograd를 사용\n",
        "\n",
        "- Pytorch의 자동미분 엔진\n",
        "\t- 신경망이 BackPropagation(역전파)를 사용할 때,\n",
        "\t- 파라미터 업데이트 하는 방법을 구현하기 위한 엔진\n",
        "\n",
        "- 4가지 값을 이용\n",
        "\t- BATSH_SIZE = 64\n",
        "\t- INPUT_SIZE = 1000\n",
        "\t- HIDDEN_SIZE = 100\n",
        "\t- OUTPUT_SIZE = 10\n",
        "\n",
        "        - INPUT_SIZE가 (64, 1000)인 데이터와\n",
        "        - (1000, 100) 크기의 행렬과 행렬곱을 계산하기 위한 수\n",
        "        - OUTPUT_SIZE는 최종으로 출력되는 값의 벡터의 크기를 의미"
      ]
    },
    {
      "cell_type": "code",
      "metadata": {
        "id": "eYc1b-JqRp9J"
      },
      "source": [
        ""
      ],
      "execution_count": null,
      "outputs": []
    }
  ]
}