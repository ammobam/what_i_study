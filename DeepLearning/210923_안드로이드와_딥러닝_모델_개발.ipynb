{
  "nbformat": 4,
  "nbformat_minor": 0,
  "metadata": {
    "colab": {
      "name": "210923 안드로이드와 딥러닝 모델 개발.ipynb",
      "provenance": [],
      "collapsed_sections": []
    },
    "kernelspec": {
      "name": "python3",
      "display_name": "Python 3"
    },
    "language_info": {
      "name": "python"
    },
    "accelerator": "GPU"
  },
  "cells": [
    {
      "cell_type": "markdown",
      "metadata": {
        "id": "HfvEpM6nKbFX"
      },
      "source": [
        "# 🚀딥러닝 모델 생성"
      ]
    },
    {
      "cell_type": "markdown",
      "metadata": {
        "id": "hHaFgGGMTk7l"
      },
      "source": [
        "# 📌모델 직접 개발하는 경우"
      ]
    },
    {
      "cell_type": "markdown",
      "metadata": {
        "id": "vVwB8steL7UO"
      },
      "source": [
        "## 1. 데이터 가져오기"
      ]
    },
    {
      "cell_type": "code",
      "metadata": {
        "colab": {
          "base_uri": "https://localhost:8080/"
        },
        "id": "2iPKWXbwKWPE",
        "outputId": "518ac170-d45d-4567-833e-5a67cc4e4e82"
      },
      "source": [
        "# 데이터 준비\n",
        "import tensorflow as tf\n",
        "\n",
        "mnist = tf.keras.datasets.mnist\n",
        "print(type(mnist))"
      ],
      "execution_count": 1,
      "outputs": [
        {
          "output_type": "stream",
          "name": "stdout",
          "text": [
            "<class 'module'>\n"
          ]
        }
      ]
    },
    {
      "cell_type": "code",
      "metadata": {
        "colab": {
          "base_uri": "https://localhost:8080/"
        },
        "id": "M4q6i2rbKyFu",
        "outputId": "611497a5-fb1c-4f19-81cd-22e9a689cf88"
      },
      "source": [
        "# 훈련데이터, 검증데이터 가져오기\n",
        "(X_train, y_train), (X_test, y_test) = mnist.load_data()\n",
        "\n",
        "# 확인\n",
        "print(\"X_train:\", X_train.shape, \"\\t X_test:\", X_test.shape)\n",
        "print(\"y_train:\", y_train.shape, \"\\t y_test:\", y_test.shape)"
      ],
      "execution_count": 2,
      "outputs": [
        {
          "output_type": "stream",
          "name": "stdout",
          "text": [
            "Downloading data from https://storage.googleapis.com/tensorflow/tf-keras-datasets/mnist.npz\n",
            "11493376/11490434 [==============================] - 0s 0us/step\n",
            "11501568/11490434 [==============================] - 0s 0us/step\n",
            "X_train: (60000, 28, 28) \t X_test: (10000, 28, 28)\n",
            "y_train: (60000,) \t y_test: (10000,)\n"
          ]
        }
      ]
    },
    {
      "cell_type": "markdown",
      "metadata": {
        "id": "6FcQ9SAUL872"
      },
      "source": [
        "## 2. 데이터 전처리"
      ]
    },
    {
      "cell_type": "code",
      "metadata": {
        "id": "x7RgN2H8LAtV"
      },
      "source": [
        "# 데이터 정규화 - 데이터의 범위를 일정하게 만듦\n",
        "# 원본 데이터 값의 범위는 0-255\n",
        "# 이를 0.0-1.0 사이로 정규화함\n",
        "# 정규화를 할 때 분류 정확도가 개선되는 편\n",
        "X_train, X_test = X_train/255.0, X_test/255.0"
      ],
      "execution_count": 3,
      "outputs": []
    },
    {
      "cell_type": "markdown",
      "metadata": {
        "id": "GruItig0M6Dn"
      },
      "source": [
        "## 3. 모델 생성"
      ]
    },
    {
      "cell_type": "code",
      "metadata": {
        "id": "VbT0gR8vMU8Q"
      },
      "source": [
        "# DNN\n",
        "mlp_model = tf.keras.models.Sequential([\n",
        "        tf.keras.layers.Flatten(input_shape = (28,28)),\n",
        "        tf.keras.layers.Dense(128, activation='relu'),\n",
        "        tf.keras.layers.Dense(10, activation='softmax')\n",
        "])"
      ],
      "execution_count": 24,
      "outputs": []
    },
    {
      "cell_type": "markdown",
      "metadata": {
        "id": "sBvAHEClPlKd"
      },
      "source": [
        "## 4. 모델 컴파일\n",
        "### 손실함수 loss\n",
        "- 회귀는 MSE(값 기준), 분류는 CrossEntropy(확률 기준)를 주로 이용함\n",
        "- 회귀 : MSE, MAE, RMSE\n",
        "- 이진분류 : binary_crossentropy\n",
        "- 다중분류 : sparse_categorical_crossentropy 또는 categorical_crossentropy\n",
        "- 원핫인코딩이 적용된 경우 : categorical_crossentropy\n",
        "- 원핫인코딩이 적용되지 않은 경우 : sparse_categorical_crossentropy"
      ]
    },
    {
      "cell_type": "code",
      "metadata": {
        "id": "RoLPov3yZNKY"
      },
      "source": [
        "# 원핫인코딩\n",
        "y_train = tf.keras.utils.to_categorical(y_train)\n",
        "y_test = tf.keras.utils.to_categorical(y_test)"
      ],
      "execution_count": null,
      "outputs": []
    },
    {
      "cell_type": "code",
      "metadata": {
        "id": "diloMJY1NPvo"
      },
      "source": [
        "# 컴파일\n",
        "# 이 경우 loss 함수는 categorical_crossentropy\n",
        "mlp_model.compile(optimizer='adam',\n",
        "                  loss='categorical_crossentropy',\n",
        "                  metrics=['accuracy'])\n",
        "# sparse_categorical_crossentropy는 입력이 일반 정수임\n",
        "# 각 샘플이 여러 개의 class에 속할 수 있거나, label이 soft probability일 때 사용함"
      ],
      "execution_count": 25,
      "outputs": []
    },
    {
      "cell_type": "markdown",
      "metadata": {
        "id": "_ZYdFD_FSAeF"
      },
      "source": [
        "## 5. 모델 확인"
      ]
    },
    {
      "cell_type": "code",
      "metadata": {
        "colab": {
          "base_uri": "https://localhost:8080/"
        },
        "id": "fMfn-uyEQzA7",
        "outputId": "aa51b1a6-7e72-4b80-b1aa-e4161fa1537a"
      },
      "source": [
        "mlp_model.summary()"
      ],
      "execution_count": 26,
      "outputs": [
        {
          "output_type": "stream",
          "name": "stdout",
          "text": [
            "Model: \"sequential_2\"\n",
            "_________________________________________________________________\n",
            "Layer (type)                 Output Shape              Param #   \n",
            "=================================================================\n",
            "flatten_2 (Flatten)          (None, 784)               0         \n",
            "_________________________________________________________________\n",
            "dense_4 (Dense)              (None, 128)               100480    \n",
            "_________________________________________________________________\n",
            "dense_5 (Dense)              (None, 10)                1290      \n",
            "=================================================================\n",
            "Total params: 101,770\n",
            "Trainable params: 101,770\n",
            "Non-trainable params: 0\n",
            "_________________________________________________________________\n"
          ]
        }
      ]
    },
    {
      "cell_type": "markdown",
      "metadata": {
        "id": "sKKYKRkeSQSR"
      },
      "source": [
        "## 6. 모델 학습"
      ]
    },
    {
      "cell_type": "code",
      "metadata": {
        "colab": {
          "base_uri": "https://localhost:8080/"
        },
        "id": "sIOcB83PSD8I",
        "outputId": "a305a46a-65d2-4ce8-848f-1b1f31eafd76"
      },
      "source": [
        "mlp_model.fit(X_train, y_train, epochs=10)"
      ],
      "execution_count": 27,
      "outputs": [
        {
          "output_type": "stream",
          "name": "stdout",
          "text": [
            "Epoch 1/10\n",
            "1875/1875 [==============================] - 5s 2ms/step - loss: 0.2647 - accuracy: 0.9247\n",
            "Epoch 2/10\n",
            "1875/1875 [==============================] - 4s 2ms/step - loss: 0.1153 - accuracy: 0.9657\n",
            "Epoch 3/10\n",
            "1875/1875 [==============================] - 4s 2ms/step - loss: 0.0785 - accuracy: 0.9765\n",
            "Epoch 4/10\n",
            "1875/1875 [==============================] - 4s 2ms/step - loss: 0.0598 - accuracy: 0.9825\n",
            "Epoch 5/10\n",
            "1875/1875 [==============================] - 4s 2ms/step - loss: 0.0452 - accuracy: 0.9860\n",
            "Epoch 6/10\n",
            "1875/1875 [==============================] - 4s 2ms/step - loss: 0.0366 - accuracy: 0.9883\n",
            "Epoch 7/10\n",
            "1875/1875 [==============================] - 5s 3ms/step - loss: 0.0287 - accuracy: 0.9912\n",
            "Epoch 8/10\n",
            "1875/1875 [==============================] - 4s 2ms/step - loss: 0.0223 - accuracy: 0.9933\n",
            "Epoch 9/10\n",
            "1875/1875 [==============================] - 4s 2ms/step - loss: 0.0197 - accuracy: 0.9940\n",
            "Epoch 10/10\n",
            "1875/1875 [==============================] - 4s 2ms/step - loss: 0.0154 - accuracy: 0.9951\n"
          ]
        },
        {
          "output_type": "execute_result",
          "data": {
            "text/plain": [
              "<keras.callbacks.History at 0x7f7772bb2950>"
            ]
          },
          "metadata": {},
          "execution_count": 27
        }
      ]
    },
    {
      "cell_type": "markdown",
      "metadata": {
        "id": "bYeCGEqLS4cW"
      },
      "source": [
        "## 7. 모델 평가"
      ]
    },
    {
      "cell_type": "code",
      "metadata": {
        "colab": {
          "base_uri": "https://localhost:8080/"
        },
        "id": "OcVi4yqhSXkA",
        "outputId": "1beb2111-ba1c-418f-8d3a-2d8335c91828"
      },
      "source": [
        "mlp_model.evaluate(X_test, y_test, verbose=1)"
      ],
      "execution_count": 28,
      "outputs": [
        {
          "output_type": "stream",
          "name": "stdout",
          "text": [
            "313/313 [==============================] - 1s 1ms/step - loss: 0.0756 - accuracy: 0.9800\n"
          ]
        },
        {
          "output_type": "execute_result",
          "data": {
            "text/plain": [
              "[0.0756344422698021, 0.9800000190734863]"
            ]
          },
          "metadata": {},
          "execution_count": 28
        }
      ]
    },
    {
      "cell_type": "code",
      "metadata": {
        "colab": {
          "base_uri": "https://localhost:8080/"
        },
        "id": "PeX-DnwhTTud",
        "outputId": "887c5fbe-d892-4c2f-91f1-1d71afc57cdf"
      },
      "source": [
        "mlp_model.evaluate(X_test, y_test, verbose=2)"
      ],
      "execution_count": 29,
      "outputs": [
        {
          "output_type": "stream",
          "name": "stdout",
          "text": [
            "313/313 - 0s - loss: 0.0756 - accuracy: 0.9800\n"
          ]
        },
        {
          "output_type": "execute_result",
          "data": {
            "text/plain": [
              "[0.0756344422698021, 0.9800000190734863]"
            ]
          },
          "metadata": {},
          "execution_count": 29
        }
      ]
    },
    {
      "cell_type": "markdown",
      "metadata": {
        "id": "6Cr0alY7Tiy2"
      },
      "source": [
        "# 📌함수를 이용한 모델 생성\n",
        "- Functional API 이용"
      ]
    },
    {
      "cell_type": "code",
      "metadata": {
        "id": "RnpSZ7arTXBT"
      },
      "source": [
        "# DNN\n",
        "mlp_model = tf.keras.models.Sequential([\n",
        "        tf.keras.layers.Flatten(input_shape = (28,28)),\n",
        "        tf.keras.layers.Dense(128, activation='relu'),\n",
        "        tf.keras.layers.Dense(10, activation='softmax')\n",
        "])\n",
        "\n",
        "input = tf.keras.Input(shape=(28,28))\n",
        "x = tf.keras.layers.Flatten()(input)\n",
        "x = tf.keras.layers.Dense(128, activation='relu')(x)\n",
        "x = tf.keras.layers.Dense(10, activation='softmax')(x)\n",
        "output = tf.keras.layers.Dense(10, activation='softmax')(x)"
      ],
      "execution_count": 38,
      "outputs": []
    },
    {
      "cell_type": "code",
      "metadata": {
        "id": "wqDrR3-TUaGB"
      },
      "source": [
        "# 원핫인코딩\n",
        "y_train = tf.keras.utils.to_categorical(y_train)\n",
        "y_test = tf.keras.utils.to_categorical(y_test)\n",
        "\n",
        "# 이 경우 loss 함수는 categorical_crossentropy\n",
        "mlp_model.compile(optimizer='adam',\n",
        "                  loss='categorical_crossentropy',\n",
        "                  metrics=['accuracy'])\n",
        "# sparse_categorical_crossentropy는 입력이 일반 정수임\n",
        "# 각 샘플이 여러 개의 class에 속할 수 있거나, label이 soft probability일 때 사용함"
      ],
      "execution_count": 39,
      "outputs": []
    },
    {
      "cell_type": "code",
      "metadata": {
        "colab": {
          "base_uri": "https://localhost:8080/"
        },
        "id": "DpUphwW3UaGD",
        "outputId": "59c95342-b538-4f52-9e86-6b5804df68d1"
      },
      "source": [
        "mlp_model.fit(X_train, y_train, epochs=10)"
      ],
      "execution_count": 40,
      "outputs": [
        {
          "output_type": "stream",
          "name": "stdout",
          "text": [
            "Epoch 1/10\n",
            "1875/1875 [==============================] - 4s 2ms/step - loss: 0.2623 - accuracy: 0.9247\n",
            "Epoch 2/10\n",
            "1875/1875 [==============================] - 4s 2ms/step - loss: 0.1152 - accuracy: 0.9656\n",
            "Epoch 3/10\n",
            "1875/1875 [==============================] - 4s 2ms/step - loss: 0.0780 - accuracy: 0.9769\n",
            "Epoch 4/10\n",
            "1875/1875 [==============================] - 4s 2ms/step - loss: 0.0595 - accuracy: 0.9815\n",
            "Epoch 5/10\n",
            "1875/1875 [==============================] - 4s 2ms/step - loss: 0.0442 - accuracy: 0.9863\n",
            "Epoch 6/10\n",
            "1875/1875 [==============================] - 4s 2ms/step - loss: 0.0350 - accuracy: 0.9890\n",
            "Epoch 7/10\n",
            "1875/1875 [==============================] - 4s 2ms/step - loss: 0.0266 - accuracy: 0.9926\n",
            "Epoch 8/10\n",
            "1875/1875 [==============================] - 4s 2ms/step - loss: 0.0237 - accuracy: 0.9925\n",
            "Epoch 9/10\n",
            "1875/1875 [==============================] - 4s 2ms/step - loss: 0.0188 - accuracy: 0.9941\n",
            "Epoch 10/10\n",
            "1875/1875 [==============================] - 4s 2ms/step - loss: 0.0146 - accuracy: 0.9954\n"
          ]
        },
        {
          "output_type": "execute_result",
          "data": {
            "text/plain": [
              "<keras.callbacks.History at 0x7f77729cd090>"
            ]
          },
          "metadata": {},
          "execution_count": 40
        }
      ]
    },
    {
      "cell_type": "markdown",
      "metadata": {
        "id": "L_2u5NlrU5ou"
      },
      "source": [
        "# 📌상속을 이용한 모델 생성\n",
        "- 모델의 재활용이 쉬움\n",
        "- 모델 배포시 이용하는 방식"
      ]
    },
    {
      "cell_type": "markdown",
      "metadata": {
        "id": "e0XoqxwDbzqW"
      },
      "source": [
        "### ⚠ '_TupleWrapper' object is not callable\n",
        "- 층을 쌓을 때 불필요한 쉼표(,)가 붙었는지 확인해보고 제거해주자"
      ]
    },
    {
      "cell_type": "code",
      "metadata": {
        "id": "8WbQNL5pVGjc"
      },
      "source": [
        "# 클래스 생성\n",
        "class MLP_Model(tf.keras.Model):\n",
        "    def __init__(self):\n",
        "        super(MLP_Model, self).__init__()\n",
        "        self.flatten = tf.keras.layers.Flatten()\n",
        "        self.relu = tf.keras.layers.Dense(128, activation='relu')\n",
        "        self.softmax = tf.keras.layers.Dense(10, activation='softmax')\n",
        "\n",
        "    def call(self, inputs):\n",
        "        x = self.flatten(inputs)\n",
        "        x = self.relu(x)\n",
        "        return self.softmax(x)\n",
        "\n",
        "# 모델 생성\n",
        "mlp_model = MLP_Model()"
      ],
      "execution_count": 25,
      "outputs": []
    },
    {
      "cell_type": "code",
      "metadata": {
        "id": "O3kcqAsQVGjd"
      },
      "source": [
        "# 모델 컴파일\n",
        "mlp_model.compile(optimizer='adam',\n",
        "                  loss='sparse_categorical_crossentropy',\n",
        "                  metrics=['accuracy'])\n",
        "# sparse_categorical_crossentropy는 입력이 일반 정수임\n",
        "# 각 샘플이 여러 개의 class에 속할 수 있거나, label이 soft probability일 때 사용함"
      ],
      "execution_count": 26,
      "outputs": []
    },
    {
      "cell_type": "code",
      "metadata": {
        "colab": {
          "base_uri": "https://localhost:8080/"
        },
        "id": "EIncGaYXVGjd",
        "outputId": "3540e522-0da6-4c24-ea55-ad828cfab3d7"
      },
      "source": [
        "mlp_model.fit(X_train, y_train, epochs=10)"
      ],
      "execution_count": 27,
      "outputs": [
        {
          "output_type": "stream",
          "name": "stdout",
          "text": [
            "Epoch 1/10\n",
            "1875/1875 [==============================] - 5s 2ms/step - loss: 0.2587 - accuracy: 0.9256\n",
            "Epoch 2/10\n",
            "1875/1875 [==============================] - 4s 2ms/step - loss: 0.1130 - accuracy: 0.9670\n",
            "Epoch 3/10\n",
            "1875/1875 [==============================] - 4s 2ms/step - loss: 0.0778 - accuracy: 0.9769\n",
            "Epoch 4/10\n",
            "1875/1875 [==============================] - 4s 2ms/step - loss: 0.0580 - accuracy: 0.9817\n",
            "Epoch 5/10\n",
            "1875/1875 [==============================] - 4s 2ms/step - loss: 0.0448 - accuracy: 0.9865\n",
            "Epoch 6/10\n",
            "1875/1875 [==============================] - 4s 2ms/step - loss: 0.0347 - accuracy: 0.9890\n",
            "Epoch 7/10\n",
            "1875/1875 [==============================] - 4s 2ms/step - loss: 0.0281 - accuracy: 0.9913\n",
            "Epoch 8/10\n",
            "1875/1875 [==============================] - 4s 2ms/step - loss: 0.0235 - accuracy: 0.9927\n",
            "Epoch 9/10\n",
            "1875/1875 [==============================] - 4s 2ms/step - loss: 0.0195 - accuracy: 0.9941\n",
            "Epoch 10/10\n",
            "1875/1875 [==============================] - 4s 2ms/step - loss: 0.0157 - accuracy: 0.9948\n"
          ]
        },
        {
          "output_type": "execute_result",
          "data": {
            "text/plain": [
              "<keras.callbacks.History at 0x7fa471aa9690>"
            ]
          },
          "metadata": {},
          "execution_count": 27
        }
      ]
    },
    {
      "cell_type": "markdown",
      "metadata": {
        "id": "bLoIGEXXXv1-"
      },
      "source": [
        "# 🚀 합성곱 신경망 이용"
      ]
    },
    {
      "cell_type": "markdown",
      "metadata": {
        "id": "diaHTEFeYExU"
      },
      "source": [
        "## 1. 데이터 가져오기"
      ]
    },
    {
      "cell_type": "code",
      "metadata": {
        "colab": {
          "base_uri": "https://localhost:8080/"
        },
        "id": "kiEXhb_fX4bc",
        "outputId": "214b4031-3647-4755-829f-8024d88e1348"
      },
      "source": [
        "# 데이터 준비\n",
        "import tensorflow as tf\n",
        "\n",
        "mnist = tf.keras.datasets.mnist\n",
        "print(type(mnist))"
      ],
      "execution_count": 4,
      "outputs": [
        {
          "output_type": "stream",
          "name": "stdout",
          "text": [
            "<class 'module'>\n"
          ]
        }
      ]
    },
    {
      "cell_type": "code",
      "metadata": {
        "colab": {
          "base_uri": "https://localhost:8080/"
        },
        "id": "EnR_MXcIX4bd",
        "outputId": "14f3b12d-5073-4771-c46f-bc195b72c4d4"
      },
      "source": [
        "# 훈련데이터, 검증데이터 가져오기\n",
        "(X_train, y_train), (X_test, y_test) = mnist.load_data()\n",
        "\n",
        "# 확인\n",
        "print(\"X_train:\", X_train.shape, \"\\t X_test:\", X_test.shape)\n",
        "print(\"y_train:\", y_train.shape, \"\\t y_test:\", y_test.shape)"
      ],
      "execution_count": 5,
      "outputs": [
        {
          "output_type": "stream",
          "name": "stdout",
          "text": [
            "X_train: (60000, 28, 28) \t X_test: (10000, 28, 28)\n",
            "y_train: (60000,) \t y_test: (10000,)\n"
          ]
        }
      ]
    },
    {
      "cell_type": "code",
      "metadata": {
        "id": "Pfyun5CpX4bd"
      },
      "source": [
        "# 데이터 정규화\n",
        "X_train, X_test = X_train/255.0, X_test/255.0"
      ],
      "execution_count": 6,
      "outputs": []
    },
    {
      "cell_type": "markdown",
      "metadata": {
        "id": "SxMYXVdcYCcd"
      },
      "source": [
        "## 📌2. 데이터 전처리 - CNN에 맞게 데이터 수정\n",
        "- 다중 퍼셉트론 입력 이미지 : 높이, 너비, 2차원 텐서\n",
        "- 합성곱 퍼셉트론 입력 이미지 : 높이, 너비, 3차원 텐서"
      ]
    },
    {
      "cell_type": "code",
      "metadata": {
        "id": "azM-98WQaLjz"
      },
      "source": [
        "# 입력데이터를 CNN에 맞게 수정\n",
        "X_train_4d = X_train.reshape(-1, 28, 28, 1)\n",
        "X_test_4d = X_test.reshape(-1, 28, 28, 1)"
      ],
      "execution_count": 11,
      "outputs": []
    },
    {
      "cell_type": "markdown",
      "metadata": {
        "id": "-76c9GLcarIn"
      },
      "source": [
        "## 3. 모델링"
      ]
    },
    {
      "cell_type": "code",
      "metadata": {
        "id": "tOw3TPU1UTd-"
      },
      "source": [
        "# 모델 생성\n",
        "cnn_model = tf.keras.models.Sequential([\n",
        "            tf.keras.layers.Conv2D(32, (3,3), activation='relu', input_shape=(28,28,1)),\n",
        "            tf.keras.layers.MaxPool2D((2,2)),\n",
        "\n",
        "            tf.keras.layers.Conv2D(64, (3,3), activation='relu'),\n",
        "            tf.keras.layers.MaxPool2D((2,2)),\n",
        "\n",
        "            tf.keras.layers.Conv2D(64, (3,3), activation='relu'),\n",
        "            tf.keras.layers.Flatten(),\n",
        "\n",
        "            tf.keras.layers.Dense(64, activation='relu'),\n",
        "            tf.keras.layers.Dense(10, activation='softmax')\n",
        "])"
      ],
      "execution_count": 7,
      "outputs": []
    },
    {
      "cell_type": "code",
      "metadata": {
        "id": "iIMUuzbBZVrR"
      },
      "source": [
        "# 컴파일\n",
        "# 이 경우 loss 함수는 categorical_crossentropy\n",
        "cnn_model.compile(optimizer='adam',\n",
        "                  loss='sparse_categorical_crossentropy',\n",
        "                  metrics=['accuracy'])"
      ],
      "execution_count": 14,
      "outputs": []
    },
    {
      "cell_type": "code",
      "metadata": {
        "colab": {
          "base_uri": "https://localhost:8080/"
        },
        "id": "ZFul95JOZVrR",
        "outputId": "7da90d18-954e-46e4-b3af-0a38dc6d9ad8"
      },
      "source": [
        "# 모델 확인\n",
        "cnn_model.summary()"
      ],
      "execution_count": 15,
      "outputs": [
        {
          "output_type": "stream",
          "name": "stdout",
          "text": [
            "Model: \"sequential\"\n",
            "_________________________________________________________________\n",
            "Layer (type)                 Output Shape              Param #   \n",
            "=================================================================\n",
            "conv2d (Conv2D)              (None, 26, 26, 32)        320       \n",
            "_________________________________________________________________\n",
            "max_pooling2d (MaxPooling2D) (None, 13, 13, 32)        0         \n",
            "_________________________________________________________________\n",
            "conv2d_1 (Conv2D)            (None, 11, 11, 64)        18496     \n",
            "_________________________________________________________________\n",
            "max_pooling2d_1 (MaxPooling2 (None, 5, 5, 64)          0         \n",
            "_________________________________________________________________\n",
            "conv2d_2 (Conv2D)            (None, 3, 3, 64)          36928     \n",
            "_________________________________________________________________\n",
            "flatten (Flatten)            (None, 576)               0         \n",
            "_________________________________________________________________\n",
            "dense (Dense)                (None, 64)                36928     \n",
            "_________________________________________________________________\n",
            "dense_1 (Dense)              (None, 10)                650       \n",
            "=================================================================\n",
            "Total params: 93,322\n",
            "Trainable params: 93,322\n",
            "Non-trainable params: 0\n",
            "_________________________________________________________________\n"
          ]
        }
      ]
    },
    {
      "cell_type": "markdown",
      "metadata": {
        "id": "XSuVmwPPaCQG"
      },
      "source": [
        "## 4. 모델 훈련"
      ]
    },
    {
      "cell_type": "code",
      "metadata": {
        "colab": {
          "base_uri": "https://localhost:8080/"
        },
        "id": "3EAlJ_FtZVrS",
        "outputId": "506b30fc-c581-44b4-ee6c-b0b30b19f7f9"
      },
      "source": [
        "# 훈련\n",
        "cnn_model.fit(X_train_4d, y_train, epochs=10)"
      ],
      "execution_count": 16,
      "outputs": [
        {
          "output_type": "stream",
          "name": "stdout",
          "text": [
            "Epoch 1/10\n",
            "1875/1875 [==============================] - 42s 6ms/step - loss: 0.1534 - accuracy: 0.9540\n",
            "Epoch 2/10\n",
            "1875/1875 [==============================] - 11s 6ms/step - loss: 0.0459 - accuracy: 0.9857\n",
            "Epoch 3/10\n",
            "1875/1875 [==============================] - 11s 6ms/step - loss: 0.0330 - accuracy: 0.9895\n",
            "Epoch 4/10\n",
            "1875/1875 [==============================] - 11s 6ms/step - loss: 0.0250 - accuracy: 0.9920\n",
            "Epoch 5/10\n",
            "1875/1875 [==============================] - 11s 6ms/step - loss: 0.0203 - accuracy: 0.9934\n",
            "Epoch 6/10\n",
            "1875/1875 [==============================] - 11s 6ms/step - loss: 0.0158 - accuracy: 0.9950\n",
            "Epoch 7/10\n",
            "1875/1875 [==============================] - 11s 6ms/step - loss: 0.0131 - accuracy: 0.9960\n",
            "Epoch 8/10\n",
            "1875/1875 [==============================] - 11s 6ms/step - loss: 0.0105 - accuracy: 0.9967\n",
            "Epoch 9/10\n",
            "1875/1875 [==============================] - 11s 6ms/step - loss: 0.0098 - accuracy: 0.9966\n",
            "Epoch 10/10\n",
            "1875/1875 [==============================] - 11s 6ms/step - loss: 0.0086 - accuracy: 0.9971\n"
          ]
        },
        {
          "output_type": "execute_result",
          "data": {
            "text/plain": [
              "<keras.callbacks.History at 0x7fa471c71a50>"
            ]
          },
          "metadata": {},
          "execution_count": 16
        }
      ]
    },
    {
      "cell_type": "markdown",
      "metadata": {
        "id": "Qmxu43UWbdmy"
      },
      "source": [
        "## 5. 모델 평가\n",
        "- dnn 모델 : accuracy: 0.9800\n",
        "- cnn 모델 : accuracy: 0.9911\n",
        "- 101.1% 향상됨"
      ]
    },
    {
      "cell_type": "code",
      "metadata": {
        "colab": {
          "base_uri": "https://localhost:8080/"
        },
        "id": "J4wtzY0TZVrS",
        "outputId": "8cfd52b8-d6f6-4b53-fffa-28785d6b1154"
      },
      "source": [
        "cnn_model.evaluate(X_test_4d, y_test, verbose=2)"
      ],
      "execution_count": 18,
      "outputs": [
        {
          "output_type": "stream",
          "name": "stdout",
          "text": [
            "313/313 - 1s - loss: 0.0334 - accuracy: 0.9911\n"
          ]
        },
        {
          "output_type": "execute_result",
          "data": {
            "text/plain": [
              "[0.033388931304216385, 0.991100013256073]"
            ]
          },
          "metadata": {},
          "execution_count": 18
        }
      ]
    },
    {
      "cell_type": "markdown",
      "metadata": {
        "id": "C4gpRnJrd-5A"
      },
      "source": [
        "# 🚀 Keras API 모델 이용"
      ]
    },
    {
      "cell_type": "markdown",
      "metadata": {
        "id": "wUNghVxofIsx"
      },
      "source": [
        "## 1. 데이터 가져오기"
      ]
    },
    {
      "cell_type": "code",
      "metadata": {
        "colab": {
          "base_uri": "https://localhost:8080/"
        },
        "id": "68a7aLNXeGuP",
        "outputId": "86a9e7b0-e86e-42c9-8624-eb8722b18119"
      },
      "source": [
        "# 데이터 준비\n",
        "import tensorflow as tf\n",
        "\n",
        "mnist = tf.keras.datasets.mnist\n",
        "print(type(mnist))\n",
        "\n",
        "# 훈련데이터, 검증데이터 가져오기\n",
        "(X_train, y_train), (X_test, y_test) = mnist.load_data()\n",
        "\n",
        "# 확인\n",
        "print(\"X_train:\", X_train.shape, \"\\t X_test:\", X_test.shape)\n",
        "print(\"y_train:\", y_train.shape, \"\\t y_test:\", y_test.shape)\n",
        "\n",
        "# 데이터 정규화\n",
        "X_train, X_test = X_train/255.0, X_test/255.0"
      ],
      "execution_count": 1,
      "outputs": [
        {
          "output_type": "stream",
          "name": "stdout",
          "text": [
            "<class 'module'>\n",
            "Downloading data from https://storage.googleapis.com/tensorflow/tf-keras-datasets/mnist.npz\n",
            "11493376/11490434 [==============================] - 0s 0us/step\n",
            "11501568/11490434 [==============================] - 0s 0us/step\n",
            "X_train: (60000, 28, 28) \t X_test: (10000, 28, 28)\n",
            "y_train: (60000,) \t y_test: (10000,)\n"
          ]
        }
      ]
    },
    {
      "cell_type": "markdown",
      "metadata": {
        "id": "UVMgzcwSe92_"
      },
      "source": [
        "## 📌2. 데이터 전처리 - ResNet에 맞게 데이터 수정\n",
        "- CNN 모델이므로 차원을 하나 늘려주고, 이미지 사이즈를 조정함"
      ]
    },
    {
      "cell_type": "code",
      "metadata": {
        "id": "2s4Zs4hDeRuG"
      },
      "source": [
        "# CNN에 맞게 입력데이터 수정\n",
        "X_train_4d = X_train.reshape(-1, 28, 28, 1)\n",
        "X_test_4d = X_test.reshape(-1, 28, 28, 1)"
      ],
      "execution_count": 2,
      "outputs": []
    },
    {
      "cell_type": "code",
      "metadata": {
        "id": "PpmMXgrveGuQ"
      },
      "source": [
        "# ResNet에 맞게 입력데이터 수정\n",
        "resized_X_train = tf.image.resize(X_train_4d, [32,32])\n",
        "resized_X_test = tf.image.resize(X_test_4d, [32,32])"
      ],
      "execution_count": 3,
      "outputs": []
    },
    {
      "cell_type": "code",
      "metadata": {
        "colab": {
          "base_uri": "https://localhost:8080/"
        },
        "id": "FiIymLZRFSwP",
        "outputId": "b8cdc598-c329-436f-b4b3-344df4993d82"
      },
      "source": [
        "print(resized_X_train.shape)\n",
        "print(resized_X_test.shape)"
      ],
      "execution_count": 4,
      "outputs": [
        {
          "output_type": "stream",
          "name": "stdout",
          "text": [
            "(60000, 32, 32, 1)\n",
            "(10000, 32, 32, 1)\n"
          ]
        }
      ]
    },
    {
      "cell_type": "markdown",
      "metadata": {
        "id": "OKPX3OFOfLTm"
      },
      "source": [
        "## 3. 모델링"
      ]
    },
    {
      "cell_type": "code",
      "metadata": {
        "id": "DBpUX-pNbZXs"
      },
      "source": [
        "# 모델 생성\n",
        "resnet_model = tf.keras.applications.ResNet50V2(input_shape=(32,32,1),\n",
        "                                                classes=10,\n",
        "                                                weights=None)"
      ],
      "execution_count": 5,
      "outputs": []
    },
    {
      "cell_type": "code",
      "metadata": {
        "id": "8BEK5-Jae0rQ"
      },
      "source": [
        "# 컴파일\n",
        "resnet_model.compile(optimizer='adam',\n",
        "                     loss='sparse_categorical_crossentropy',\n",
        "                     metrics=['accuracy'])"
      ],
      "execution_count": 6,
      "outputs": []
    },
    {
      "cell_type": "code",
      "metadata": {
        "id": "ISAC8KAEiVoi"
      },
      "source": [
        "# resnet_model.summary()"
      ],
      "execution_count": 39,
      "outputs": []
    },
    {
      "cell_type": "markdown",
      "metadata": {
        "id": "0wKAIk2hfN44"
      },
      "source": [
        "## 4. 모델 훈련\n",
        "- ResNet의 모델은 층 깊이가 깊어서 더 훈련하는 데 더 오랜 시간이 소요됨"
      ]
    },
    {
      "cell_type": "code",
      "metadata": {
        "colab": {
          "base_uri": "https://localhost:8080/"
        },
        "id": "gdiSTGNQfN45",
        "outputId": "c4f37506-a645-4f94-8de6-cc0142776e6a"
      },
      "source": [
        "# 훈련\n",
        "resnet_model.fit(resized_X_train, y_train, epochs=10)"
      ],
      "execution_count": 7,
      "outputs": [
        {
          "output_type": "stream",
          "name": "stdout",
          "text": [
            "Epoch 1/10\n",
            "1875/1875 [==============================] - 220s 97ms/step - loss: 0.2323 - accuracy: 0.9382\n",
            "Epoch 2/10\n",
            "1875/1875 [==============================] - 180s 96ms/step - loss: 0.1192 - accuracy: 0.9694\n",
            "Epoch 3/10\n",
            "1875/1875 [==============================] - 180s 96ms/step - loss: 0.1106 - accuracy: 0.9730\n",
            "Epoch 4/10\n",
            "1875/1875 [==============================] - 179s 96ms/step - loss: 0.0810 - accuracy: 0.9787\n",
            "Epoch 5/10\n",
            "1875/1875 [==============================] - 186s 99ms/step - loss: 0.0693 - accuracy: 0.9821\n",
            "Epoch 6/10\n",
            "1875/1875 [==============================] - 182s 97ms/step - loss: 0.0593 - accuracy: 0.9844\n",
            "Epoch 7/10\n",
            "1875/1875 [==============================] - 180s 96ms/step - loss: 0.0523 - accuracy: 0.9863\n",
            "Epoch 8/10\n",
            "1875/1875 [==============================] - 180s 96ms/step - loss: 0.0385 - accuracy: 0.9889\n",
            "Epoch 9/10\n",
            "1875/1875 [==============================] - 180s 96ms/step - loss: 0.0360 - accuracy: 0.9901\n",
            "Epoch 10/10\n",
            "1875/1875 [==============================] - 179s 96ms/step - loss: 0.0295 - accuracy: 0.9915\n"
          ]
        },
        {
          "output_type": "execute_result",
          "data": {
            "text/plain": [
              "<keras.callbacks.History at 0x7fc4e02ea450>"
            ]
          },
          "metadata": {},
          "execution_count": 7
        }
      ]
    },
    {
      "cell_type": "code",
      "metadata": {
        "colab": {
          "base_uri": "https://localhost:8080/"
        },
        "id": "5D2AP4YrIvJQ",
        "outputId": "071bd460-c5f9-448a-ce4a-c0223af4981f"
      },
      "source": [
        "# 평가\n",
        "resnet_model.evaluate(resized_X_test, y_test, verbose=2)\n",
        "# accuracy: 0.9897"
      ],
      "execution_count": 12,
      "outputs": [
        {
          "output_type": "stream",
          "name": "stdout",
          "text": [
            "313/313 - 10s - loss: 0.0364 - accuracy: 0.9897\n"
          ]
        },
        {
          "output_type": "execute_result",
          "data": {
            "text/plain": [
              "[0.03640393167734146, 0.9897000193595886]"
            ]
          },
          "metadata": {},
          "execution_count": 12
        }
      ]
    },
    {
      "cell_type": "markdown",
      "metadata": {
        "id": "G1Nx0jsPgD7M"
      },
      "source": [
        "# 🚀 전이학습"
      ]
    },
    {
      "cell_type": "markdown",
      "metadata": {
        "id": "6lCgYS90jwJ6"
      },
      "source": [
        "## 1. 모델 찾기\n",
        "- https://tfhub.dev/\n",
        "    - mobilenet_v2_100_224\n",
        "- 모델 이름 + feature_vector : 전이학습이 가능하도록 마지막 레이어(출력층)를 제거한 모델\n",
        "- 모델 이름 + classification : 바로 분류가 가능한 전체 모델"
      ]
    },
    {
      "cell_type": "markdown",
      "metadata": {
        "id": "5ihAB4spi_8S"
      },
      "source": [
        "### 2. 모델 가져오기\n",
        "- url이 존재하면 Copy URL을 선택하여 URL 복사\n"
      ]
    },
    {
      "cell_type": "code",
      "metadata": {
        "id": "oJ4gGA3be45z"
      },
      "source": [
        "모델 이름 = tf.keras.Sequential([\n",
        "\ttensorflow_hun.KerasLayer(url, input_shape=(입력 구조),trainable=False),\n",
        "\ttf.keras.layers.Dense(출력의 개수)\n",
        "\t])"
      ],
      "execution_count": null,
      "outputs": []
    },
    {
      "cell_type": "markdown",
      "metadata": {
        "id": "0RDV6QmwjMT6"
      },
      "source": [
        "## 📌3. 모델 변환\n",
        "- tensorflow lite 모델로 변환\n",
        "- 확장자는 대부분의 경우 tflite"
      ]
    },
    {
      "cell_type": "code",
      "metadata": {
        "colab": {
          "base_uri": "https://localhost:8080/"
        },
        "id": "kYMBUlOGjHMw",
        "outputId": "0b6522c0-207c-4e44-dd69-938968e22d14"
      },
      "source": [
        "# cnn 모델을 변환하여 저장\n",
        "# 변환기 생성\n",
        "converter = tf.lite.TFLiteConverter.from_keras_model(cnn_model)\n",
        "\n",
        "# 모델 변환 - convert 함수 호출\n",
        "tflite_model = converter.convert()\n",
        "\n",
        "# 변환된 모델을 파일에 기록함\n",
        "with open('./keras_model.tflite', 'wb') as f:\n",
        "    f.write(tflite_model)"
      ],
      "execution_count": 40,
      "outputs": [
        {
          "output_type": "stream",
          "name": "stdout",
          "text": [
            "INFO:tensorflow:Assets written to: /tmp/tmp3yh22p6g/assets\n"
          ]
        }
      ]
    },
    {
      "cell_type": "code",
      "metadata": {
        "colab": {
          "base_uri": "https://localhost:8080/"
        },
        "id": "cwiJr94KI-xI",
        "outputId": "b46278dc-a4f1-4ef3-db70-fb0e8dbb2b6b"
      },
      "source": [
        "# resnet 모델을 변환하여 저장\n",
        "# 변환기 생성\n",
        "converter = tf.lite.TFLiteConverter.from_keras_model(resnet_model)\n",
        "\n",
        "# 모델 변환 - convert 함수 호출\n",
        "tflite_model = converter.convert()\n",
        "\n",
        "# 변환된 모델을 파일에 기록함\n",
        "with open('./keras_model_resnet.tflite', 'wb') as f:\n",
        "    f.write(tflite_model)"
      ],
      "execution_count": 10,
      "outputs": [
        {
          "output_type": "stream",
          "name": "stdout",
          "text": [
            "INFO:tensorflow:Assets written to: /tmp/tmpjmo5npnr/assets\n"
          ]
        },
        {
          "output_type": "stream",
          "name": "stderr",
          "text": [
            "INFO:tensorflow:Assets written to: /tmp/tmpjmo5npnr/assets\n",
            "/usr/local/lib/python3.7/dist-packages/keras/utils/generic_utils.py:497: CustomMaskWarning: Custom mask layers require a config and must override get_config. When loading, the custom mask layer must be passed to the custom_objects argument.\n",
            "  category=CustomMaskWarning)\n"
          ]
        }
      ]
    },
    {
      "cell_type": "markdown",
      "metadata": {
        "id": "pzbjLNOKkIby"
      },
      "source": [
        "## 📌 4. 기기 배포\n",
        "- 안드로이드 프로젝트의 assets 디렉토리에 .tflite 모델 복사\n",
        "\n",
        "### Q. assets 디렉토리와 res 디렉토리의 차이?\n",
        "- assets 디렉토리 : 내용을 필요할 때 읽어옴\n",
        "- res 디렉토리 : 앱이 실행될 때 읽어옴. 주로 크기가 작은 데이터를 저장함."
      ]
    },
    {
      "cell_type": "code",
      "metadata": {
        "id": "EeLgEldbkofc"
      },
      "source": [
        ""
      ],
      "execution_count": null,
      "outputs": []
    }
  ]
}