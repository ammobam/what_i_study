{
  "nbformat": 4,
  "nbformat_minor": 0,
  "metadata": {
    "colab": {
      "name": "Daily Temperatures.ipynb",
      "provenance": [],
      "collapsed_sections": [],
      "authorship_tag": "ABX9TyMC5vdVRaCpqYAsI+Q0Qtcv",
      "include_colab_link": true
    },
    "kernelspec": {
      "name": "python3",
      "display_name": "Python 3"
    },
    "language_info": {
      "name": "python"
    }
  },
  "cells": [
    {
      "cell_type": "markdown",
      "metadata": {
        "id": "view-in-github",
        "colab_type": "text"
      },
      "source": [
        "<a href=\"https://colab.research.google.com/github/ammobam/what_i_study/blob/main/Daily_Temperatures.ipynb\" target=\"_parent\"><img src=\"https://colab.research.google.com/assets/colab-badge.svg\" alt=\"Open In Colab\"/></a>"
      ]
    },
    {
      "cell_type": "code",
      "metadata": {
        "id": "31l7Tv4JXd4O"
      },
      "source": [
        "# 739. 일일 온도\n",
        "\n",
        "temperatures = [73,74,75,71,69,72,76,73]\n",
        "\n",
        "\n",
        "class Solution:\n",
        "    def dailyTemperatures(self, temperatures):\n",
        "        \n",
        "        when = {}\n",
        "        end = len(temperatures)\n",
        "\n",
        "        for idx in range(end-1):\n",
        "            left, right = idx, idx+1\n",
        "            print(\"=============\")\n",
        "            print(left, \":\", right)\n",
        "\n",
        "            while temperatures[left] < temperatures[right]:\n",
        "                print(\"dd\", temperatures[left], temperatures[right])\n",
        "                print(\"while\", left,\":\",right)\n",
        "\n",
        "                when[left] = right-left\n",
        "                right += 1\n",
        "\n",
        "                print(when)\n",
        "                \n",
        "\n",
        "            else:\n",
        "                when[left] = 0\n",
        "\n",
        "            left += 1\n",
        "            right += 1\n",
        "        \n",
        "        return when"
      ],
      "execution_count": null,
      "outputs": []
    },
    {
      "cell_type": "code",
      "metadata": {
        "colab": {
          "base_uri": "https://localhost:8080/",
          "height": 822
        },
        "id": "PBoxUDbhYiQP",
        "outputId": "3ca844a6-f808-4eb0-b59c-9fa9b80bc7be"
      },
      "source": [
        "x = Solution()\n",
        "x.dailyTemperatures(temperatures)"
      ],
      "execution_count": null,
      "outputs": [
        {
          "output_type": "stream",
          "name": "stdout",
          "text": [
            "=============\n",
            "0 : 1\n",
            "dd 73 74\n",
            "while 0 : 1\n",
            "{0: 1}\n",
            "dd 73 75\n",
            "while 0 : 2\n",
            "{0: 2}\n",
            "=============\n",
            "1 : 2\n",
            "dd 74 75\n",
            "while 1 : 2\n",
            "{0: 0, 1: 1}\n",
            "=============\n",
            "2 : 3\n",
            "=============\n",
            "3 : 4\n",
            "=============\n",
            "4 : 5\n",
            "dd 69 72\n",
            "while 4 : 5\n",
            "{0: 0, 1: 0, 2: 0, 3: 0, 4: 1}\n",
            "dd 69 76\n",
            "while 4 : 6\n",
            "{0: 0, 1: 0, 2: 0, 3: 0, 4: 2}\n",
            "dd 69 73\n",
            "while 4 : 7\n",
            "{0: 0, 1: 0, 2: 0, 3: 0, 4: 3}\n"
          ]
        },
        {
          "output_type": "error",
          "ename": "IndexError",
          "evalue": "ignored",
          "traceback": [
            "\u001b[0;31m---------------------------------------------------------------------------\u001b[0m",
            "\u001b[0;31mIndexError\u001b[0m                                Traceback (most recent call last)",
            "\u001b[0;32m<ipython-input-46-5d0d6f6f20c6>\u001b[0m in \u001b[0;36m<module>\u001b[0;34m()\u001b[0m\n\u001b[1;32m      1\u001b[0m \u001b[0mx\u001b[0m \u001b[0;34m=\u001b[0m \u001b[0mSolution\u001b[0m\u001b[0;34m(\u001b[0m\u001b[0;34m)\u001b[0m\u001b[0;34m\u001b[0m\u001b[0;34m\u001b[0m\u001b[0m\n\u001b[0;32m----> 2\u001b[0;31m \u001b[0mx\u001b[0m\u001b[0;34m.\u001b[0m\u001b[0mdailyTemperatures\u001b[0m\u001b[0;34m(\u001b[0m\u001b[0mtemperatures\u001b[0m\u001b[0;34m)\u001b[0m\u001b[0;34m\u001b[0m\u001b[0;34m\u001b[0m\u001b[0m\n\u001b[0m",
            "\u001b[0;32m<ipython-input-45-2301863b0e10>\u001b[0m in \u001b[0;36mdailyTemperatures\u001b[0;34m(self, temperatures)\u001b[0m\n\u001b[1;32m     15\u001b[0m             \u001b[0mprint\u001b[0m\u001b[0;34m(\u001b[0m\u001b[0mleft\u001b[0m\u001b[0;34m,\u001b[0m \u001b[0;34m\":\"\u001b[0m\u001b[0;34m,\u001b[0m \u001b[0mright\u001b[0m\u001b[0;34m)\u001b[0m\u001b[0;34m\u001b[0m\u001b[0;34m\u001b[0m\u001b[0m\n\u001b[1;32m     16\u001b[0m \u001b[0;34m\u001b[0m\u001b[0m\n\u001b[0;32m---> 17\u001b[0;31m             \u001b[0;32mwhile\u001b[0m \u001b[0mtemperatures\u001b[0m\u001b[0;34m[\u001b[0m\u001b[0mleft\u001b[0m\u001b[0;34m]\u001b[0m \u001b[0;34m<\u001b[0m \u001b[0mtemperatures\u001b[0m\u001b[0;34m[\u001b[0m\u001b[0mright\u001b[0m\u001b[0;34m]\u001b[0m\u001b[0;34m:\u001b[0m\u001b[0;34m\u001b[0m\u001b[0;34m\u001b[0m\u001b[0m\n\u001b[0m\u001b[1;32m     18\u001b[0m                 \u001b[0mprint\u001b[0m\u001b[0;34m(\u001b[0m\u001b[0;34m\"dd\"\u001b[0m\u001b[0;34m,\u001b[0m \u001b[0mtemperatures\u001b[0m\u001b[0;34m[\u001b[0m\u001b[0mleft\u001b[0m\u001b[0;34m]\u001b[0m\u001b[0;34m,\u001b[0m \u001b[0mtemperatures\u001b[0m\u001b[0;34m[\u001b[0m\u001b[0mright\u001b[0m\u001b[0;34m]\u001b[0m\u001b[0;34m)\u001b[0m\u001b[0;34m\u001b[0m\u001b[0;34m\u001b[0m\u001b[0m\n\u001b[1;32m     19\u001b[0m                 \u001b[0mprint\u001b[0m\u001b[0;34m(\u001b[0m\u001b[0;34m\"while\"\u001b[0m\u001b[0;34m,\u001b[0m \u001b[0mleft\u001b[0m\u001b[0;34m,\u001b[0m\u001b[0;34m\":\"\u001b[0m\u001b[0;34m,\u001b[0m\u001b[0mright\u001b[0m\u001b[0;34m)\u001b[0m\u001b[0;34m\u001b[0m\u001b[0;34m\u001b[0m\u001b[0m\n",
            "\u001b[0;31mIndexError\u001b[0m: list index out of range"
          ]
        }
      ]
    },
    {
      "cell_type": "code",
      "metadata": {
        "id": "84lEXRHYak7y"
      },
      "source": [
        "# 739. 일일 온도\n",
        "\n",
        "temperatures = [73,74,75,71,69,72,76,73]\n",
        "\n",
        "class Solution:\n",
        "    def dailyTemperatures(self, temperatures):\n",
        "        # 온도차를 저장할 리스트 생성. 기본값은 0으로 설정.\n",
        "        answer = [0] * len(temperatures)\n",
        "        stack = []\n",
        "        for i, temp in enumerate(temperatures):\n",
        "            # 2. 스택에 값이 있고, 현재 온도(temp)보다 낮을 때,\n",
        "            while stack and temp>temperatures[stack[-1]]:\n",
        "                #print(\"여긴언제와\")\n",
        "                # 3. 현재(i)와 가장 마지막에 저장한 i번째 날(last)까지의 기간 저장\n",
        "                last = stack.pop()\n",
        "                answer[last] = i - last\n",
        "            # 1. 스택은 인덱스를 저장함\n",
        "            stack.append(i)\n",
        "            print(\"i:\", i, \",stack:\", stack)\n",
        "\n",
        "        return answer\n",
        "\n",
        "# while 조건을 만족하지 않은 날에 대해서는 나중에 해결하는 방식임"
      ],
      "execution_count": null,
      "outputs": []
    },
    {
      "cell_type": "code",
      "metadata": {
        "colab": {
          "base_uri": "https://localhost:8080/"
        },
        "id": "j7-sALlZh79T",
        "outputId": "101d9c64-ca8b-4333-aa3e-cb3f4007772e"
      },
      "source": [
        "x = Solution()\n",
        "x.dailyTemperatures(temperatures)"
      ],
      "execution_count": null,
      "outputs": [
        {
          "output_type": "stream",
          "name": "stdout",
          "text": [
            "i: 0 ,stack: [0]\n",
            "여긴언제와\n",
            "i: 1 ,stack: [1]\n",
            "여긴언제와\n",
            "i: 2 ,stack: [2]\n",
            "i: 3 ,stack: [2, 3]\n",
            "i: 4 ,stack: [2, 3, 4]\n",
            "여긴언제와\n",
            "여긴언제와\n",
            "i: 5 ,stack: [2, 5]\n",
            "여긴언제와\n",
            "여긴언제와\n",
            "i: 6 ,stack: [6]\n",
            "i: 7 ,stack: [6, 7]\n"
          ]
        }
      ]
    },
    {
      "cell_type": "code",
      "metadata": {
        "id": "Gw-xZprch_c_"
      },
      "source": [
        ""
      ],
      "execution_count": null,
      "outputs": []
    }
  ]
}