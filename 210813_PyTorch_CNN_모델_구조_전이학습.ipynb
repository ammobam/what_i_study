{
  "nbformat": 4,
  "nbformat_minor": 0,
  "metadata": {
    "colab": {
      "name": "210813 PyTorch_CNN 모델 구조_전이학습.ipynb",
      "provenance": [],
      "collapsed_sections": [],
      "mount_file_id": "1yeCauDJpT9p412EGLtIui6qUFvt17wyW",
      "authorship_tag": "ABX9TyMDqr6WO6T5y7nPiut9Ird8",
      "include_colab_link": true
    },
    "kernelspec": {
      "name": "python3",
      "display_name": "Python 3"
    },
    "language_info": {
      "name": "python"
    },
    "accelerator": "GPU",
    "widgets": {
      "application/vnd.jupyter.widget-state+json": {
        "eab248ace74244bd849cb1cf12a412fe": {
          "model_module": "@jupyter-widgets/controls",
          "model_name": "HBoxModel",
          "model_module_version": "1.5.0",
          "state": {
            "_view_name": "HBoxView",
            "_dom_classes": [],
            "_model_name": "HBoxModel",
            "_view_module": "@jupyter-widgets/controls",
            "_model_module_version": "1.5.0",
            "_view_count": null,
            "_view_module_version": "1.5.0",
            "box_style": "",
            "layout": "IPY_MODEL_40843b99f0854af3b7c7eba03f44792f",
            "_model_module": "@jupyter-widgets/controls",
            "children": [
              "IPY_MODEL_e90a4a6d95cb4254b8cf2c3665d0c6e8",
              "IPY_MODEL_9b30e2a1702c455f9609b8c313ba21e5"
            ]
          }
        },
        "40843b99f0854af3b7c7eba03f44792f": {
          "model_module": "@jupyter-widgets/base",
          "model_name": "LayoutModel",
          "model_module_version": "1.2.0",
          "state": {
            "_view_name": "LayoutView",
            "grid_template_rows": null,
            "right": null,
            "justify_content": null,
            "_view_module": "@jupyter-widgets/base",
            "overflow": null,
            "_model_module_version": "1.2.0",
            "_view_count": null,
            "flex_flow": null,
            "width": null,
            "min_width": null,
            "border": null,
            "align_items": null,
            "bottom": null,
            "_model_module": "@jupyter-widgets/base",
            "top": null,
            "grid_column": null,
            "overflow_y": null,
            "overflow_x": null,
            "grid_auto_flow": null,
            "grid_area": null,
            "grid_template_columns": null,
            "flex": null,
            "_model_name": "LayoutModel",
            "justify_items": null,
            "grid_row": null,
            "max_height": null,
            "align_content": null,
            "visibility": null,
            "align_self": null,
            "height": null,
            "min_height": null,
            "padding": null,
            "grid_auto_rows": null,
            "grid_gap": null,
            "max_width": null,
            "order": null,
            "_view_module_version": "1.2.0",
            "grid_template_areas": null,
            "object_position": null,
            "object_fit": null,
            "grid_auto_columns": null,
            "margin": null,
            "display": null,
            "left": null
          }
        },
        "e90a4a6d95cb4254b8cf2c3665d0c6e8": {
          "model_module": "@jupyter-widgets/controls",
          "model_name": "FloatProgressModel",
          "model_module_version": "1.5.0",
          "state": {
            "_view_name": "ProgressView",
            "style": "IPY_MODEL_fa9258010cb04f379deada398b26e80c",
            "_dom_classes": [],
            "description": "",
            "_model_name": "FloatProgressModel",
            "bar_style": "success",
            "max": 170498071,
            "_view_module": "@jupyter-widgets/controls",
            "_model_module_version": "1.5.0",
            "value": 170498071,
            "_view_count": null,
            "_view_module_version": "1.5.0",
            "orientation": "horizontal",
            "min": 0,
            "description_tooltip": null,
            "_model_module": "@jupyter-widgets/controls",
            "layout": "IPY_MODEL_cd42cc0372c540dc87277c775b95d91b"
          }
        },
        "9b30e2a1702c455f9609b8c313ba21e5": {
          "model_module": "@jupyter-widgets/controls",
          "model_name": "HTMLModel",
          "model_module_version": "1.5.0",
          "state": {
            "_view_name": "HTMLView",
            "style": "IPY_MODEL_59fe96a4ebe849bca67bcee4cbfd2c55",
            "_dom_classes": [],
            "description": "",
            "_model_name": "HTMLModel",
            "placeholder": "​",
            "_view_module": "@jupyter-widgets/controls",
            "_model_module_version": "1.5.0",
            "value": " 170499072/? [09:41&lt;00:00, 293282.80it/s]",
            "_view_count": null,
            "_view_module_version": "1.5.0",
            "description_tooltip": null,
            "_model_module": "@jupyter-widgets/controls",
            "layout": "IPY_MODEL_4e98a41d81e640f091a3f6e3cb0f211d"
          }
        },
        "fa9258010cb04f379deada398b26e80c": {
          "model_module": "@jupyter-widgets/controls",
          "model_name": "ProgressStyleModel",
          "model_module_version": "1.5.0",
          "state": {
            "_view_name": "StyleView",
            "_model_name": "ProgressStyleModel",
            "description_width": "initial",
            "_view_module": "@jupyter-widgets/base",
            "_model_module_version": "1.5.0",
            "_view_count": null,
            "_view_module_version": "1.2.0",
            "bar_color": null,
            "_model_module": "@jupyter-widgets/controls"
          }
        },
        "cd42cc0372c540dc87277c775b95d91b": {
          "model_module": "@jupyter-widgets/base",
          "model_name": "LayoutModel",
          "model_module_version": "1.2.0",
          "state": {
            "_view_name": "LayoutView",
            "grid_template_rows": null,
            "right": null,
            "justify_content": null,
            "_view_module": "@jupyter-widgets/base",
            "overflow": null,
            "_model_module_version": "1.2.0",
            "_view_count": null,
            "flex_flow": null,
            "width": null,
            "min_width": null,
            "border": null,
            "align_items": null,
            "bottom": null,
            "_model_module": "@jupyter-widgets/base",
            "top": null,
            "grid_column": null,
            "overflow_y": null,
            "overflow_x": null,
            "grid_auto_flow": null,
            "grid_area": null,
            "grid_template_columns": null,
            "flex": null,
            "_model_name": "LayoutModel",
            "justify_items": null,
            "grid_row": null,
            "max_height": null,
            "align_content": null,
            "visibility": null,
            "align_self": null,
            "height": null,
            "min_height": null,
            "padding": null,
            "grid_auto_rows": null,
            "grid_gap": null,
            "max_width": null,
            "order": null,
            "_view_module_version": "1.2.0",
            "grid_template_areas": null,
            "object_position": null,
            "object_fit": null,
            "grid_auto_columns": null,
            "margin": null,
            "display": null,
            "left": null
          }
        },
        "59fe96a4ebe849bca67bcee4cbfd2c55": {
          "model_module": "@jupyter-widgets/controls",
          "model_name": "DescriptionStyleModel",
          "model_module_version": "1.5.0",
          "state": {
            "_view_name": "StyleView",
            "_model_name": "DescriptionStyleModel",
            "description_width": "",
            "_view_module": "@jupyter-widgets/base",
            "_model_module_version": "1.5.0",
            "_view_count": null,
            "_view_module_version": "1.2.0",
            "_model_module": "@jupyter-widgets/controls"
          }
        },
        "4e98a41d81e640f091a3f6e3cb0f211d": {
          "model_module": "@jupyter-widgets/base",
          "model_name": "LayoutModel",
          "model_module_version": "1.2.0",
          "state": {
            "_view_name": "LayoutView",
            "grid_template_rows": null,
            "right": null,
            "justify_content": null,
            "_view_module": "@jupyter-widgets/base",
            "overflow": null,
            "_model_module_version": "1.2.0",
            "_view_count": null,
            "flex_flow": null,
            "width": null,
            "min_width": null,
            "border": null,
            "align_items": null,
            "bottom": null,
            "_model_module": "@jupyter-widgets/base",
            "top": null,
            "grid_column": null,
            "overflow_y": null,
            "overflow_x": null,
            "grid_auto_flow": null,
            "grid_area": null,
            "grid_template_columns": null,
            "flex": null,
            "_model_name": "LayoutModel",
            "justify_items": null,
            "grid_row": null,
            "max_height": null,
            "align_content": null,
            "visibility": null,
            "align_self": null,
            "height": null,
            "min_height": null,
            "padding": null,
            "grid_auto_rows": null,
            "grid_gap": null,
            "max_width": null,
            "order": null,
            "_view_module_version": "1.2.0",
            "grid_template_areas": null,
            "object_position": null,
            "object_fit": null,
            "grid_auto_columns": null,
            "margin": null,
            "display": null,
            "left": null
          }
        },
        "be29f993f6604e37b3a3b9856bdf477e": {
          "model_module": "@jupyter-widgets/controls",
          "model_name": "HBoxModel",
          "model_module_version": "1.5.0",
          "state": {
            "_view_name": "HBoxView",
            "_dom_classes": [],
            "_model_name": "HBoxModel",
            "_view_module": "@jupyter-widgets/controls",
            "_model_module_version": "1.5.0",
            "_view_count": null,
            "_view_module_version": "1.5.0",
            "box_style": "",
            "layout": "IPY_MODEL_233af032da1c4ba59fdb4e550f95d570",
            "_model_module": "@jupyter-widgets/controls",
            "children": [
              "IPY_MODEL_532192e0f1ab4785a64b4c432baa3606",
              "IPY_MODEL_2a0e15d50d814504878b11fdf9dad0f7"
            ]
          }
        },
        "233af032da1c4ba59fdb4e550f95d570": {
          "model_module": "@jupyter-widgets/base",
          "model_name": "LayoutModel",
          "model_module_version": "1.2.0",
          "state": {
            "_view_name": "LayoutView",
            "grid_template_rows": null,
            "right": null,
            "justify_content": null,
            "_view_module": "@jupyter-widgets/base",
            "overflow": null,
            "_model_module_version": "1.2.0",
            "_view_count": null,
            "flex_flow": null,
            "width": null,
            "min_width": null,
            "border": null,
            "align_items": null,
            "bottom": null,
            "_model_module": "@jupyter-widgets/base",
            "top": null,
            "grid_column": null,
            "overflow_y": null,
            "overflow_x": null,
            "grid_auto_flow": null,
            "grid_area": null,
            "grid_template_columns": null,
            "flex": null,
            "_model_name": "LayoutModel",
            "justify_items": null,
            "grid_row": null,
            "max_height": null,
            "align_content": null,
            "visibility": null,
            "align_self": null,
            "height": null,
            "min_height": null,
            "padding": null,
            "grid_auto_rows": null,
            "grid_gap": null,
            "max_width": null,
            "order": null,
            "_view_module_version": "1.2.0",
            "grid_template_areas": null,
            "object_position": null,
            "object_fit": null,
            "grid_auto_columns": null,
            "margin": null,
            "display": null,
            "left": null
          }
        },
        "532192e0f1ab4785a64b4c432baa3606": {
          "model_module": "@jupyter-widgets/controls",
          "model_name": "FloatProgressModel",
          "model_module_version": "1.5.0",
          "state": {
            "_view_name": "ProgressView",
            "style": "IPY_MODEL_0a94bb323fb143348f629b194efa7cd9",
            "_dom_classes": [],
            "description": "100%",
            "_model_name": "FloatProgressModel",
            "bar_style": "success",
            "max": 87319819,
            "_view_module": "@jupyter-widgets/controls",
            "_model_module_version": "1.5.0",
            "value": 87319819,
            "_view_count": null,
            "_view_module_version": "1.5.0",
            "orientation": "horizontal",
            "min": 0,
            "description_tooltip": null,
            "_model_module": "@jupyter-widgets/controls",
            "layout": "IPY_MODEL_a8930d6aa9d84cecb0ab60f5837af171"
          }
        },
        "2a0e15d50d814504878b11fdf9dad0f7": {
          "model_module": "@jupyter-widgets/controls",
          "model_name": "HTMLModel",
          "model_module_version": "1.5.0",
          "state": {
            "_view_name": "HTMLView",
            "style": "IPY_MODEL_52397ca06fce41a8ae93cf88762ee166",
            "_dom_classes": [],
            "description": "",
            "_model_name": "HTMLModel",
            "placeholder": "​",
            "_view_module": "@jupyter-widgets/controls",
            "_model_module_version": "1.5.0",
            "value": " 83.3M/83.3M [00:01&lt;00:00, 49.7MB/s]",
            "_view_count": null,
            "_view_module_version": "1.5.0",
            "description_tooltip": null,
            "_model_module": "@jupyter-widgets/controls",
            "layout": "IPY_MODEL_aea0e9ef110a4384a0a1b875b5042c6e"
          }
        },
        "0a94bb323fb143348f629b194efa7cd9": {
          "model_module": "@jupyter-widgets/controls",
          "model_name": "ProgressStyleModel",
          "model_module_version": "1.5.0",
          "state": {
            "_view_name": "StyleView",
            "_model_name": "ProgressStyleModel",
            "description_width": "initial",
            "_view_module": "@jupyter-widgets/base",
            "_model_module_version": "1.5.0",
            "_view_count": null,
            "_view_module_version": "1.2.0",
            "bar_color": null,
            "_model_module": "@jupyter-widgets/controls"
          }
        },
        "a8930d6aa9d84cecb0ab60f5837af171": {
          "model_module": "@jupyter-widgets/base",
          "model_name": "LayoutModel",
          "model_module_version": "1.2.0",
          "state": {
            "_view_name": "LayoutView",
            "grid_template_rows": null,
            "right": null,
            "justify_content": null,
            "_view_module": "@jupyter-widgets/base",
            "overflow": null,
            "_model_module_version": "1.2.0",
            "_view_count": null,
            "flex_flow": null,
            "width": null,
            "min_width": null,
            "border": null,
            "align_items": null,
            "bottom": null,
            "_model_module": "@jupyter-widgets/base",
            "top": null,
            "grid_column": null,
            "overflow_y": null,
            "overflow_x": null,
            "grid_auto_flow": null,
            "grid_area": null,
            "grid_template_columns": null,
            "flex": null,
            "_model_name": "LayoutModel",
            "justify_items": null,
            "grid_row": null,
            "max_height": null,
            "align_content": null,
            "visibility": null,
            "align_self": null,
            "height": null,
            "min_height": null,
            "padding": null,
            "grid_auto_rows": null,
            "grid_gap": null,
            "max_width": null,
            "order": null,
            "_view_module_version": "1.2.0",
            "grid_template_areas": null,
            "object_position": null,
            "object_fit": null,
            "grid_auto_columns": null,
            "margin": null,
            "display": null,
            "left": null
          }
        },
        "52397ca06fce41a8ae93cf88762ee166": {
          "model_module": "@jupyter-widgets/controls",
          "model_name": "DescriptionStyleModel",
          "model_module_version": "1.5.0",
          "state": {
            "_view_name": "StyleView",
            "_model_name": "DescriptionStyleModel",
            "description_width": "",
            "_view_module": "@jupyter-widgets/base",
            "_model_module_version": "1.5.0",
            "_view_count": null,
            "_view_module_version": "1.2.0",
            "_model_module": "@jupyter-widgets/controls"
          }
        },
        "aea0e9ef110a4384a0a1b875b5042c6e": {
          "model_module": "@jupyter-widgets/base",
          "model_name": "LayoutModel",
          "model_module_version": "1.2.0",
          "state": {
            "_view_name": "LayoutView",
            "grid_template_rows": null,
            "right": null,
            "justify_content": null,
            "_view_module": "@jupyter-widgets/base",
            "overflow": null,
            "_model_module_version": "1.2.0",
            "_view_count": null,
            "flex_flow": null,
            "width": null,
            "min_width": null,
            "border": null,
            "align_items": null,
            "bottom": null,
            "_model_module": "@jupyter-widgets/base",
            "top": null,
            "grid_column": null,
            "overflow_y": null,
            "overflow_x": null,
            "grid_auto_flow": null,
            "grid_area": null,
            "grid_template_columns": null,
            "flex": null,
            "_model_name": "LayoutModel",
            "justify_items": null,
            "grid_row": null,
            "max_height": null,
            "align_content": null,
            "visibility": null,
            "align_self": null,
            "height": null,
            "min_height": null,
            "padding": null,
            "grid_auto_rows": null,
            "grid_gap": null,
            "max_width": null,
            "order": null,
            "_view_module_version": "1.2.0",
            "grid_template_areas": null,
            "object_position": null,
            "object_fit": null,
            "grid_auto_columns": null,
            "margin": null,
            "display": null,
            "left": null
          }
        }
      }
    }
  },
  "cells": [
    {
      "cell_type": "markdown",
      "metadata": {
        "id": "view-in-github",
        "colab_type": "text"
      },
      "source": [
        "<a href=\"https://colab.research.google.com/github/ammobam/Study_DeepLearing/blob/main/210813_PyTorch_CNN_%EB%AA%A8%EB%8D%B8_%EA%B5%AC%EC%A1%B0_%EC%A0%84%EC%9D%B4%ED%95%99%EC%8A%B5.ipynb\" target=\"_parent\"><img src=\"https://colab.research.google.com/assets/colab-badge.svg\" alt=\"Open In Colab\"/></a>"
      ]
    },
    {
      "cell_type": "markdown",
      "metadata": {
        "id": "Jl0KD3S5X1HD"
      },
      "source": [
        "---\n",
        "# ** 선형회귀"
      ]
    },
    {
      "cell_type": "markdown",
      "metadata": {
        "id": "fDB58wdygw66"
      },
      "source": [
        "## 단순선형회귀"
      ]
    },
    {
      "cell_type": "markdown",
      "metadata": {
        "id": "c8IwqVJ-X47m"
      },
      "source": [
        "### 클래스를 이용하지 않는 단순 선형 회귀"
      ]
    },
    {
      "cell_type": "code",
      "metadata": {
        "id": "u6KHCS9dX3Ag"
      },
      "source": [
        "import torch\n",
        "import torch.nn as nn\n",
        "import torch.nn.functional as F\n",
        "import torch.optim as optim"
      ],
      "execution_count": null,
      "outputs": []
    },
    {
      "cell_type": "code",
      "metadata": {
        "id": "dp6iGZCWYDYu"
      },
      "source": [
        "# 데이터 생성\n",
        "X_train = torch.FloatTensor([[1], [2], [3]])\n",
        "y_train = torch.FloatTensor([[2], [4], [6]])"
      ],
      "execution_count": null,
      "outputs": []
    },
    {
      "cell_type": "code",
      "metadata": {
        "colab": {
          "base_uri": "https://localhost:8080/"
        },
        "id": "h0b0Wy3VYRcy",
        "outputId": "4db276e0-d91a-4cba-ef62-eed8c9a80971"
      },
      "source": [
        "# 회귀모델 생성\n",
        "model = nn.Linear(1, 1)\n",
        "\n",
        "# Optimizer 생성\n",
        "optimizer = optim.SGD(model.parameters(), lr=0.01)\n",
        "\n",
        "# 훈련\n",
        "for epoch in range(3001):\n",
        "    # 입력데이터로 예측\n",
        "    prediction = model(X_train)\n",
        "    # 손실함수 설정\n",
        "    cost = F.mse_loss(prediction, y_train)\n",
        "\n",
        "    # 이전 가중치 삭제 - 초기화\n",
        "    optimizer.zero_grad()\n",
        "\n",
        "    # 역전파\n",
        "    cost.backward()\n",
        "\n",
        "    # 가중치 업데이트\n",
        "    optimizer.step()\n",
        "\n",
        "    # 훈련 중 손실 출력\n",
        "    if epoch % 100 == 0:\n",
        "        print('횟수:', epoch, '/', 3000, '\\t Cost:', cost.item())"
      ],
      "execution_count": null,
      "outputs": [
        {
          "output_type": "stream",
          "text": [
            "횟수: 0 / 3000 \t Cost: 42.06001663208008\n",
            "횟수: 100 / 3000 \t Cost: 0.03589759021997452\n",
            "횟수: 200 / 3000 \t Cost: 0.02218254841864109\n",
            "횟수: 300 / 3000 \t Cost: 0.013707466423511505\n",
            "횟수: 400 / 3000 \t Cost: 0.008470405824482441\n",
            "횟수: 500 / 3000 \t Cost: 0.005234202835708857\n",
            "횟수: 600 / 3000 \t Cost: 0.003234408563002944\n",
            "횟수: 700 / 3000 \t Cost: 0.0019986750558018684\n",
            "횟수: 800 / 3000 \t Cost: 0.0012350640026852489\n",
            "횟수: 900 / 3000 \t Cost: 0.0007631924818269908\n",
            "횟수: 1000 / 3000 \t Cost: 0.0004716114199254662\n",
            "횟수: 1100 / 3000 \t Cost: 0.0002914231736212969\n",
            "횟수: 1200 / 3000 \t Cost: 0.00018007964536082\n",
            "횟수: 1300 / 3000 \t Cost: 0.00011127773177577183\n",
            "횟수: 1400 / 3000 \t Cost: 6.876316183479503e-05\n",
            "횟수: 1500 / 3000 \t Cost: 4.249107951181941e-05\n",
            "횟수: 1600 / 3000 \t Cost: 2.625793968036305e-05\n",
            "횟수: 1700 / 3000 \t Cost: 1.6225932995439507e-05\n",
            "횟수: 1800 / 3000 \t Cost: 1.0026259587903041e-05\n",
            "횟수: 1900 / 3000 \t Cost: 6.1958694459463e-06\n",
            "횟수: 2000 / 3000 \t Cost: 3.829128218058031e-06\n",
            "횟수: 2100 / 3000 \t Cost: 2.3665336357225897e-06\n",
            "횟수: 2200 / 3000 \t Cost: 1.4622246453654952e-06\n",
            "횟수: 2300 / 3000 \t Cost: 9.039490578288678e-07\n",
            "횟수: 2400 / 3000 \t Cost: 5.58616363832698e-07\n",
            "횟수: 2500 / 3000 \t Cost: 3.454615580267273e-07\n",
            "횟수: 2600 / 3000 \t Cost: 2.1374171410570852e-07\n",
            "횟수: 2700 / 3000 \t Cost: 1.3212451221988886e-07\n",
            "횟수: 2800 / 3000 \t Cost: 8.180040822480805e-08\n",
            "횟수: 2900 / 3000 \t Cost: 5.068214292691664e-08\n",
            "횟수: 3000 / 3000 \t Cost: 3.139001591989654e-08\n"
          ],
          "name": "stdout"
        }
      ]
    },
    {
      "cell_type": "code",
      "metadata": {
        "colab": {
          "base_uri": "https://localhost:8080/"
        },
        "id": "GP0OFR1UZSe-",
        "outputId": "bf1729cc-b5e9-40dc-cb75-120483f8f1d0"
      },
      "source": [
        "new_var = torch.FloatTensor([[5.0]])\n",
        "pred_y = model(new_var)\n",
        "print(pred_y)"
      ],
      "execution_count": null,
      "outputs": [
        {
          "output_type": "stream",
          "text": [
            "tensor([[9.9994]], grad_fn=<AddmmBackward>)\n"
          ],
          "name": "stdout"
        }
      ]
    },
    {
      "cell_type": "code",
      "metadata": {
        "colab": {
          "base_uri": "https://localhost:8080/"
        },
        "id": "hBmtKFDxZsFC",
        "outputId": "cab7dd93-7043-4132-f262-e7d61d45f9db"
      },
      "source": [
        "print(list(model.parameters()))"
      ],
      "execution_count": null,
      "outputs": [
        {
          "output_type": "stream",
          "text": [
            "[Parameter containing:\n",
            "tensor([[1.9998]], requires_grad=True), Parameter containing:\n",
            "tensor([0.0005], requires_grad=True)]\n"
          ],
          "name": "stdout"
        }
      ]
    },
    {
      "cell_type": "markdown",
      "metadata": {
        "id": "yRB7NGqldxFT"
      },
      "source": [
        "### 동일한 모델을 클래스로 구현해보기"
      ]
    },
    {
      "cell_type": "code",
      "metadata": {
        "id": "dTTw-kalafWG"
      },
      "source": [
        "# 상위클래스 상속 받아서 선형예측 클래스 만들기\n",
        "class LinearRegressionModel(nn.Module):\n",
        "    def __init__(self):\n",
        "        super().__init__()\n",
        "        self.linear = nn.Linear(1, 1)\n",
        "\n",
        "    def forward(self, x):\n",
        "        return self.linear(x)"
      ],
      "execution_count": null,
      "outputs": []
    },
    {
      "cell_type": "code",
      "metadata": {
        "colab": {
          "base_uri": "https://localhost:8080/"
        },
        "id": "tuCfHzfjfS3X",
        "outputId": "5d1948e8-adbc-43d5-c458-d4106dd44915"
      },
      "source": [
        "# 회귀모델 생성\n",
        "model = LinearRegressionModel()\n",
        "\n",
        "# Optimizer 생성\n",
        "optimizer = optim.SGD(model.parameters(), lr=0.01)\n",
        "\n",
        "# 훈련\n",
        "for epoch in range(3001):\n",
        "    # 입력데이터로 예측\n",
        "    prediction = model(X_train)\n",
        "    # 손실함수 설정\n",
        "    cost = F.mse_loss(prediction, y_train)\n",
        "    # 이전 가중치 삭제 - 초기화\n",
        "    optimizer.zero_grad()\n",
        "    # 역전파\n",
        "    cost.backward()\n",
        "    # 가중치 업데이트\n",
        "    optimizer.step()\n",
        "    # 훈련 중 손실 출력\n",
        "    if epoch % 100 == 0:\n",
        "        print('횟수:', epoch, '/', 3000, '\\t Cost:', cost.item())"
      ],
      "execution_count": null,
      "outputs": [
        {
          "output_type": "stream",
          "text": [
            "횟수: 0 / 3000 \t Cost: 10.038850784301758\n",
            "횟수: 100 / 3000 \t Cost: 0.04490127041935921\n",
            "횟수: 200 / 3000 \t Cost: 0.027746250852942467\n",
            "횟수: 300 / 3000 \t Cost: 0.01714554987847805\n",
            "횟수: 400 / 3000 \t Cost: 0.010594889521598816\n",
            "횟수: 500 / 3000 \t Cost: 0.006546964403241873\n",
            "횟수: 600 / 3000 \t Cost: 0.004045648965984583\n",
            "횟수: 700 / 3000 \t Cost: 0.0024999522138386965\n",
            "횟수: 800 / 3000 \t Cost: 0.0015448220074176788\n",
            "횟수: 900 / 3000 \t Cost: 0.0009546063374727964\n",
            "횟수: 1000 / 3000 \t Cost: 0.000589889707043767\n",
            "횟수: 1100 / 3000 \t Cost: 0.000364518171409145\n",
            "횟수: 1200 / 3000 \t Cost: 0.0002252522244816646\n",
            "횟수: 1300 / 3000 \t Cost: 0.00013919478806201369\n",
            "횟수: 1400 / 3000 \t Cost: 8.60130530782044e-05\n",
            "횟수: 1500 / 3000 \t Cost: 5.314842928783037e-05\n",
            "횟수: 1600 / 3000 \t Cost: 3.2843909139046445e-05\n",
            "횟수: 1700 / 3000 \t Cost: 2.029518327617552e-05\n",
            "횟수: 1800 / 3000 \t Cost: 1.2541851901914924e-05\n",
            "횟수: 1900 / 3000 \t Cost: 7.750581971777137e-06\n",
            "횟수: 2000 / 3000 \t Cost: 4.789924332726514e-06\n",
            "횟수: 2100 / 3000 \t Cost: 2.960155143227894e-06\n",
            "횟수: 2200 / 3000 \t Cost: 1.8295892232345068e-06\n",
            "횟수: 2300 / 3000 \t Cost: 1.1307682825645315e-06\n",
            "횟수: 2400 / 3000 \t Cost: 6.991208465478849e-07\n",
            "횟수: 2500 / 3000 \t Cost: 4.320020252635004e-07\n",
            "횟수: 2600 / 3000 \t Cost: 2.67246832663659e-07\n",
            "횟수: 2700 / 3000 \t Cost: 1.653735779427734e-07\n",
            "횟수: 2800 / 3000 \t Cost: 1.0221643975683037e-07\n",
            "횟수: 2900 / 3000 \t Cost: 6.336889413205427e-08\n",
            "횟수: 3000 / 3000 \t Cost: 3.912502322123146e-08\n"
          ],
          "name": "stdout"
        }
      ]
    },
    {
      "cell_type": "markdown",
      "metadata": {
        "id": "p4jOmIBcgjG_"
      },
      "source": [
        "## 다중 선형 회귀"
      ]
    },
    {
      "cell_type": "code",
      "metadata": {
        "id": "W5JpB60Jfe0F"
      },
      "source": [
        "# 패키지 임포트\n",
        "import pandas as pd\n",
        "import numpy as np\n",
        "import matplotlib.pyplot as plt\n",
        "import torch\n",
        "from torch import nn"
      ],
      "execution_count": null,
      "outputs": []
    },
    {
      "cell_type": "code",
      "metadata": {
        "colab": {
          "base_uri": "https://localhost:8080/",
          "height": 388
        },
        "id": "LaWwjMwOhVPi",
        "outputId": "ef8d37cc-7709-4ad5-d2b3-7d8a1fe7c8af"
      },
      "source": [
        "# 데이터 가져오기\n",
        "df_score = pd.read_csv('/content/drive/MyDrive/data/assets/score.csv', index_col=0)\n",
        "df_score"
      ],
      "execution_count": null,
      "outputs": [
        {
          "output_type": "execute_result",
          "data": {
            "text/html": [
              "<div>\n",
              "<style scoped>\n",
              "    .dataframe tbody tr th:only-of-type {\n",
              "        vertical-align: middle;\n",
              "    }\n",
              "\n",
              "    .dataframe tbody tr th {\n",
              "        vertical-align: top;\n",
              "    }\n",
              "\n",
              "    .dataframe thead th {\n",
              "        text-align: right;\n",
              "    }\n",
              "</style>\n",
              "<table border=\"1\" class=\"dataframe\">\n",
              "  <thead>\n",
              "    <tr style=\"text-align: right;\">\n",
              "      <th></th>\n",
              "      <th>score</th>\n",
              "      <th>iq</th>\n",
              "      <th>academy</th>\n",
              "      <th>game</th>\n",
              "      <th>tv</th>\n",
              "    </tr>\n",
              "    <tr>\n",
              "      <th>name</th>\n",
              "      <th></th>\n",
              "      <th></th>\n",
              "      <th></th>\n",
              "      <th></th>\n",
              "      <th></th>\n",
              "    </tr>\n",
              "  </thead>\n",
              "  <tbody>\n",
              "    <tr>\n",
              "      <th>A</th>\n",
              "      <td>90</td>\n",
              "      <td>140</td>\n",
              "      <td>2</td>\n",
              "      <td>1</td>\n",
              "      <td>0</td>\n",
              "    </tr>\n",
              "    <tr>\n",
              "      <th>B</th>\n",
              "      <td>75</td>\n",
              "      <td>125</td>\n",
              "      <td>1</td>\n",
              "      <td>3</td>\n",
              "      <td>3</td>\n",
              "    </tr>\n",
              "    <tr>\n",
              "      <th>C</th>\n",
              "      <td>77</td>\n",
              "      <td>120</td>\n",
              "      <td>1</td>\n",
              "      <td>0</td>\n",
              "      <td>4</td>\n",
              "    </tr>\n",
              "    <tr>\n",
              "      <th>D</th>\n",
              "      <td>83</td>\n",
              "      <td>135</td>\n",
              "      <td>2</td>\n",
              "      <td>3</td>\n",
              "      <td>2</td>\n",
              "    </tr>\n",
              "    <tr>\n",
              "      <th>E</th>\n",
              "      <td>65</td>\n",
              "      <td>105</td>\n",
              "      <td>0</td>\n",
              "      <td>4</td>\n",
              "      <td>4</td>\n",
              "    </tr>\n",
              "    <tr>\n",
              "      <th>F</th>\n",
              "      <td>80</td>\n",
              "      <td>123</td>\n",
              "      <td>3</td>\n",
              "      <td>1</td>\n",
              "      <td>1</td>\n",
              "    </tr>\n",
              "    <tr>\n",
              "      <th>G</th>\n",
              "      <td>83</td>\n",
              "      <td>132</td>\n",
              "      <td>3</td>\n",
              "      <td>4</td>\n",
              "      <td>1</td>\n",
              "    </tr>\n",
              "    <tr>\n",
              "      <th>H</th>\n",
              "      <td>70</td>\n",
              "      <td>115</td>\n",
              "      <td>1</td>\n",
              "      <td>1</td>\n",
              "      <td>3</td>\n",
              "    </tr>\n",
              "    <tr>\n",
              "      <th>I</th>\n",
              "      <td>87</td>\n",
              "      <td>128</td>\n",
              "      <td>4</td>\n",
              "      <td>0</td>\n",
              "      <td>0</td>\n",
              "    </tr>\n",
              "    <tr>\n",
              "      <th>J</th>\n",
              "      <td>79</td>\n",
              "      <td>131</td>\n",
              "      <td>2</td>\n",
              "      <td>2</td>\n",
              "      <td>3</td>\n",
              "    </tr>\n",
              "  </tbody>\n",
              "</table>\n",
              "</div>"
            ],
            "text/plain": [
              "      score   iq  academy  game  tv\n",
              "name                               \n",
              "A        90  140        2     1   0\n",
              "B        75  125        1     3   3\n",
              "C        77  120        1     0   4\n",
              "D        83  135        2     3   2\n",
              "E        65  105        0     4   4\n",
              "F        80  123        3     1   1\n",
              "G        83  132        3     4   1\n",
              "H        70  115        1     1   3\n",
              "I        87  128        4     0   0\n",
              "J        79  131        2     2   3"
            ]
          },
          "metadata": {
            "tags": []
          },
          "execution_count": 9
        }
      ]
    },
    {
      "cell_type": "code",
      "metadata": {
        "colab": {
          "base_uri": "https://localhost:8080/"
        },
        "id": "5bIsC1XxhZZQ",
        "outputId": "120d6daf-89c3-4430-d8f0-21e7af67bab0"
      },
      "source": [
        "# feature, class를 Tensor로 생성하기\n",
        "X = torch.from_numpy(df_score[['iq','academy','game','tv']].values)\n",
        "X = X.unsqueeze(dim=1).float()\n",
        "y = torch.from_numpy(df_score['score'].values)\n",
        "y = y.unsqueeze(dim=1).float()\n",
        "\n",
        "print(X)\n",
        "print(y)"
      ],
      "execution_count": null,
      "outputs": [
        {
          "output_type": "stream",
          "text": [
            "tensor([[[140.,   2.,   1.,   0.]],\n",
            "\n",
            "        [[125.,   1.,   3.,   3.]],\n",
            "\n",
            "        [[120.,   1.,   0.,   4.]],\n",
            "\n",
            "        [[135.,   2.,   3.,   2.]],\n",
            "\n",
            "        [[105.,   0.,   4.,   4.]],\n",
            "\n",
            "        [[123.,   3.,   1.,   1.]],\n",
            "\n",
            "        [[132.,   3.,   4.,   1.]],\n",
            "\n",
            "        [[115.,   1.,   1.,   3.]],\n",
            "\n",
            "        [[128.,   4.,   0.,   0.]],\n",
            "\n",
            "        [[131.,   2.,   2.,   3.]]])\n",
            "tensor([[90.],\n",
            "        [75.],\n",
            "        [77.],\n",
            "        [83.],\n",
            "        [65.],\n",
            "        [80.],\n",
            "        [83.],\n",
            "        [70.],\n",
            "        [87.],\n",
            "        [79.]])\n"
          ],
          "name": "stdout"
        }
      ]
    },
    {
      "cell_type": "code",
      "metadata": {
        "id": "2-IBrIW9j4Zm"
      },
      "source": [
        "# 다중 선형예측 클래스 만들기\n",
        "class MultivariateRegressionModel(nn.Module):\n",
        "    def __init__(self):\n",
        "        super().__init__()\n",
        "        self.linear = nn.Linear(4, 1)    # 우리가 분석하고자 하는 컬럼이 4개니까!\n",
        "\n",
        "    def forward(self, x):\n",
        "        return self.linear(x)"
      ],
      "execution_count": null,
      "outputs": []
    },
    {
      "cell_type": "code",
      "metadata": {
        "id": "FjfSKP8ai64z"
      },
      "source": [
        "# 회귀모델 생성\n",
        "model = MultivariateRegressionModel()\n",
        "\n",
        "# Optimizer 생성\n",
        "optimizer = optim.SGD(model.parameters(), lr=0.00001)"
      ],
      "execution_count": null,
      "outputs": []
    },
    {
      "cell_type": "code",
      "metadata": {
        "colab": {
          "base_uri": "https://localhost:8080/"
        },
        "id": "IjKL7g7vjEr2",
        "outputId": "cf04a629-5be3-4527-c1b0-ca2aa61a5538"
      },
      "source": [
        "# 훈련\n",
        "for epoch in range(3001):\n",
        "    # 입력데이터로 예측\n",
        "    prediction = model(X)\n",
        "    # 손실함수 설정\n",
        "    cost = F.mse_loss(prediction, y)\n",
        "    # 이전 가중치 삭제 - 초기화\n",
        "    optimizer.zero_grad()\n",
        "    # 역전파\n",
        "    cost.backward()\n",
        "    # 가중치 업데이트\n",
        "    optimizer.step()\n",
        "    # 훈련 중 손실 출력\n",
        "    if epoch % 100 == 0:\n",
        "        print('횟수:', epoch, '/', 3000, '\\t Cost:', cost.item())\n",
        "\n",
        "# Cost : nan ?\n",
        "## 비용함수가 적절히 설정되었나?\n",
        "    ## 선형회귀에서 mae, mse 사용함. 적절함.\n",
        "## 함수가 초기 점에서 움직이지 못했나?\n",
        "    ## 학습률(lr)을 좁혀보자\n",
        "        ## 0.1 -->  0.00001 해결!\n",
        "    ## optimizer를 바꿔보자\n",
        "        ## SGD --> Adam 등.."
      ],
      "execution_count": null,
      "outputs": [
        {
          "output_type": "stream",
          "text": [
            "횟수: 0 / 3000 \t Cost: 10341.82421875\n",
            "횟수: 100 / 3000 \t Cost: 84.01702880859375\n",
            "횟수: 200 / 3000 \t Cost: 83.85169982910156\n",
            "횟수: 300 / 3000 \t Cost: 83.68858337402344\n",
            "횟수: 400 / 3000 \t Cost: 83.52761840820312\n"
          ],
          "name": "stdout"
        },
        {
          "output_type": "stream",
          "text": [
            "/usr/local/lib/python3.7/dist-packages/ipykernel_launcher.py:6: UserWarning: Using a target size (torch.Size([10, 1])) that is different to the input size (torch.Size([10, 1, 1])). This will likely lead to incorrect results due to broadcasting. Please ensure they have the same size.\n",
            "  \n"
          ],
          "name": "stderr"
        },
        {
          "output_type": "stream",
          "text": [
            "횟수: 500 / 3000 \t Cost: 83.36882019042969\n",
            "횟수: 600 / 3000 \t Cost: 83.21211242675781\n",
            "횟수: 700 / 3000 \t Cost: 83.05746459960938\n",
            "횟수: 800 / 3000 \t Cost: 82.90489959716797\n",
            "횟수: 900 / 3000 \t Cost: 82.7542953491211\n",
            "횟수: 1000 / 3000 \t Cost: 82.60572052001953\n",
            "횟수: 1100 / 3000 \t Cost: 82.45909118652344\n",
            "횟수: 1200 / 3000 \t Cost: 82.31444549560547\n",
            "횟수: 1300 / 3000 \t Cost: 82.1716537475586\n",
            "횟수: 1400 / 3000 \t Cost: 82.0307388305664\n",
            "횟수: 1500 / 3000 \t Cost: 81.89166259765625\n",
            "횟수: 1600 / 3000 \t Cost: 81.75448608398438\n",
            "횟수: 1700 / 3000 \t Cost: 81.6190414428711\n",
            "횟수: 1800 / 3000 \t Cost: 81.48539733886719\n",
            "횟수: 1900 / 3000 \t Cost: 81.35347747802734\n",
            "횟수: 2000 / 3000 \t Cost: 81.22331237792969\n",
            "횟수: 2100 / 3000 \t Cost: 81.09484100341797\n",
            "횟수: 2200 / 3000 \t Cost: 80.9680404663086\n",
            "횟수: 2300 / 3000 \t Cost: 80.8428955078125\n",
            "횟수: 2400 / 3000 \t Cost: 80.7193832397461\n",
            "횟수: 2500 / 3000 \t Cost: 80.59744262695312\n",
            "횟수: 2600 / 3000 \t Cost: 80.47714233398438\n",
            "횟수: 2700 / 3000 \t Cost: 80.35833740234375\n",
            "횟수: 2800 / 3000 \t Cost: 80.24112701416016\n",
            "횟수: 2900 / 3000 \t Cost: 80.12541961669922\n",
            "횟수: 3000 / 3000 \t Cost: 80.0112075805664\n"
          ],
          "name": "stdout"
        }
      ]
    },
    {
      "cell_type": "code",
      "metadata": {
        "colab": {
          "base_uri": "https://localhost:8080/"
        },
        "id": "v5RLWMtwkQDa",
        "outputId": "583faed6-398e-42fb-9bdc-874a5ed161b5"
      },
      "source": [
        "# 모델 테스트 해보기\n",
        "new_var = torch.FloatTensor([[140, 2, 1, 1]])\n",
        "pred_y = model(new_var)\n",
        "print(\"예측값:\", pred_y)\n",
        "print(list(model.parameters()))"
      ],
      "execution_count": null,
      "outputs": [
        {
          "output_type": "stream",
          "text": [
            "예측값: tensor([[86.6326]], grad_fn=<AddmmBackward>)\n",
            "[Parameter containing:\n",
            "tensor([[ 0.6187, -0.4875,  0.4093,  0.4374]], requires_grad=True), Parameter containing:\n",
            "tensor([0.1383], requires_grad=True)]\n"
          ],
          "name": "stdout"
        }
      ]
    },
    {
      "cell_type": "markdown",
      "metadata": {
        "id": "4VXALEgYoJzT"
      },
      "source": [
        "# ** CNN\n",
        "- CNN은 하나의 피처를 독립적으로 보지 않고 '주위 피처와 함께' 학습시키는 신경망\n",
        "\n",
        "- 이미지 처리에 CNN을 이용하는 이유?\n",
        "    - 이미지는 하나의 차원으로 표현되지 않음\n",
        "    - 이미지는 지역 정보를 학습할 수 있는 신경망이 필요함\n",
        "    - 지역 정보 : 여러 개의 피처가 합쳐진 표현\n",
        "    - 즉, feature가 독립적이지 않아서 머신러닝 수행이 어려움\n",
        "\n",
        "- CNN의 구조\n",
        "    - 1. Convolution Layer : Region Feature를 만들어내는 층\n",
        "    - 2. Pooling Layer : Feature Dimention을 위한 층\n",
        "    - 3. Fully Connected Layer : 실제 출력층\n",
        "\n",
        "\n",
        "- DNN(MLP)와 CNN의 이미지 처리 방법\n",
        "    - 이미지의 feature를 추출하는 방법에 차이가 있음\n",
        "    - DNN(MLP) : 이미지의 픽셀값을 input으로 바로 사용함\n",
        "    - CNN : Region Feature를 Conv층과 Pooling층을 이용해 추출하여 MLP의 input으로 이용함\n",
        "\n",
        "\n",
        "\n"
      ]
    },
    {
      "cell_type": "markdown",
      "metadata": {
        "id": "mqV4Bz5tBgsJ"
      },
      "source": [
        "1. Convolution Layer\n",
        "       - Receptive Field를 정의해서 입력층의 이미지의 feature를 추출하는 역할을 수행하는 layer\n",
        "\n",
        "        - 구현방법\n",
        "            - 이미지 전체를 Receptive Field 영역 단위로 stride만큼 이동하며 순회하면서 연산을 수행함\n",
        "            - Receptive Field : 이미지를 분할한 데이터 영역(크기)\n",
        "            - stride : 순회하는 단위\n",
        "\n",
        "        - padding\n",
        "            - padding : 가장자리 외곽에 0인 영역을 추가\n",
        "            - 가장자리 부분은 중앙보다 연산 횟수가 적게 됨\n",
        "            - 가장자리가 중요할 때는 padding 처리하여 다른 셀과 연산 횟수가 동일하도록 할 수 있음\n",
        "\n",
        "        - weight sharing\n",
        "            - 각 Receptive Field 별로 가중치를 소유하면 학습할 파라미터가 너무 많아짐\n",
        "            - 가중치를 Receptive Field끼리 공유하여 파라미터 수를 줄여줌\n",
        "    \n",
        "\n"
      ]
    },
    {
      "cell_type": "markdown",
      "metadata": {
        "id": "rZZ8oUMABvmm"
      },
      "source": [
        "2. Pooling Layer\n",
        "    - feature의 사이즈를 줄이기 위해서 여러 개의 feature 값을 하나로 묶어주는 작업\n",
        "    - 보통 평균이나 최댓값을 이용함\n",
        "    - 일반적으로 Conv 층과 Pooling 층을 겹쳐 쌓음\n",
        "\n",
        "3. Fully Connected Layer : 실제 출력층\n",
        "    - Pooling Layer에서 나온 feature를 Flatten 시킨 데이터를\n",
        "    - MLP(다중퍼셉트론)의 input으로 두고 학습을 진행함\n"
      ]
    },
    {
      "cell_type": "markdown",
      "metadata": {
        "id": "7d8bmSgyAAS0"
      },
      "source": [
        "## CNN을 이용한 이미지 데이터 분류 실습\n",
        "- 데이터셋 : CIFAR-10 이미지 데이터\n",
        "- 작업내용 : MLP를 이용한 분류\n",
        "- 과정\n",
        "\t- 모듈 임포트\n",
        "\t- 장비 확인- GPU 사용 여부\n",
        "\t- 데이터 다운로드\n",
        "\t- 데이터 확인\n",
        "\t- MLP 모델 설계\n",
        "\t- Optimizer, Objective Function 설계\n",
        "\t- 성능 확인하는 함수 설계\n",
        "\t- 검증 함수 설계\n",
        "\t- 학습 수행"
      ]
    },
    {
      "cell_type": "markdown",
      "metadata": {
        "id": "O7iA3VFxBLnT"
      },
      "source": [
        "### 모듈 import"
      ]
    },
    {
      "cell_type": "code",
      "metadata": {
        "id": "EPI6JOM0oJEY"
      },
      "source": [
        "import torch\n",
        "import torch.nn as nn\n",
        "import torch.nn.functional as F\n",
        "import torch.optim as optim\n",
        "\n",
        "import matplotlib.pyplot as plt\n",
        "import numpy as np\n",
        "\n",
        "from torchvision import transforms, datasets"
      ],
      "execution_count": null,
      "outputs": []
    },
    {
      "cell_type": "markdown",
      "metadata": {
        "id": "8avNjOKYCONZ"
      },
      "source": [
        "### 장비 확인 - GPU 사용 여부"
      ]
    },
    {
      "cell_type": "code",
      "metadata": {
        "colab": {
          "base_uri": "https://localhost:8080/"
        },
        "id": "4OhLWX2fBWY5",
        "outputId": "87eb155c-160d-48d5-9b9b-90025421a99d"
      },
      "source": [
        "# Colab GPU를 켜고 확인해보면 True가 나옴\n",
        "print(\"GPU 사용가능 여부:\", torch.cuda.is_available())\n",
        "\n",
        "# 조건문으로 확인 가능\n",
        "if torch.cuda.is_available():\n",
        "    DEVICE = torch.device('cuda')\n",
        "else:\n",
        "    DEVICE = torch.device('CPU')\n",
        "\n",
        "print('torch version:', torch.__version__)\n",
        "print('DEVICE:', DEVICE)"
      ],
      "execution_count": null,
      "outputs": [
        {
          "output_type": "stream",
          "text": [
            "GPU 사용가능 여부: True\n",
            "torch version: 1.9.0+cu102\n",
            "DEVICE: cuda\n"
          ],
          "name": "stdout"
        }
      ]
    },
    {
      "cell_type": "markdown",
      "metadata": {
        "id": "y2bXKOVpC7Mo"
      },
      "source": [
        "### 데이터 다운로드\n",
        "- 데이터셋 : CIFAR-10 이미지 데이터"
      ]
    },
    {
      "cell_type": "code",
      "metadata": {
        "colab": {
          "base_uri": "https://localhost:8080/",
          "height": 141,
          "referenced_widgets": [
            "eab248ace74244bd849cb1cf12a412fe",
            "40843b99f0854af3b7c7eba03f44792f",
            "e90a4a6d95cb4254b8cf2c3665d0c6e8",
            "9b30e2a1702c455f9609b8c313ba21e5",
            "fa9258010cb04f379deada398b26e80c",
            "cd42cc0372c540dc87277c775b95d91b",
            "59fe96a4ebe849bca67bcee4cbfd2c55",
            "4e98a41d81e640f091a3f6e3cb0f211d"
          ]
        },
        "id": "x-DLjZZkCM46",
        "outputId": "e8b6d432-2a74-4ef0-c37a-e0dcc3278e63"
      },
      "source": [
        "# 데이터 다운로드\n",
        "train_dataset = datasets.CIFAR10(root='/content/drive/MyDrive/data/CIFAR10',\n",
        "                                 train = True, download=True,\n",
        "                                 transform = transforms.ToTensor())\n",
        "test_dataset = datasets.CIFAR10(root='/content/drive/MyDrive/data/CIFAR10',\n",
        "                                 train = False, download=True,\n",
        "                                 transform = transforms.ToTensor())"
      ],
      "execution_count": null,
      "outputs": [
        {
          "output_type": "stream",
          "text": [
            "Downloading https://www.cs.toronto.edu/~kriz/cifar-10-python.tar.gz to /content/drive/MyDrive/data/CIFAR10/cifar-10-python.tar.gz\n"
          ],
          "name": "stdout"
        },
        {
          "output_type": "display_data",
          "data": {
            "application/vnd.jupyter.widget-view+json": {
              "model_id": "eab248ace74244bd849cb1cf12a412fe",
              "version_minor": 0,
              "version_major": 2
            },
            "text/plain": [
              "HBox(children=(FloatProgress(value=0.0, max=170498071.0), HTML(value='')))"
            ]
          },
          "metadata": {
            "tags": []
          }
        },
        {
          "output_type": "stream",
          "text": [
            "\n",
            "Extracting /content/drive/MyDrive/data/CIFAR10/cifar-10-python.tar.gz to /content/drive/MyDrive/data/CIFAR10\n",
            "Files already downloaded and verified\n"
          ],
          "name": "stdout"
        }
      ]
    },
    {
      "cell_type": "code",
      "metadata": {
        "colab": {
          "base_uri": "https://localhost:8080/"
        },
        "id": "4gsya2rUI8gP",
        "outputId": "9137c538-98ff-449f-99cc-46db2b72059b"
      },
      "source": [
        "# 확인\n",
        "type(test_dataset)\n",
        "#dir(test_dataset)"
      ],
      "execution_count": null,
      "outputs": [
        {
          "output_type": "execute_result",
          "data": {
            "text/plain": [
              "torchvision.datasets.cifar.CIFAR10"
            ]
          },
          "metadata": {
            "tags": []
          },
          "execution_count": 11
        }
      ]
    },
    {
      "cell_type": "code",
      "metadata": {
        "id": "uLKmISIHHIAG"
      },
      "source": [
        "# 데이터 변환\n",
        "BATCH_SIZE = 32\n",
        "\n",
        "train_loader = torch.utils.data.DataLoader(dataset = train_dataset,\n",
        "                                            batch_size = BATCH_SIZE,\n",
        "                                            shuffle = True)\n",
        "\n",
        "test_loader = torch.utils.data.DataLoader(dataset = test_dataset,\n",
        "                                            batch_size = BATCH_SIZE,\n",
        "                                            shuffle = True)"
      ],
      "execution_count": null,
      "outputs": []
    },
    {
      "cell_type": "markdown",
      "metadata": {
        "id": "6gHCKPdAKuL1"
      },
      "source": [
        "### 데이터 확인"
      ]
    },
    {
      "cell_type": "code",
      "metadata": {
        "colab": {
          "base_uri": "https://localhost:8080/"
        },
        "id": "8h1rX0U3JNFT",
        "outputId": "84eb5865-9d25-4d75-c073-6f86d0a19349"
      },
      "source": [
        "# 데이터 확인\n",
        "type(train_loader)\n",
        "dir(train_loader) # '__iter__'\n",
        "\n",
        "for (X_train, y_train) in train_loader:\n",
        "    print(X_train.size())    # torch.Size([32, 3, 32, 32]) : 배치사이즈32, 채널수3, 가로32, 세로32\n",
        "    print(y_train.size())    # torch.Size([32])\n",
        "    break # 1번만 돌고 멈추게\n",
        "\n",
        "# torch.Size([32, 3, 32, 32])\n",
        "# 배치사이즈, 채널수, 가로, 세로"
      ],
      "execution_count": null,
      "outputs": [
        {
          "output_type": "stream",
          "text": [
            "torch.Size([32, 3, 32, 32])\n",
            "torch.Size([32])\n"
          ],
          "name": "stdout"
        }
      ]
    },
    {
      "cell_type": "code",
      "metadata": {
        "colab": {
          "base_uri": "https://localhost:8080/",
          "height": 94
        },
        "id": "N2nQf7A1IMau",
        "outputId": "b3178c1f-569e-4701-bcdf-93a64526d11c"
      },
      "source": [
        "# 이미지 꺼내보기\n",
        "pltsize = 1\n",
        "plt.figure(figsize=(10*pltsize, pltsize))\n",
        "\n",
        "for i in range(10):\n",
        "    plt.subplot(1, 10, i+1)\n",
        "    plt.axis('off')\n",
        "    plt.imshow(np.transpose(X_train[i], (1, 2, 0)))\n",
        "    plt.title('class' + str(y_train[i].item()))"
      ],
      "execution_count": null,
      "outputs": [
        {
          "output_type": "display_data",
          "data": {
            "image/png": "[encoded data removed]",
            "text/plain": [
              "<Figure size 720x72 with 10 Axes>"
            ]
          },
          "metadata": {
            "tags": [],
            "needs_background": "light"
          }
        }
      ]
    },
    {
      "cell_type": "markdown",
      "metadata": {
        "id": "Tas-HpQGLdqY"
      },
      "source": [
        "### ** MLP 모델 설계"
      ]
    },
    {
      "cell_type": "code",
      "metadata": {
        "id": "W9Bq97CsKSkS"
      },
      "source": [
        "# 모델 생성 클래스\n",
        "class ModelMaker(nn.Module):\n",
        "    def __init__(self):\n",
        "        super(ModelMaker,self).__init__()\n",
        "        self.fc1 = nn.Linear(32*32*3, 512) # 가로*세로*채널\n",
        "        self.fc2 = nn.Linear(512, 256)\n",
        "        self.fc3 = nn.Linear(256, 10)     # 클래스 10개로 분류할 것\n",
        "        # 512랑 256 개수 맞춰주는 건 알겠는데 왜 하필 저 값일까?\n",
        "        # 나는.. 256이랑 128로 해봐야지\n",
        "\n",
        "    def forward(self, x):\n",
        "        x = x.view(-1, 32*32*3)\n",
        "        \n",
        "        x = self.fc1(x)\n",
        "        x = F.relu(x)\n",
        "\n",
        "        x = self.fc2(x)\n",
        "        x = F.relu(x)\n",
        "\n",
        "        x = self.fc3(x)\n",
        "        x = F.log_softmax(x, dim=1)\n",
        "        return x"
      ],
      "execution_count": null,
      "outputs": []
    },
    {
      "cell_type": "code",
      "metadata": {
        "id": "8WxHxX3lM_uS"
      },
      "source": [
        "# 모델 생성\n",
        "model = ModelMaker().to(DEVICE)"
      ],
      "execution_count": null,
      "outputs": []
    },
    {
      "cell_type": "markdown",
      "metadata": {
        "id": "5V-oWG0LM1Le"
      },
      "source": [
        "### Optimizer, Objective Function(손실함수) 설계"
      ]
    },
    {
      "cell_type": "code",
      "metadata": {
        "id": "qUra4D5ZMoCh"
      },
      "source": [
        "# Optimizer 설정\n",
        "optimizer = torch.optim.Adam(model.parameters(), lr = 0.001)\n",
        "\n",
        "# Objective Function\n",
        "criterion = nn.CrossEntropyLoss()\n",
        "## CrossEntropyLoss\n",
        "    ## 다중분류를 위한 함수\n",
        "    ## nn.LogSoftmax와 nn.NLLLoss의 연산의 조합"
      ],
      "execution_count": null,
      "outputs": []
    },
    {
      "cell_type": "markdown",
      "metadata": {
        "id": "cMgslpC1M5Pp"
      },
      "source": [
        "### 성능 확인하는 함수 설계"
      ]
    },
    {
      "cell_type": "code",
      "metadata": {
        "id": "WeDb8szfM6di"
      },
      "source": [
        "def train(model, train_loader, optimizer, log_interval):\n",
        "    # 모델 훈련 시작\n",
        "    model.train()\n",
        "    # 훈련 데이터의 배치번호, 이미지, 레이블을 순회함\n",
        "    for batch_idx, (image, label) in enumerate(train_loader):\n",
        "        # image, label을 DEVICE에 할당\n",
        "        image = image.to(DEVICE)\n",
        "        label = label.to(DEVICE)\n",
        "        # optimizer 초기화\n",
        "        optimizer.zero_grad()\n",
        "        # image로 예측\n",
        "        output = model(image)\n",
        "        # 손실 계산\n",
        "        loss = criterion(output, label)\n",
        "        # 손실 역전파\n",
        "        loss.backward()\n",
        "\n",
        "        # 파라미터 값(weight)을 업데이트\n",
        "        ## weight를 업데이트 하고 사용한 optimizer는 None으로 초기화 하는 것!\n",
        "        ## loss가 적을 때의 weight만 업데이트하고 다시 for문\n",
        "        optimizer.step()\n",
        "\n",
        "        # 출력\n",
        "        if batch_idx % log_interval == 0:\n",
        "            print('Train Epoch:{}[{}/{} {:.0f}%]\\tTrain Loss:{:.6f}'.\n",
        "                  format(epoch, batch_idx*len(image), len(train_loader.dataset), 100*batch_idx/len(train_loader), loss.item()))"
      ],
      "execution_count": null,
      "outputs": []
    },
    {
      "cell_type": "markdown",
      "metadata": {
        "id": "fQV0nYchM68x"
      },
      "source": [
        "### 검증 함수 설계"
      ]
    },
    {
      "cell_type": "code",
      "metadata": {
        "id": "VlCjnc7yM86w"
      },
      "source": [
        "def evaluate(model, test_loader):\n",
        "    # 모델 검증 시작\n",
        "    model.eval()\n",
        "    # 누적 손실을 계산하기 위한 변수\n",
        "    test_loss = 0\n",
        "    # 정확히 분류된 데이터의 개수를 세는 변수\n",
        "    correct_cnt = 0\n",
        "\n",
        "    # 훈련 데이터의 배치번호, 이미지, 레이블을 순회함\n",
        "    with torch.no_grad():\n",
        "        for image, label in test_loader:\n",
        "            # image, label을 DEVICE에 할당\n",
        "            image = image.to(DEVICE)\n",
        "            label = label.to(DEVICE)\n",
        "\n",
        "            # image로 예측\n",
        "            output = model(image)\n",
        "                ## output : 어떤 클래스로 분류할기 확률을 리턴한 텐서\n",
        "\n",
        "            # 누적 손실 계산\n",
        "            test_loss += criterion(output, label)\n",
        "\n",
        "            # 정답의 개수를 계산\n",
        "            prediction = output.max(1, keepdim=True)[1]\n",
        "                ## ouput 텐서에서 가장 큰 값(확률)의 클래스를 리턴함\n",
        "                ## keepdim : 차원도 같이 리턴하는 옵션\n",
        "            correct_cnt += prediction.eq(label.view_as(prediction)).sum().item()\n",
        "                ## 결과적으로, 예측값과 레이블값이 동일하면 1 더해주는 코드임\n",
        "                ## .view_as : label은 텐서가 아니라서 prediction과 같은 타입으로 바꿔줌  #??정확한 기능 찾아보기\n",
        "                ## .eq: prediction과, label의 값이 같은지 비교\n",
        "                ## .sum().item() : True일 때의 개수를 리턴함                \n",
        "        \n",
        "        # 손실의 평균 구하기\n",
        "        test_loss /= len(test_loader.dataset)    # /= : 나눠서 다시 왼쪽 변수에 할당\n",
        "        # 정확도 구하기\n",
        "        test_accuracy = 100 * correct_cnt / len(test_loader.dataset)\n",
        "        return test_loss, test_accuracy"
      ],
      "execution_count": null,
      "outputs": []
    },
    {
      "cell_type": "markdown",
      "metadata": {
        "id": "mwPoZd4SM7D9"
      },
      "source": [
        "### 학습 수행"
      ]
    },
    {
      "cell_type": "code",
      "metadata": {
        "colab": {
          "base_uri": "https://localhost:8080/"
        },
        "id": "4YyeRv7mM9rf",
        "outputId": "dd136bfa-1960-4efb-8077-308fdc39b641"
      },
      "source": [
        "# 정의한 함수 불러와서 모델 훈련하기\n",
        "EPOCHS = 10\n",
        "\n",
        "for epoch in range(1, EPOCHS+1):\n",
        "    # 훈련\n",
        "    train(model , train_loader, optimizer, log_interval=200)\n",
        "    # 검증해서 loss, accuracy 받아오기\n",
        "    test_loss, test_accuracy = evaluate(model, test_loader)\n",
        "    # 출력\n",
        "    print('\\n[EPOCH:{}]\\ \\tTest Loss : {:.4f} \\tTest Accuracy:{:.2f}%\\n'.format(epoch, test_loss, test_accuracy))\n",
        "\n",
        "# [EPOCH:10]\\ \tTest Loss : 0.0466 \tTest Accuracy:46.95%"
      ],
      "execution_count": null,
      "outputs": [
        {
          "output_type": "stream",
          "text": [
            "Train Epoch:1[0/50000 0%]\tTrain Loss:2.304224\n",
            "Train Epoch:1[6400/50000 13%]\tTrain Loss:2.277791\n",
            "Train Epoch:1[12800/50000 26%]\tTrain Loss:1.739310\n",
            "Train Epoch:1[19200/50000 38%]\tTrain Loss:1.992066\n",
            "Train Epoch:1[25600/50000 51%]\tTrain Loss:1.735134\n",
            "Train Epoch:1[32000/50000 64%]\tTrain Loss:1.906416\n",
            "Train Epoch:1[38400/50000 77%]\tTrain Loss:1.831388\n",
            "Train Epoch:1[44800/50000 90%]\tTrain Loss:1.770254\n",
            "\n",
            "[EPOCH:1]\\ \tTest Loss : 0.0532 \tTest Accuracy:38.47%\n",
            "\n",
            "Train Epoch:2[0/50000 0%]\tTrain Loss:1.792498\n",
            "Train Epoch:2[6400/50000 13%]\tTrain Loss:1.985380\n",
            "Train Epoch:2[12800/50000 26%]\tTrain Loss:1.671002\n",
            "Train Epoch:2[19200/50000 38%]\tTrain Loss:1.562388\n",
            "Train Epoch:2[25600/50000 51%]\tTrain Loss:1.617065\n",
            "Train Epoch:2[32000/50000 64%]\tTrain Loss:1.744818\n",
            "Train Epoch:2[38400/50000 77%]\tTrain Loss:1.605027\n",
            "Train Epoch:2[44800/50000 90%]\tTrain Loss:1.681364\n",
            "\n",
            "[EPOCH:2]\\ \tTest Loss : 0.0494 \tTest Accuracy:43.94%\n",
            "\n",
            "Train Epoch:3[0/50000 0%]\tTrain Loss:1.788501\n",
            "Train Epoch:3[6400/50000 13%]\tTrain Loss:1.523774\n",
            "Train Epoch:3[12800/50000 26%]\tTrain Loss:1.712836\n",
            "Train Epoch:3[19200/50000 38%]\tTrain Loss:1.575919\n",
            "Train Epoch:3[25600/50000 51%]\tTrain Loss:1.373280\n",
            "Train Epoch:3[32000/50000 64%]\tTrain Loss:1.215257\n",
            "Train Epoch:3[38400/50000 77%]\tTrain Loss:1.802747\n",
            "Train Epoch:3[44800/50000 90%]\tTrain Loss:1.428499\n",
            "\n",
            "[EPOCH:3]\\ \tTest Loss : 0.0494 \tTest Accuracy:43.63%\n",
            "\n",
            "Train Epoch:4[0/50000 0%]\tTrain Loss:1.488978\n",
            "Train Epoch:4[6400/50000 13%]\tTrain Loss:1.418555\n",
            "Train Epoch:4[12800/50000 26%]\tTrain Loss:1.655731\n",
            "Train Epoch:4[19200/50000 38%]\tTrain Loss:1.407452\n",
            "Train Epoch:4[25600/50000 51%]\tTrain Loss:1.195928\n",
            "Train Epoch:4[32000/50000 64%]\tTrain Loss:1.287874\n",
            "Train Epoch:4[38400/50000 77%]\tTrain Loss:1.441550\n",
            "Train Epoch:4[44800/50000 90%]\tTrain Loss:1.500923\n",
            "\n",
            "[EPOCH:4]\\ \tTest Loss : 0.0476 \tTest Accuracy:45.26%\n",
            "\n",
            "Train Epoch:5[0/50000 0%]\tTrain Loss:1.561181\n",
            "Train Epoch:5[6400/50000 13%]\tTrain Loss:1.564583\n",
            "Train Epoch:5[12800/50000 26%]\tTrain Loss:1.358889\n",
            "Train Epoch:5[19200/50000 38%]\tTrain Loss:1.464165\n",
            "Train Epoch:5[25600/50000 51%]\tTrain Loss:1.523005\n",
            "Train Epoch:5[32000/50000 64%]\tTrain Loss:1.416576\n",
            "Train Epoch:5[38400/50000 77%]\tTrain Loss:1.443503\n",
            "Train Epoch:5[44800/50000 90%]\tTrain Loss:1.187950\n",
            "\n",
            "[EPOCH:5]\\ \tTest Loss : 0.0488 \tTest Accuracy:44.64%\n",
            "\n",
            "Train Epoch:6[0/50000 0%]\tTrain Loss:1.676657\n",
            "Train Epoch:6[6400/50000 13%]\tTrain Loss:1.285701\n",
            "Train Epoch:6[12800/50000 26%]\tTrain Loss:1.499697\n",
            "Train Epoch:6[19200/50000 38%]\tTrain Loss:1.242823\n",
            "Train Epoch:6[25600/50000 51%]\tTrain Loss:0.975099\n",
            "Train Epoch:6[32000/50000 64%]\tTrain Loss:1.432377\n",
            "Train Epoch:6[38400/50000 77%]\tTrain Loss:1.684640\n",
            "Train Epoch:6[44800/50000 90%]\tTrain Loss:1.629724\n",
            "\n",
            "[EPOCH:6]\\ \tTest Loss : 0.0478 \tTest Accuracy:45.16%\n",
            "\n",
            "Train Epoch:7[0/50000 0%]\tTrain Loss:1.957375\n",
            "Train Epoch:7[6400/50000 13%]\tTrain Loss:1.791626\n",
            "Train Epoch:7[12800/50000 26%]\tTrain Loss:1.350378\n",
            "Train Epoch:7[19200/50000 38%]\tTrain Loss:1.402984\n",
            "Train Epoch:7[25600/50000 51%]\tTrain Loss:1.799636\n",
            "Train Epoch:7[32000/50000 64%]\tTrain Loss:1.484919\n",
            "Train Epoch:7[38400/50000 77%]\tTrain Loss:1.227319\n",
            "Train Epoch:7[44800/50000 90%]\tTrain Loss:1.911841\n",
            "\n",
            "[EPOCH:7]\\ \tTest Loss : 0.0459 \tTest Accuracy:47.52%\n",
            "\n",
            "Train Epoch:8[0/50000 0%]\tTrain Loss:1.383621\n",
            "Train Epoch:8[6400/50000 13%]\tTrain Loss:1.609895\n",
            "Train Epoch:8[12800/50000 26%]\tTrain Loss:1.759613\n",
            "Train Epoch:8[19200/50000 38%]\tTrain Loss:1.181660\n",
            "Train Epoch:8[25600/50000 51%]\tTrain Loss:1.390174\n",
            "Train Epoch:8[32000/50000 64%]\tTrain Loss:1.433539\n",
            "Train Epoch:8[38400/50000 77%]\tTrain Loss:1.589475\n",
            "Train Epoch:8[44800/50000 90%]\tTrain Loss:1.359603\n",
            "\n",
            "[EPOCH:8]\\ \tTest Loss : 0.0475 \tTest Accuracy:45.33%\n",
            "\n",
            "Train Epoch:9[0/50000 0%]\tTrain Loss:1.447375\n",
            "Train Epoch:9[6400/50000 13%]\tTrain Loss:1.504165\n",
            "Train Epoch:9[12800/50000 26%]\tTrain Loss:1.428837\n",
            "Train Epoch:9[19200/50000 38%]\tTrain Loss:1.590862\n",
            "Train Epoch:9[25600/50000 51%]\tTrain Loss:1.552751\n",
            "Train Epoch:9[32000/50000 64%]\tTrain Loss:1.268089\n",
            "Train Epoch:9[38400/50000 77%]\tTrain Loss:1.892343\n",
            "Train Epoch:9[44800/50000 90%]\tTrain Loss:1.266947\n",
            "\n",
            "[EPOCH:9]\\ \tTest Loss : 0.0457 \tTest Accuracy:47.46%\n",
            "\n",
            "Train Epoch:10[0/50000 0%]\tTrain Loss:1.537149\n",
            "Train Epoch:10[6400/50000 13%]\tTrain Loss:1.423350\n",
            "Train Epoch:10[12800/50000 26%]\tTrain Loss:1.292812\n",
            "Train Epoch:10[19200/50000 38%]\tTrain Loss:1.313138\n",
            "Train Epoch:10[25600/50000 51%]\tTrain Loss:1.032884\n",
            "Train Epoch:10[32000/50000 64%]\tTrain Loss:1.372983\n",
            "Train Epoch:10[38400/50000 77%]\tTrain Loss:1.505664\n",
            "Train Epoch:10[44800/50000 90%]\tTrain Loss:1.090480\n",
            "\n",
            "[EPOCH:10]\\ \tTest Loss : 0.0466 \tTest Accuracy:46.95%\n",
            "\n"
          ],
          "name": "stdout"
        }
      ]
    },
    {
      "cell_type": "code",
      "metadata": {
        "id": "XN68FEzwQZh7"
      },
      "source": [
        "# 모델 훈련한 결과물 시각화하여 출력해보자 ~~~~~~~~~~~~"
      ],
      "execution_count": null,
      "outputs": []
    },
    {
      "cell_type": "markdown",
      "metadata": {
        "id": "yz9af00LP57J"
      },
      "source": [
        "### **CNN 모델 적용"
      ]
    },
    {
      "cell_type": "code",
      "metadata": {
        "id": "WR3Zyrz2N8aF"
      },
      "source": [
        "# CNN 모델 설계\n",
        "# 모델 생성 클래스\n",
        "class CNN(nn.Module):\n",
        "    def __init__(self):\n",
        "        super(CNN,self).__init__()\n",
        "\n",
        "        # Conv 층\n",
        "        # in_channels : 입력받는 채널 수\n",
        "        # out_channels : Conv 연산 결과 만들어지는 Feature Map의 수\n",
        "        # kernrl_size : Filter의 크기\n",
        "        self.conv1 = nn.Conv2d(in_channels = 3, out_channels = 8, kernel_size = 3, padding = 1)\n",
        "        self.conv2 = nn.Conv2d(in_channels = 8, out_channels = 16, kernel_size = 3, padding = 1)\n",
        "\n",
        "        # Pooling 층\n",
        "        # 2*2 단위로 영역을 도출하여 대표값을 최대값으로 설정\n",
        "        # 영역 이동 간격은 stride\n",
        "        self.pool = nn.MaxPool2d(kernel_size = 2, stride = 2)\n",
        "\n",
        "        # MLP 층\n",
        "        self.fc1 = nn.Linear(8*8*16, 64)\n",
        "        self.fc2 = nn.Linear(64, 32)\n",
        "        self.fc3 = nn.Linear(32, 10)\n",
        "\n",
        "    def forward(self, x):\n",
        "\n",
        "        x = self.conv1(x)\n",
        "        x = F.relu(x)\n",
        "        x = self.pool(x)\n",
        "\n",
        "        x = self.conv2(x)\n",
        "        x = F.relu(x)\n",
        "        x = self.pool(x)\n",
        "\n",
        "        x = x.view(-1, 8*8*16)\n",
        "\n",
        "        x = self.fc1(x)\n",
        "        x = F.relu(x)\n",
        "        x = self.fc2(x)\n",
        "        x = F.relu(x)\n",
        "        x = self.fc3(x)\n",
        "        x = F.log_softmax(x, dim=1)\n",
        "\n",
        "        return x"
      ],
      "execution_count": null,
      "outputs": []
    },
    {
      "cell_type": "code",
      "metadata": {
        "id": "BmyT9a3VTs_z"
      },
      "source": [
        "model = CNN().to(DEVICE)"
      ],
      "execution_count": null,
      "outputs": []
    },
    {
      "cell_type": "code",
      "metadata": {
        "colab": {
          "base_uri": "https://localhost:8080/"
        },
        "id": "fTMV1r6LU89t",
        "outputId": "1aeb8227-46cb-44ac-b2ed-9ef91072e956"
      },
      "source": [
        "# 정의한 함수 불러와서 모델 훈련하기\n",
        "EPOCHS = 10\n",
        "\n",
        "for epoch in range(1, EPOCHS+1):\n",
        "    # 훈련\n",
        "    train(model , train_loader, optimizer, log_interval=200)\n",
        "    # 검증해서 loss, accuracy 받아오기\n",
        "    test_loss, test_accuracy = evaluate(model, test_loader)\n",
        "    # 출력\n",
        "    print('\\n[EPOCH:{}]\\ \\tTest Loss : {:.4f} \\tTest Accuracy:{:.2f}%\\n'.format(epoch, test_loss, test_accuracy))\n",
        "\n",
        "# MLP : [EPOCH:10]\\ \tTest Loss : 0.0466 \tTest Accuracy:46.95%\n",
        "# CNN : [EPOCH:10]\\ \tTest Loss : 0.0722 \tTest Accuracy:10.00%   ...?? 이게 아닌데 왜 더 나빠짐"
      ],
      "execution_count": null,
      "outputs": [
        {
          "output_type": "stream",
          "text": [
            "Train Epoch:1[0/50000 0%]\tTrain Loss:2.301139\n",
            "Train Epoch:1[6400/50000 13%]\tTrain Loss:2.332168\n",
            "Train Epoch:1[12800/50000 26%]\tTrain Loss:2.306756\n",
            "Train Epoch:1[19200/50000 38%]\tTrain Loss:2.313448\n",
            "Train Epoch:1[25600/50000 51%]\tTrain Loss:2.288547\n",
            "Train Epoch:1[32000/50000 64%]\tTrain Loss:2.330435\n",
            "Train Epoch:1[38400/50000 77%]\tTrain Loss:2.276727\n",
            "Train Epoch:1[44800/50000 90%]\tTrain Loss:2.314458\n",
            "\n",
            "[EPOCH:1]\\ \tTest Loss : 0.0723 \tTest Accuracy:10.00%\n",
            "\n",
            "Train Epoch:2[0/50000 0%]\tTrain Loss:2.304677\n",
            "Train Epoch:2[6400/50000 13%]\tTrain Loss:2.280938\n",
            "Train Epoch:2[12800/50000 26%]\tTrain Loss:2.314605\n",
            "Train Epoch:2[19200/50000 38%]\tTrain Loss:2.304981\n",
            "Train Epoch:2[25600/50000 51%]\tTrain Loss:2.294878\n",
            "Train Epoch:2[32000/50000 64%]\tTrain Loss:2.298915\n",
            "Train Epoch:2[38400/50000 77%]\tTrain Loss:2.321936\n",
            "Train Epoch:2[44800/50000 90%]\tTrain Loss:2.319889\n",
            "\n",
            "[EPOCH:2]\\ \tTest Loss : 0.0723 \tTest Accuracy:10.00%\n",
            "\n",
            "Train Epoch:3[0/50000 0%]\tTrain Loss:2.311503\n",
            "Train Epoch:3[6400/50000 13%]\tTrain Loss:2.264997\n",
            "Train Epoch:3[12800/50000 26%]\tTrain Loss:2.316274\n",
            "Train Epoch:3[19200/50000 38%]\tTrain Loss:2.282394\n",
            "Train Epoch:3[25600/50000 51%]\tTrain Loss:2.333574\n",
            "Train Epoch:3[32000/50000 64%]\tTrain Loss:2.296547\n",
            "Train Epoch:3[38400/50000 77%]\tTrain Loss:2.345402\n",
            "Train Epoch:3[44800/50000 90%]\tTrain Loss:2.307202\n",
            "\n",
            "[EPOCH:3]\\ \tTest Loss : 0.0722 \tTest Accuracy:10.00%\n",
            "\n",
            "Train Epoch:4[0/50000 0%]\tTrain Loss:2.296820\n",
            "Train Epoch:4[6400/50000 13%]\tTrain Loss:2.309240\n",
            "Train Epoch:4[12800/50000 26%]\tTrain Loss:2.281681\n",
            "Train Epoch:4[19200/50000 38%]\tTrain Loss:2.296163\n",
            "Train Epoch:4[25600/50000 51%]\tTrain Loss:2.312631\n",
            "Train Epoch:4[32000/50000 64%]\tTrain Loss:2.298799\n",
            "Train Epoch:4[38400/50000 77%]\tTrain Loss:2.317182\n",
            "Train Epoch:4[44800/50000 90%]\tTrain Loss:2.238657\n",
            "\n",
            "[EPOCH:4]\\ \tTest Loss : 0.0723 \tTest Accuracy:10.00%\n",
            "\n",
            "Train Epoch:5[0/50000 0%]\tTrain Loss:2.320924\n",
            "Train Epoch:5[6400/50000 13%]\tTrain Loss:2.322301\n",
            "Train Epoch:5[12800/50000 26%]\tTrain Loss:2.317110\n",
            "Train Epoch:5[19200/50000 38%]\tTrain Loss:2.321780\n",
            "Train Epoch:5[25600/50000 51%]\tTrain Loss:2.329283\n",
            "Train Epoch:5[32000/50000 64%]\tTrain Loss:2.294752\n",
            "Train Epoch:5[38400/50000 77%]\tTrain Loss:2.346751\n",
            "Train Epoch:5[44800/50000 90%]\tTrain Loss:2.340244\n",
            "\n",
            "[EPOCH:5]\\ \tTest Loss : 0.0723 \tTest Accuracy:10.00%\n",
            "\n",
            "Train Epoch:6[0/50000 0%]\tTrain Loss:2.261384\n",
            "Train Epoch:6[6400/50000 13%]\tTrain Loss:2.310062\n",
            "Train Epoch:6[12800/50000 26%]\tTrain Loss:2.339256\n",
            "Train Epoch:6[19200/50000 38%]\tTrain Loss:2.279013\n",
            "Train Epoch:6[25600/50000 51%]\tTrain Loss:2.299599\n",
            "Train Epoch:6[32000/50000 64%]\tTrain Loss:2.305263\n",
            "Train Epoch:6[38400/50000 77%]\tTrain Loss:2.326244\n",
            "Train Epoch:6[44800/50000 90%]\tTrain Loss:2.317618\n",
            "\n",
            "[EPOCH:6]\\ \tTest Loss : 0.0723 \tTest Accuracy:10.00%\n",
            "\n",
            "Train Epoch:7[0/50000 0%]\tTrain Loss:2.310092\n",
            "Train Epoch:7[6400/50000 13%]\tTrain Loss:2.315142\n",
            "Train Epoch:7[12800/50000 26%]\tTrain Loss:2.307892\n",
            "Train Epoch:7[19200/50000 38%]\tTrain Loss:2.325353\n",
            "Train Epoch:7[25600/50000 51%]\tTrain Loss:2.268501\n",
            "Train Epoch:7[32000/50000 64%]\tTrain Loss:2.280953\n",
            "Train Epoch:7[38400/50000 77%]\tTrain Loss:2.295545\n",
            "Train Epoch:7[44800/50000 90%]\tTrain Loss:2.306917\n",
            "\n",
            "[EPOCH:7]\\ \tTest Loss : 0.0723 \tTest Accuracy:10.00%\n",
            "\n",
            "Train Epoch:8[0/50000 0%]\tTrain Loss:2.298734\n",
            "Train Epoch:8[6400/50000 13%]\tTrain Loss:2.282197\n",
            "Train Epoch:8[12800/50000 26%]\tTrain Loss:2.293510\n",
            "Train Epoch:8[19200/50000 38%]\tTrain Loss:2.297902\n",
            "Train Epoch:8[25600/50000 51%]\tTrain Loss:2.322514\n",
            "Train Epoch:8[32000/50000 64%]\tTrain Loss:2.334995\n",
            "Train Epoch:8[38400/50000 77%]\tTrain Loss:2.343969\n",
            "Train Epoch:8[44800/50000 90%]\tTrain Loss:2.307222\n",
            "\n",
            "[EPOCH:8]\\ \tTest Loss : 0.0723 \tTest Accuracy:10.00%\n",
            "\n",
            "Train Epoch:9[0/50000 0%]\tTrain Loss:2.284550\n",
            "Train Epoch:9[6400/50000 13%]\tTrain Loss:2.306355\n",
            "Train Epoch:9[12800/50000 26%]\tTrain Loss:2.325430\n",
            "Train Epoch:9[19200/50000 38%]\tTrain Loss:2.281566\n",
            "Train Epoch:9[25600/50000 51%]\tTrain Loss:2.310068\n",
            "Train Epoch:9[32000/50000 64%]\tTrain Loss:2.320647\n",
            "Train Epoch:9[38400/50000 77%]\tTrain Loss:2.309421\n",
            "Train Epoch:9[44800/50000 90%]\tTrain Loss:2.316416\n",
            "\n",
            "[EPOCH:9]\\ \tTest Loss : 0.0723 \tTest Accuracy:10.00%\n",
            "\n",
            "Train Epoch:10[0/50000 0%]\tTrain Loss:2.294785\n",
            "Train Epoch:10[6400/50000 13%]\tTrain Loss:2.316665\n",
            "Train Epoch:10[12800/50000 26%]\tTrain Loss:2.301129\n",
            "Train Epoch:10[19200/50000 38%]\tTrain Loss:2.318639\n",
            "Train Epoch:10[25600/50000 51%]\tTrain Loss:2.302472\n",
            "Train Epoch:10[32000/50000 64%]\tTrain Loss:2.295169\n",
            "Train Epoch:10[38400/50000 77%]\tTrain Loss:2.320585\n",
            "Train Epoch:10[44800/50000 90%]\tTrain Loss:2.297682\n",
            "\n",
            "[EPOCH:10]\\ \tTest Loss : 0.0722 \tTest Accuracy:10.00%\n",
            "\n"
          ],
          "name": "stdout"
        }
      ]
    },
    {
      "cell_type": "markdown",
      "metadata": {
        "id": "me5tNpy7YjTQ"
      },
      "source": [
        "## 모델 성능 개선 방법"
      ]
    },
    {
      "cell_type": "markdown",
      "metadata": {
        "id": "rk4HW_SUZJDl"
      },
      "source": [
        "### Data Augumentation\n",
        "- 데이터 원본에 변형을 가하여 학습하는 방법\n",
        "- 학습용 데이터가 너무 적을 때 발생하는 문제를 해결하기 위해 이용함\n",
        "- CNN 성능이 소폭 상승한다고 알려져 있음\n",
        "\n",
        "- 종류\n",
        "    - 참고링크 : https://pytorch.org/vision/stable/transforms.html\n",
        "    - Flip, Rotation, Crop, Scaling\n",
        "    - Cutout : 이미지의 일정 부분을 검정색으로 칠하는 것. 일종의 Dropout.\n",
        "    - CutMix\n",
        "        - 2개의 이미지를 합침\n",
        "\t    - Label을 학습시킬 때 각각의 이미지가 차지하는 비율을 조절하여 학습"
      ]
    },
    {
      "cell_type": "code",
      "metadata": {
        "colab": {
          "base_uri": "https://localhost:8080/"
        },
        "id": "ycUgylDbVd5I",
        "outputId": "b02eb568-7075-449c-d630-c8f024303476"
      },
      "source": [
        "# 데이터 다운로드\n",
        "# Data Augumentation 할 때는 그에 맞는 transform 옵션을 주고 다운로드함\n",
        "# RandomHorizontalFlip, ToTensor, Normalize((평균), (표준편차))\n",
        "train_dataset = datasets.CIFAR10(root='/content/drive/MyDrive/data/CIFAR10',\n",
        "                                 train = True, download=True,\n",
        "                                 transform = transforms.Compose([\n",
        "                                                                 transforms.RandomHorizontalFlip(),\n",
        "                                                                 transforms.ToTensor(),\n",
        "                                                                 transforms.Normalize((0.5, 0.5, 0.5), (0.5, 0.5, 0.5))\n",
        "                                 ]))\n",
        "test_dataset = datasets.CIFAR10(root='/content/drive/MyDrive/data/CIFAR10',\n",
        "                                 train = False, download=True,\n",
        "                                 transform = transforms.Compose([\n",
        "                                                                 transforms.RandomHorizontalFlip(),\n",
        "                                                                 transforms.ToTensor(),\n",
        "                                                                 transforms.Normalize((0.5, 0.5, 0.5), (0.5, 0.5, 0.5))\n",
        "                                 ]))"
      ],
      "execution_count": null,
      "outputs": [
        {
          "output_type": "stream",
          "text": [
            "Files already downloaded and verified\n",
            "Files already downloaded and verified\n"
          ],
          "name": "stdout"
        }
      ]
    },
    {
      "cell_type": "code",
      "metadata": {
        "id": "aldbzAu7amXZ"
      },
      "source": [
        "# 데이터 변환\n",
        "BATCH_SIZE = 32\n",
        "\n",
        "train_loader = torch.utils.data.DataLoader(dataset = train_dataset,\n",
        "                                            batch_size = BATCH_SIZE,\n",
        "                                            shuffle = True)\n",
        "\n",
        "test_loader = torch.utils.data.DataLoader(dataset = test_dataset,\n",
        "                                            batch_size = BATCH_SIZE,\n",
        "                                            shuffle = True)"
      ],
      "execution_count": null,
      "outputs": []
    },
    {
      "cell_type": "code",
      "metadata": {
        "colab": {
          "base_uri": "https://localhost:8080/"
        },
        "id": "1gLjvfpBamXa",
        "outputId": "492b38af-34e9-4ffb-9cdb-fa67fb148bf6"
      },
      "source": [
        "# 데이터 확인\n",
        "type(train_loader)\n",
        "dir(train_loader) # '__iter__'\n",
        "\n",
        "for (X_train, y_train) in train_loader:\n",
        "    print(X_train.size())    # torch.Size([32, 3, 32, 32]) : 배치사이즈32, 채널수3, 가로32, 세로32\n",
        "    print(y_train.size())    # torch.Size([32])\n",
        "    break # 1번만 돌고 멈추게\n",
        "\n",
        "# torch.Size([32, 3, 32, 32])\n",
        "# 배치사이즈, 채널수, 가로, 세로"
      ],
      "execution_count": null,
      "outputs": [
        {
          "output_type": "stream",
          "text": [
            "torch.Size([32, 3, 32, 32])\n",
            "torch.Size([32])\n"
          ],
          "name": "stdout"
        }
      ]
    },
    {
      "cell_type": "code",
      "metadata": {
        "colab": {
          "base_uri": "https://localhost:8080/",
          "height": 294
        },
        "id": "7oUEVfkoanEE",
        "outputId": "f0d7cf57-06c9-404f-d76b-f053f8c13b1a"
      },
      "source": [
        "# 이미지 꺼내보기\n",
        "pltsize = 1\n",
        "plt.figure(figsize=(10*pltsize, pltsize))\n",
        "\n",
        "for i in range(10):\n",
        "    plt.subplot(1, 10, i+1)\n",
        "    plt.axis('off')\n",
        "    plt.imshow(np.transpose(X_train[i], (1, 2, 0)))\n",
        "    plt.title('class' + str(y_train[i].item()))"
      ],
      "execution_count": null,
      "outputs": [
        {
          "output_type": "stream",
          "text": [
            "Clipping input data to the valid range for imshow with RGB data ([0..1] for floats or [0..255] for integers).\n",
            "Clipping input data to the valid range for imshow with RGB data ([0..1] for floats or [0..255] for integers).\n",
            "Clipping input data to the valid range for imshow with RGB data ([0..1] for floats or [0..255] for integers).\n",
            "Clipping input data to the valid range for imshow with RGB data ([0..1] for floats or [0..255] for integers).\n",
            "Clipping input data to the valid range for imshow with RGB data ([0..1] for floats or [0..255] for integers).\n",
            "Clipping input data to the valid range for imshow with RGB data ([0..1] for floats or [0..255] for integers).\n",
            "Clipping input data to the valid range for imshow with RGB data ([0..1] for floats or [0..255] for integers).\n",
            "Clipping input data to the valid range for imshow with RGB data ([0..1] for floats or [0..255] for integers).\n",
            "Clipping input data to the valid range for imshow with RGB data ([0..1] for floats or [0..255] for integers).\n",
            "Clipping input data to the valid range for imshow with RGB data ([0..1] for floats or [0..255] for integers).\n"
          ],
          "name": "stderr"
        },
        {
          "output_type": "display_data",
          "data": {
            "image/png": "[encoded data removed]",
            "text/plain": [
              "<Figure size 720x72 with 10 Axes>"
            ]
          },
          "metadata": {
            "tags": [],
            "needs_background": "light"
          }
        }
      ]
    },
    {
      "cell_type": "markdown",
      "metadata": {
        "id": "Z32SQtVff92R"
      },
      "source": [
        "### 데이터 개수 늘리기"
      ]
    },
    {
      "cell_type": "code",
      "metadata": {
        "colab": {
          "base_uri": "https://localhost:8080/"
        },
        "id": "nkU39KKvdo6e",
        "outputId": "56ae93a6-d034-4421-f309-d9b44591a3e5"
      },
      "source": [
        "# 데이터 타입 알아보기\n",
        "print(\"train_dataset 타입:\", type(train_dataset))\n",
        "print(\".data 타입:\",type(train_dataset.data)) # 데이터가 배열로 바뀜!\n",
        "print(\"훈련 데이터 개수:\",train_dataset.data.shape)\n",
        "print(\".targets 타입:\",type(train_dataset.targets)) # 데이터가 리스트!\n",
        "print(\"레이블 개수:\",len(train_dataset.targets))\n",
        "\n",
        "# 데이터 증식\n",
        "print(\"===데이터 증식 수행===\")\n",
        "## ndarray 세로로 합치기\n",
        "train_dataset.data= np.r_[train_dataset.data, train_dataset.data]\n",
        "print(\"훈련 데이터 개수:\",train_dataset.data.shape)\n",
        "\n",
        "## list 합치기\n",
        "train_dataset.targets = train_dataset.targets + train_dataset.targets\n",
        "print(\"레이블 개수:\",len(train_dataset.targets))"
      ],
      "execution_count": null,
      "outputs": [
        {
          "output_type": "stream",
          "text": [
            "train_dataset 타입: <class 'torchvision.datasets.cifar.CIFAR10'>\n",
            ".data 타입: <class 'numpy.ndarray'>\n",
            "훈련 데이터 개수: (50000, 32, 32, 3)\n",
            ".targets 타입: <class 'list'>\n",
            "레이블 개수: 50000\n",
            "===데이터 증식 수행===\n",
            "훈련 데이터 개수: (100000, 32, 32, 3)\n",
            "레이블 개수: 100000\n"
          ],
          "name": "stdout"
        }
      ]
    },
    {
      "cell_type": "code",
      "metadata": {
        "id": "cBs5DujKbl5e"
      },
      "source": [
        "model = CNN().to(DEVICE)"
      ],
      "execution_count": null,
      "outputs": []
    },
    {
      "cell_type": "code",
      "metadata": {
        "colab": {
          "base_uri": "https://localhost:8080/"
        },
        "id": "kkYoxC6Gbl5e",
        "outputId": "9f425214-df8e-431f-edda-965b97eb2fc6"
      },
      "source": [
        "# 정의한 함수 불러와서 모델 훈련하기\n",
        "EPOCHS = 10\n",
        "\n",
        "for epoch in range(1, EPOCHS+1):\n",
        "    # 훈련\n",
        "    train(model , train_loader, optimizer, log_interval=200)\n",
        "    # 검증해서 loss, accuracy 받아오기\n",
        "    test_loss, test_accuracy = evaluate(model, test_loader)\n",
        "    # 출력\n",
        "    print('\\n[EPOCH:{}]\\ \\tTest Loss : {:.4f} \\tTest Accuracy:{:.2f}%\\n'.format(epoch, test_loss, test_accuracy))\n",
        "\n",
        "# MLP : [EPOCH:10]\\ \tTest Loss : 0.0466 \tTest Accuracy:46.95%\n",
        "# CNN : [EPOCH:10]\\ \tTest Loss : 0.0722 \tTest Accuracy:10.00%   ...? 이게 아닌데 왜 더 나빠짐"
      ],
      "execution_count": null,
      "outputs": [
        {
          "output_type": "stream",
          "text": [
            "Train Epoch:1[0/50000 0%]\tTrain Loss:2.291794\n",
            "Train Epoch:1[6400/50000 13%]\tTrain Loss:2.318349\n",
            "Train Epoch:1[12800/50000 26%]\tTrain Loss:2.318029\n",
            "Train Epoch:1[19200/50000 38%]\tTrain Loss:2.299762\n",
            "Train Epoch:1[25600/50000 51%]\tTrain Loss:2.292839\n",
            "Train Epoch:1[32000/50000 64%]\tTrain Loss:2.291716\n",
            "Train Epoch:1[38400/50000 77%]\tTrain Loss:2.334305\n",
            "Train Epoch:1[44800/50000 90%]\tTrain Loss:2.334122\n",
            "\n",
            "[EPOCH:1]\\ \tTest Loss : 0.0723 \tTest Accuracy:10.00%\n",
            "\n",
            "Train Epoch:2[0/50000 0%]\tTrain Loss:2.307917\n",
            "Train Epoch:2[6400/50000 13%]\tTrain Loss:2.331467\n",
            "Train Epoch:2[12800/50000 26%]\tTrain Loss:2.288650\n",
            "Train Epoch:2[19200/50000 38%]\tTrain Loss:2.346956\n",
            "Train Epoch:2[25600/50000 51%]\tTrain Loss:2.313004\n",
            "Train Epoch:2[32000/50000 64%]\tTrain Loss:2.295056\n",
            "Train Epoch:2[38400/50000 77%]\tTrain Loss:2.292354\n",
            "Train Epoch:2[44800/50000 90%]\tTrain Loss:2.310888\n",
            "\n",
            "[EPOCH:2]\\ \tTest Loss : 0.0723 \tTest Accuracy:10.00%\n",
            "\n",
            "Train Epoch:3[0/50000 0%]\tTrain Loss:2.290299\n",
            "Train Epoch:3[6400/50000 13%]\tTrain Loss:2.306746\n",
            "Train Epoch:3[12800/50000 26%]\tTrain Loss:2.295447\n",
            "Train Epoch:3[19200/50000 38%]\tTrain Loss:2.284748\n",
            "Train Epoch:3[25600/50000 51%]\tTrain Loss:2.303561\n",
            "Train Epoch:3[32000/50000 64%]\tTrain Loss:2.307783\n",
            "Train Epoch:3[38400/50000 77%]\tTrain Loss:2.302708\n",
            "Train Epoch:3[44800/50000 90%]\tTrain Loss:2.308819\n",
            "\n",
            "[EPOCH:3]\\ \tTest Loss : 0.0723 \tTest Accuracy:10.00%\n",
            "\n",
            "Train Epoch:4[0/50000 0%]\tTrain Loss:2.314513\n",
            "Train Epoch:4[6400/50000 13%]\tTrain Loss:2.309776\n",
            "Train Epoch:4[12800/50000 26%]\tTrain Loss:2.310755\n",
            "Train Epoch:4[19200/50000 38%]\tTrain Loss:2.323896\n",
            "Train Epoch:4[25600/50000 51%]\tTrain Loss:2.302778\n",
            "Train Epoch:4[32000/50000 64%]\tTrain Loss:2.320211\n",
            "Train Epoch:4[38400/50000 77%]\tTrain Loss:2.298630\n",
            "Train Epoch:4[44800/50000 90%]\tTrain Loss:2.307637\n",
            "\n",
            "[EPOCH:4]\\ \tTest Loss : 0.0723 \tTest Accuracy:10.00%\n",
            "\n",
            "Train Epoch:5[0/50000 0%]\tTrain Loss:2.327571\n",
            "Train Epoch:5[6400/50000 13%]\tTrain Loss:2.296949\n",
            "Train Epoch:5[12800/50000 26%]\tTrain Loss:2.313626\n",
            "Train Epoch:5[19200/50000 38%]\tTrain Loss:2.325700\n",
            "Train Epoch:5[25600/50000 51%]\tTrain Loss:2.290701\n",
            "Train Epoch:5[32000/50000 64%]\tTrain Loss:2.319774\n",
            "Train Epoch:5[38400/50000 77%]\tTrain Loss:2.322329\n",
            "Train Epoch:5[44800/50000 90%]\tTrain Loss:2.323805\n",
            "\n",
            "[EPOCH:5]\\ \tTest Loss : 0.0723 \tTest Accuracy:10.00%\n",
            "\n",
            "Train Epoch:6[0/50000 0%]\tTrain Loss:2.276117\n",
            "Train Epoch:6[6400/50000 13%]\tTrain Loss:2.332186\n",
            "Train Epoch:6[12800/50000 26%]\tTrain Loss:2.294762\n",
            "Train Epoch:6[19200/50000 38%]\tTrain Loss:2.276522\n",
            "Train Epoch:6[25600/50000 51%]\tTrain Loss:2.316878\n",
            "Train Epoch:6[32000/50000 64%]\tTrain Loss:2.308928\n",
            "Train Epoch:6[38400/50000 77%]\tTrain Loss:2.312612\n",
            "Train Epoch:6[44800/50000 90%]\tTrain Loss:2.335670\n",
            "\n",
            "[EPOCH:6]\\ \tTest Loss : 0.0723 \tTest Accuracy:10.00%\n",
            "\n",
            "Train Epoch:7[0/50000 0%]\tTrain Loss:2.294131\n",
            "Train Epoch:7[6400/50000 13%]\tTrain Loss:2.281527\n",
            "Train Epoch:7[12800/50000 26%]\tTrain Loss:2.289611\n",
            "Train Epoch:7[19200/50000 38%]\tTrain Loss:2.342017\n",
            "Train Epoch:7[25600/50000 51%]\tTrain Loss:2.284676\n",
            "Train Epoch:7[32000/50000 64%]\tTrain Loss:2.308533\n",
            "Train Epoch:7[38400/50000 77%]\tTrain Loss:2.321410\n",
            "Train Epoch:7[44800/50000 90%]\tTrain Loss:2.303801\n",
            "\n",
            "[EPOCH:7]\\ \tTest Loss : 0.0723 \tTest Accuracy:10.00%\n",
            "\n",
            "Train Epoch:8[0/50000 0%]\tTrain Loss:2.304623\n",
            "Train Epoch:8[6400/50000 13%]\tTrain Loss:2.332109\n",
            "Train Epoch:8[12800/50000 26%]\tTrain Loss:2.305753\n",
            "Train Epoch:8[19200/50000 38%]\tTrain Loss:2.330313\n",
            "Train Epoch:8[25600/50000 51%]\tTrain Loss:2.318402\n",
            "Train Epoch:8[32000/50000 64%]\tTrain Loss:2.299405\n",
            "Train Epoch:8[38400/50000 77%]\tTrain Loss:2.322856\n",
            "Train Epoch:8[44800/50000 90%]\tTrain Loss:2.310318\n",
            "\n",
            "[EPOCH:8]\\ \tTest Loss : 0.0723 \tTest Accuracy:10.00%\n",
            "\n",
            "Train Epoch:9[0/50000 0%]\tTrain Loss:2.291529\n",
            "Train Epoch:9[6400/50000 13%]\tTrain Loss:2.288592\n",
            "Train Epoch:9[12800/50000 26%]\tTrain Loss:2.298987\n",
            "Train Epoch:9[19200/50000 38%]\tTrain Loss:2.292712\n",
            "Train Epoch:9[25600/50000 51%]\tTrain Loss:2.289162\n",
            "Train Epoch:9[32000/50000 64%]\tTrain Loss:2.311091\n",
            "Train Epoch:9[38400/50000 77%]\tTrain Loss:2.315913\n",
            "Train Epoch:9[44800/50000 90%]\tTrain Loss:2.305451\n",
            "\n",
            "[EPOCH:9]\\ \tTest Loss : 0.0723 \tTest Accuracy:10.00%\n",
            "\n",
            "Train Epoch:10[0/50000 0%]\tTrain Loss:2.284893\n",
            "Train Epoch:10[6400/50000 13%]\tTrain Loss:2.313150\n",
            "Train Epoch:10[12800/50000 26%]\tTrain Loss:2.322037\n",
            "Train Epoch:10[19200/50000 38%]\tTrain Loss:2.288562\n",
            "Train Epoch:10[25600/50000 51%]\tTrain Loss:2.296877\n",
            "Train Epoch:10[32000/50000 64%]\tTrain Loss:2.303172\n",
            "Train Epoch:10[38400/50000 77%]\tTrain Loss:2.301712\n",
            "Train Epoch:10[44800/50000 90%]\tTrain Loss:2.329349\n",
            "\n",
            "[EPOCH:10]\\ \tTest Loss : 0.0723 \tTest Accuracy:10.00%\n",
            "\n"
          ],
          "name": "stdout"
        }
      ]
    },
    {
      "cell_type": "markdown",
      "metadata": {
        "id": "gEt0GaFFnlT4"
      },
      "source": [
        "### 전이학습\n",
        "- Transfer Learning (전이학습)\n",
        "\n",
        "- 미리 학습해놓은 딥러닝 모델로 재학습(Fine Tuning)하는 방법\n",
        "    - Pre-Trained Model을 가져옴\n",
        "    - 완전연결층(출력층) 전 네트워크의 가중치를 가져오고,\n",
        "    - 완전연결층을 설계(디자인)해서 사용함\n",
        "\n",
        "\n",
        "- 성능\n",
        "    - 전이학습을 하는 경우 모델의 완전연결층 부분 가중치만 새로 학습 진행함\n",
        "    - Conv층은 가중치 그대로 씀\n",
        "    - 일반적으로 소량의 데이터로 딥러닝 수행하는 것보다는 전이학습을 이용하는 경우 성능이 좋음\n",
        "\n",
        "- 참고링크\n",
        "    - 전이학습 모델 : https://pytorch.org/vision/stable/models.html\n",
        "    - ResNet : https://arxiv.org/abs/1512.03385\n",
        "\n"
      ]
    },
    {
      "cell_type": "markdown",
      "metadata": {
        "id": "dIcJQva_s6sU"
      },
      "source": [
        "#### 전이학습 모델 가져오기"
      ]
    },
    {
      "cell_type": "code",
      "metadata": {
        "id": "WFim1MhCaraV"
      },
      "source": [
        "# ResNet 모델 가져오기\n",
        "from torchvision import models\n",
        "\n",
        "# pretrained = False : 사전훈련된 파라미터는 수정하지 않음\n",
        "# 보통은 가져오는 게 좋음\n",
        "model = models.resnet34(pretrained = False)\n",
        "\n",
        "num_ftrs = model.fc.in_features\n",
        "model.fc = nn.Linear(num_ftrs, 10)\n",
        "model = model.to(DEVICE)"
      ],
      "execution_count": null,
      "outputs": []
    },
    {
      "cell_type": "code",
      "metadata": {
        "colab": {
          "base_uri": "https://localhost:8080/"
        },
        "id": "7kvrFRAroOUZ",
        "outputId": "b9e7b036-4b45-42b1-ff00-28bbf5f9134e"
      },
      "source": [
        "# 모델 훈련\n",
        "EPOCHS = 10\n",
        "\n",
        "for epoch in range(1, EPOCHS+1):\n",
        "    # 훈련\n",
        "    train(model , train_loader, optimizer, log_interval=200)\n",
        "    # 검증해서 loss, accuracy 받아오기\n",
        "    test_loss, test_accuracy = evaluate(model, test_loader)\n",
        "    # 출력\n",
        "    print('\\n[EPOCH:{}]\\ \\tTest Loss : {:.4f} \\tTest Accuracy:{:.2f}%\\n'.format(epoch, test_loss, test_accuracy))\n",
        "\n",
        "# [EPOCH:10]\\ \tTest Loss : 0.0845 \tTest Accuracy:9.36%"
      ],
      "execution_count": null,
      "outputs": [
        {
          "output_type": "stream",
          "text": [
            "Train Epoch:1[0/50000 0%]\tTrain Loss:2.528564\n",
            "Train Epoch:1[6400/50000 13%]\tTrain Loss:2.863471\n",
            "Train Epoch:1[12800/50000 26%]\tTrain Loss:2.725037\n",
            "Train Epoch:1[19200/50000 38%]\tTrain Loss:2.656374\n",
            "Train Epoch:1[25600/50000 51%]\tTrain Loss:2.706841\n",
            "Train Epoch:1[32000/50000 64%]\tTrain Loss:2.782195\n",
            "Train Epoch:1[38400/50000 77%]\tTrain Loss:2.615225\n",
            "Train Epoch:1[44800/50000 90%]\tTrain Loss:2.690735\n",
            "\n",
            "[EPOCH:1]\\ \tTest Loss : 0.0840 \tTest Accuracy:9.78%\n",
            "\n",
            "Train Epoch:2[0/50000 0%]\tTrain Loss:2.862792\n",
            "Train Epoch:2[6400/50000 13%]\tTrain Loss:2.636288\n",
            "Train Epoch:2[12800/50000 26%]\tTrain Loss:2.629121\n",
            "Train Epoch:2[19200/50000 38%]\tTrain Loss:2.834544\n",
            "Train Epoch:2[25600/50000 51%]\tTrain Loss:2.677924\n",
            "Train Epoch:2[32000/50000 64%]\tTrain Loss:2.996179\n",
            "Train Epoch:2[38400/50000 77%]\tTrain Loss:2.825035\n",
            "Train Epoch:2[44800/50000 90%]\tTrain Loss:2.780513\n",
            "\n",
            "[EPOCH:2]\\ \tTest Loss : 0.0834 \tTest Accuracy:9.68%\n",
            "\n",
            "Train Epoch:3[0/50000 0%]\tTrain Loss:2.445460\n",
            "Train Epoch:3[6400/50000 13%]\tTrain Loss:2.861032\n",
            "Train Epoch:3[12800/50000 26%]\tTrain Loss:2.783143\n",
            "Train Epoch:3[19200/50000 38%]\tTrain Loss:2.559249\n",
            "Train Epoch:3[25600/50000 51%]\tTrain Loss:2.658539\n",
            "Train Epoch:3[32000/50000 64%]\tTrain Loss:2.758348\n",
            "Train Epoch:3[38400/50000 77%]\tTrain Loss:2.447620\n",
            "Train Epoch:3[44800/50000 90%]\tTrain Loss:2.478674\n",
            "\n",
            "[EPOCH:3]\\ \tTest Loss : 0.0835 \tTest Accuracy:10.00%\n",
            "\n",
            "Train Epoch:4[0/50000 0%]\tTrain Loss:2.551957\n",
            "Train Epoch:4[6400/50000 13%]\tTrain Loss:2.693138\n",
            "Train Epoch:4[12800/50000 26%]\tTrain Loss:2.620838\n",
            "Train Epoch:4[19200/50000 38%]\tTrain Loss:2.626723\n",
            "Train Epoch:4[25600/50000 51%]\tTrain Loss:2.466386\n",
            "Train Epoch:4[32000/50000 64%]\tTrain Loss:2.754899\n",
            "Train Epoch:4[38400/50000 77%]\tTrain Loss:2.724611\n",
            "Train Epoch:4[44800/50000 90%]\tTrain Loss:2.552800\n",
            "\n",
            "[EPOCH:4]\\ \tTest Loss : 0.0842 \tTest Accuracy:9.68%\n",
            "\n",
            "Train Epoch:5[0/50000 0%]\tTrain Loss:2.551801\n",
            "Train Epoch:5[6400/50000 13%]\tTrain Loss:2.756482\n",
            "Train Epoch:5[12800/50000 26%]\tTrain Loss:2.589417\n",
            "Train Epoch:5[19200/50000 38%]\tTrain Loss:2.572824\n",
            "Train Epoch:5[25600/50000 51%]\tTrain Loss:2.765682\n",
            "Train Epoch:5[32000/50000 64%]\tTrain Loss:2.975835\n",
            "Train Epoch:5[38400/50000 77%]\tTrain Loss:2.772290\n",
            "Train Epoch:5[44800/50000 90%]\tTrain Loss:2.610845\n",
            "\n",
            "[EPOCH:5]\\ \tTest Loss : 0.0849 \tTest Accuracy:9.95%\n",
            "\n",
            "Train Epoch:6[0/50000 0%]\tTrain Loss:2.693313\n",
            "Train Epoch:6[6400/50000 13%]\tTrain Loss:2.560979\n",
            "Train Epoch:6[12800/50000 26%]\tTrain Loss:2.733965\n",
            "Train Epoch:6[19200/50000 38%]\tTrain Loss:2.900490\n",
            "Train Epoch:6[25600/50000 51%]\tTrain Loss:2.686643\n",
            "Train Epoch:6[32000/50000 64%]\tTrain Loss:2.733690\n",
            "Train Epoch:6[38400/50000 77%]\tTrain Loss:3.057078\n",
            "Train Epoch:6[44800/50000 90%]\tTrain Loss:2.622108\n",
            "\n",
            "[EPOCH:6]\\ \tTest Loss : 0.0837 \tTest Accuracy:9.66%\n",
            "\n",
            "Train Epoch:7[0/50000 0%]\tTrain Loss:2.745461\n",
            "Train Epoch:7[6400/50000 13%]\tTrain Loss:2.905289\n",
            "Train Epoch:7[12800/50000 26%]\tTrain Loss:2.651770\n",
            "Train Epoch:7[19200/50000 38%]\tTrain Loss:2.797081\n",
            "Train Epoch:7[25600/50000 51%]\tTrain Loss:2.539595\n",
            "Train Epoch:7[32000/50000 64%]\tTrain Loss:2.585385\n",
            "Train Epoch:7[38400/50000 77%]\tTrain Loss:2.789172\n",
            "Train Epoch:7[44800/50000 90%]\tTrain Loss:2.338553\n",
            "\n",
            "[EPOCH:7]\\ \tTest Loss : 0.0837 \tTest Accuracy:9.56%\n",
            "\n",
            "Train Epoch:8[0/50000 0%]\tTrain Loss:2.829943\n",
            "Train Epoch:8[6400/50000 13%]\tTrain Loss:2.430055\n",
            "Train Epoch:8[12800/50000 26%]\tTrain Loss:2.781537\n",
            "Train Epoch:8[19200/50000 38%]\tTrain Loss:2.860086\n",
            "Train Epoch:8[25600/50000 51%]\tTrain Loss:2.780695\n",
            "Train Epoch:8[32000/50000 64%]\tTrain Loss:2.463278\n",
            "Train Epoch:8[38400/50000 77%]\tTrain Loss:2.326113\n",
            "Train Epoch:8[44800/50000 90%]\tTrain Loss:2.774076\n",
            "\n",
            "[EPOCH:8]\\ \tTest Loss : 0.0841 \tTest Accuracy:9.40%\n",
            "\n",
            "Train Epoch:9[0/50000 0%]\tTrain Loss:2.285046\n",
            "Train Epoch:9[6400/50000 13%]\tTrain Loss:2.731142\n",
            "Train Epoch:9[12800/50000 26%]\tTrain Loss:2.773855\n",
            "Train Epoch:9[19200/50000 38%]\tTrain Loss:2.532582\n",
            "Train Epoch:9[25600/50000 51%]\tTrain Loss:2.616296\n",
            "Train Epoch:9[32000/50000 64%]\tTrain Loss:2.892097\n",
            "Train Epoch:9[38400/50000 77%]\tTrain Loss:2.695187\n",
            "Train Epoch:9[44800/50000 90%]\tTrain Loss:2.733088\n",
            "\n",
            "[EPOCH:9]\\ \tTest Loss : 0.0836 \tTest Accuracy:9.64%\n",
            "\n",
            "Train Epoch:10[0/50000 0%]\tTrain Loss:2.861968\n",
            "Train Epoch:10[6400/50000 13%]\tTrain Loss:2.746389\n",
            "Train Epoch:10[12800/50000 26%]\tTrain Loss:2.373159\n",
            "Train Epoch:10[19200/50000 38%]\tTrain Loss:2.502445\n",
            "Train Epoch:10[25600/50000 51%]\tTrain Loss:2.761049\n",
            "Train Epoch:10[32000/50000 64%]\tTrain Loss:2.591976\n",
            "Train Epoch:10[38400/50000 77%]\tTrain Loss:2.704942\n",
            "Train Epoch:10[44800/50000 90%]\tTrain Loss:2.669048\n",
            "\n",
            "[EPOCH:10]\\ \tTest Loss : 0.0845 \tTest Accuracy:9.36%\n",
            "\n"
          ],
          "name": "stdout"
        }
      ]
    },
    {
      "cell_type": "markdown",
      "metadata": {
        "id": "ZNB2_LLypsXl"
      },
      "source": [
        "#### 모델 Fine Tuning\n",
        "- Fine Tuning : 사전훈련된 파라미터를 변경하도록 설정"
      ]
    },
    {
      "cell_type": "code",
      "metadata": {
        "colab": {
          "base_uri": "https://localhost:8080/",
          "height": 105,
          "referenced_widgets": [
            "be29f993f6604e37b3a3b9856bdf477e",
            "233af032da1c4ba59fdb4e550f95d570",
            "532192e0f1ab4785a64b4c432baa3606",
            "2a0e15d50d814504878b11fdf9dad0f7",
            "0a94bb323fb143348f629b194efa7cd9",
            "a8930d6aa9d84cecb0ab60f5837af171",
            "52397ca06fce41a8ae93cf88762ee166",
            "aea0e9ef110a4384a0a1b875b5042c6e"
          ]
        },
        "id": "Uqax6DNqpbyq",
        "outputId": "945fcaf2-23b7-4cde-b7f1-bd3de94cd3ff"
      },
      "source": [
        "# ResNet 모델 가져오기\n",
        "from torchvision import models\n",
        "\n",
        "# 가중치 가져오기\n",
        "model = models.resnet34(pretrained = True)\n",
        "\n",
        "# \n",
        "for param in model.parameters():\n",
        "    param.requires_grad = False\n",
        "\n",
        "num_ftrs = model.fc.in_features\n",
        "model.fc = nn.Linear(num_ftrs, 10)\n",
        "model = model.to(DEVICE)"
      ],
      "execution_count": null,
      "outputs": [
        {
          "output_type": "stream",
          "text": [
            "Downloading: \"https://download.pytorch.org/models/resnet34-b627a593.pth\" to /root/.cache/torch/hub/checkpoints/resnet34-b627a593.pth\n"
          ],
          "name": "stderr"
        },
        {
          "output_type": "display_data",
          "data": {
            "application/vnd.jupyter.widget-view+json": {
              "model_id": "be29f993f6604e37b3a3b9856bdf477e",
              "version_minor": 0,
              "version_major": 2
            },
            "text/plain": [
              "HBox(children=(FloatProgress(value=0.0, max=87319819.0), HTML(value='')))"
            ]
          },
          "metadata": {
            "tags": []
          }
        },
        {
          "output_type": "stream",
          "text": [
            "\n"
          ],
          "name": "stdout"
        }
      ]
    },
    {
      "cell_type": "code",
      "metadata": {
        "colab": {
          "base_uri": "https://localhost:8080/"
        },
        "id": "EArQqFSQsM_V",
        "outputId": "0fbe8d50-3bb9-4433-8e16-ebae68a3ae0c"
      },
      "source": [
        "# 모델 훈련\n",
        "EPOCHS = 10\n",
        "\n",
        "for epoch in range(1, EPOCHS+1):\n",
        "    # 훈련\n",
        "    train(model , train_loader, optimizer, log_interval=200)\n",
        "    # 검증해서 loss, accuracy 받아오기\n",
        "    test_loss, test_accuracy = evaluate(model, test_loader)\n",
        "    # 출력\n",
        "    print('\\n[EPOCH:{}]\\ \\tTest Loss : {:.4f} \\tTest Accuracy:{:.2f}%\\n'.format(epoch, test_loss, test_accuracy))\n",
        "\n"
      ],
      "execution_count": null,
      "outputs": [
        {
          "output_type": "stream",
          "text": [
            "Train Epoch:1[0/50000 0%]\tTrain Loss:2.491946\n",
            "Train Epoch:1[6400/50000 13%]\tTrain Loss:2.741378\n",
            "Train Epoch:1[12800/50000 26%]\tTrain Loss:2.715391\n",
            "Train Epoch:1[19200/50000 38%]\tTrain Loss:2.335533\n",
            "Train Epoch:1[25600/50000 51%]\tTrain Loss:2.442797\n",
            "Train Epoch:1[32000/50000 64%]\tTrain Loss:2.631629\n",
            "Train Epoch:1[38400/50000 77%]\tTrain Loss:2.495246\n",
            "Train Epoch:1[44800/50000 90%]\tTrain Loss:2.804687\n",
            "\n",
            "[EPOCH:1]\\ \tTest Loss : 0.0819 \tTest Accuracy:10.44%\n",
            "\n",
            "Train Epoch:2[0/50000 0%]\tTrain Loss:2.859910\n",
            "Train Epoch:2[6400/50000 13%]\tTrain Loss:2.572037\n",
            "Train Epoch:2[12800/50000 26%]\tTrain Loss:2.427328\n",
            "Train Epoch:2[19200/50000 38%]\tTrain Loss:2.513011\n",
            "Train Epoch:2[25600/50000 51%]\tTrain Loss:2.556147\n",
            "Train Epoch:2[32000/50000 64%]\tTrain Loss:2.509692\n",
            "Train Epoch:2[38400/50000 77%]\tTrain Loss:2.397432\n",
            "Train Epoch:2[44800/50000 90%]\tTrain Loss:2.649000\n",
            "\n",
            "[EPOCH:2]\\ \tTest Loss : 0.0826 \tTest Accuracy:10.51%\n",
            "\n",
            "Train Epoch:3[0/50000 0%]\tTrain Loss:2.520699\n",
            "Train Epoch:3[6400/50000 13%]\tTrain Loss:2.576864\n",
            "Train Epoch:3[12800/50000 26%]\tTrain Loss:2.398161\n",
            "Train Epoch:3[19200/50000 38%]\tTrain Loss:2.680285\n",
            "Train Epoch:3[25600/50000 51%]\tTrain Loss:2.583982\n",
            "Train Epoch:3[32000/50000 64%]\tTrain Loss:2.819149\n",
            "Train Epoch:3[38400/50000 77%]\tTrain Loss:2.492167\n",
            "Train Epoch:3[44800/50000 90%]\tTrain Loss:2.715803\n",
            "\n",
            "[EPOCH:3]\\ \tTest Loss : 0.0822 \tTest Accuracy:10.02%\n",
            "\n",
            "Train Epoch:4[0/50000 0%]\tTrain Loss:2.595936\n",
            "Train Epoch:4[6400/50000 13%]\tTrain Loss:2.493315\n",
            "Train Epoch:4[12800/50000 26%]\tTrain Loss:2.925336\n",
            "Train Epoch:4[19200/50000 38%]\tTrain Loss:2.474005\n",
            "Train Epoch:4[25600/50000 51%]\tTrain Loss:2.580593\n",
            "Train Epoch:4[32000/50000 64%]\tTrain Loss:2.593041\n",
            "Train Epoch:4[38400/50000 77%]\tTrain Loss:2.157897\n",
            "Train Epoch:4[44800/50000 90%]\tTrain Loss:2.500258\n",
            "\n",
            "[EPOCH:4]\\ \tTest Loss : 0.0828 \tTest Accuracy:10.19%\n",
            "\n",
            "Train Epoch:5[0/50000 0%]\tTrain Loss:2.392364\n",
            "Train Epoch:5[6400/50000 13%]\tTrain Loss:2.408669\n",
            "Train Epoch:5[12800/50000 26%]\tTrain Loss:2.658334\n",
            "Train Epoch:5[19200/50000 38%]\tTrain Loss:2.651306\n",
            "Train Epoch:5[25600/50000 51%]\tTrain Loss:2.743846\n",
            "Train Epoch:5[32000/50000 64%]\tTrain Loss:2.589874\n",
            "Train Epoch:5[38400/50000 77%]\tTrain Loss:2.444052\n",
            "Train Epoch:5[44800/50000 90%]\tTrain Loss:2.756480\n",
            "\n",
            "[EPOCH:5]\\ \tTest Loss : 0.0824 \tTest Accuracy:10.18%\n",
            "\n",
            "Train Epoch:6[0/50000 0%]\tTrain Loss:2.306113\n",
            "Train Epoch:6[6400/50000 13%]\tTrain Loss:2.582409\n",
            "Train Epoch:6[12800/50000 26%]\tTrain Loss:2.413221\n",
            "Train Epoch:6[19200/50000 38%]\tTrain Loss:2.592909\n",
            "Train Epoch:6[25600/50000 51%]\tTrain Loss:2.680143\n",
            "Train Epoch:6[32000/50000 64%]\tTrain Loss:2.575104\n",
            "Train Epoch:6[38400/50000 77%]\tTrain Loss:2.579064\n",
            "Train Epoch:6[44800/50000 90%]\tTrain Loss:2.542467\n",
            "\n",
            "[EPOCH:6]\\ \tTest Loss : 0.0832 \tTest Accuracy:10.42%\n",
            "\n",
            "Train Epoch:7[0/50000 0%]\tTrain Loss:2.547152\n",
            "Train Epoch:7[6400/50000 13%]\tTrain Loss:2.415615\n",
            "Train Epoch:7[12800/50000 26%]\tTrain Loss:2.608918\n",
            "Train Epoch:7[19200/50000 38%]\tTrain Loss:2.586054\n",
            "Train Epoch:7[25600/50000 51%]\tTrain Loss:2.439436\n",
            "Train Epoch:7[32000/50000 64%]\tTrain Loss:2.571229\n",
            "Train Epoch:7[38400/50000 77%]\tTrain Loss:2.459107\n",
            "Train Epoch:7[44800/50000 90%]\tTrain Loss:2.640032\n",
            "\n",
            "[EPOCH:7]\\ \tTest Loss : 0.0822 \tTest Accuracy:10.28%\n",
            "\n",
            "Train Epoch:8[0/50000 0%]\tTrain Loss:2.715854\n",
            "Train Epoch:8[6400/50000 13%]\tTrain Loss:2.513912\n",
            "Train Epoch:8[12800/50000 26%]\tTrain Loss:2.627354\n",
            "Train Epoch:8[19200/50000 38%]\tTrain Loss:2.718331\n",
            "Train Epoch:8[25600/50000 51%]\tTrain Loss:2.540866\n",
            "Train Epoch:8[32000/50000 64%]\tTrain Loss:2.549262\n",
            "Train Epoch:8[38400/50000 77%]\tTrain Loss:2.609160\n",
            "Train Epoch:8[44800/50000 90%]\tTrain Loss:2.810472\n",
            "\n",
            "[EPOCH:8]\\ \tTest Loss : 0.0825 \tTest Accuracy:10.25%\n",
            "\n",
            "Train Epoch:9[0/50000 0%]\tTrain Loss:2.534753\n",
            "Train Epoch:9[6400/50000 13%]\tTrain Loss:2.672108\n",
            "Train Epoch:9[12800/50000 26%]\tTrain Loss:2.554083\n",
            "Train Epoch:9[19200/50000 38%]\tTrain Loss:2.542695\n",
            "Train Epoch:9[25600/50000 51%]\tTrain Loss:2.471214\n",
            "Train Epoch:9[32000/50000 64%]\tTrain Loss:2.595606\n",
            "Train Epoch:9[38400/50000 77%]\tTrain Loss:2.304598\n",
            "Train Epoch:9[44800/50000 90%]\tTrain Loss:2.447203\n",
            "\n",
            "[EPOCH:9]\\ \tTest Loss : 0.0823 \tTest Accuracy:10.21%\n",
            "\n",
            "Train Epoch:10[0/50000 0%]\tTrain Loss:2.678887\n",
            "Train Epoch:10[6400/50000 13%]\tTrain Loss:2.616413\n",
            "Train Epoch:10[12800/50000 26%]\tTrain Loss:2.342090\n",
            "Train Epoch:10[19200/50000 38%]\tTrain Loss:2.658641\n",
            "Train Epoch:10[25600/50000 51%]\tTrain Loss:2.526194\n",
            "Train Epoch:10[32000/50000 64%]\tTrain Loss:2.510213\n",
            "Train Epoch:10[38400/50000 77%]\tTrain Loss:2.493525\n",
            "Train Epoch:10[44800/50000 90%]\tTrain Loss:2.629661\n",
            "\n",
            "[EPOCH:10]\\ \tTest Loss : 0.0818 \tTest Accuracy:10.50%\n",
            "\n"
          ],
          "name": "stdout"
        }
      ]
    },
    {
      "cell_type": "code",
      "metadata": {
        "id": "OG6YhOrGsP39"
      },
      "source": [
        ""
      ],
      "execution_count": null,
      "outputs": []
    }
  ]
}