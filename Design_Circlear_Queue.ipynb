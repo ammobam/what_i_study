{
  "nbformat": 4,
  "nbformat_minor": 0,
  "metadata": {
    "colab": {
      "name": "Design Circlear Queue.ipynb",
      "provenance": [],
      "collapsed_sections": [],
      "authorship_tag": "ABX9TyNczNjIiahLWv6BZmG3kMWk",
      "include_colab_link": true
    },
    "kernelspec": {
      "name": "python3",
      "display_name": "Python 3"
    },
    "language_info": {
      "name": "python"
    }
  },
  "cells": [
    {
      "cell_type": "markdown",
      "metadata": {
        "id": "view-in-github",
        "colab_type": "text"
      },
      "source": [
        "<a href=\"https://colab.research.google.com/github/ammobam/what_i_study/blob/main/Design_Circlear_Queue.ipynb\" target=\"_parent\"><img src=\"https://colab.research.google.com/assets/colab-badge.svg\" alt=\"Open In Colab\"/></a>"
      ]
    },
    {
      "cell_type": "code",
      "metadata": {
        "id": "TSMmiKvazerY"
      },
      "source": [
        "# Design Circlear Queue\n",
        "\n",
        "class CirclearQueue:\n",
        "\n",
        "    def __init__(self, k:int):\n",
        "        self.q = [None] * k # 구조\n",
        "        self.maxlen = k     # 길이\n",
        "        self.p1 = 0         # 포인터\n",
        "        self.p2 = 0         # 포인터\n",
        "    \n",
        "    # 값 넣기\n",
        "    def enQ(self, value):\n",
        "        # p2 위치에서 값이 없다면\n",
        "        if self.q[self.p2] is None:\n",
        "            # 들어온 값으로 채워주고\n",
        "            self.q[self.p2] = value\n",
        "            # p2의 위치는 전체 길이로 나눈 나머지만큼 이동함\n",
        "            self.p2 = (self.p2 + 1) % self.maxlen\n",
        "            return True\n",
        "        else:\n",
        "            # p2 위치에 값이 있다면 값 채워넣기는 실패\n",
        "            return False\n",
        "    \n",
        "    def deQ(self, value):\n",
        "        if self.q[self.p1] is None:\n",
        "            self.q[self.p1] = value\n",
        "            self.p2 = (self.p1 + 1) % self.maxlen\n",
        "            return True\n",
        "        else:\n",
        "            return False\n",
        "\n",
        "    # 포인터가 가리키는 위치에 값이 없다면 한 칸 이전으로 이동\n",
        "    def Front(self):\n",
        "        return -1 if self.q[self.p1] is None else self.q[self.p1]\n",
        "    \n",
        "    # p1, p2가 동일한 위치를 가리키고 값이 없다면 빈 것임\n",
        "    def isEmpty(self):\n",
        "        return self.p1 == self.p2 and self.q[self.p1]is None\n",
        "    "
      ],
      "execution_count": null,
      "outputs": []
    }
  ]
}