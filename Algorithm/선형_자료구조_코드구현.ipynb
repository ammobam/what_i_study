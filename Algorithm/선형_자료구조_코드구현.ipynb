{
  "nbformat": 4,
  "nbformat_minor": 0,
  "metadata": {
    "colab": {
      "name": "선형 자료구조_코드구현.ipynb",
      "provenance": [],
      "collapsed_sections": []
    },
    "kernelspec": {
      "name": "python3",
      "display_name": "Python 3"
    },
    "language_info": {
      "name": "python"
    }
  },
  "cells": [
    {
      "cell_type": "markdown",
      "metadata": {
        "id": "1iITaeGKC-1O"
      },
      "source": [
        "# 선형 자료구조"
      ]
    },
    {
      "cell_type": "markdown",
      "metadata": {
        "id": "tiFtNXlGkJJf"
      },
      "source": [
        "## 배열\n",
        "### 문제 09.세 수의 합(p184)\n",
        "- 배열을 입력 받아 합으로 0을 만들 수 있는 3개의 엘리먼트를 출력하라.\n",
        "```\n",
        "# 입력\n",
        "nums = [-1, 0, 1, 2, -1, -4]\n",
        "# 출력 예시\n",
        "[[-1, 0, 1], [-1, -1, 2]]\n",
        "```"
      ]
    },
    {
      "cell_type": "markdown",
      "metadata": {
        "id": "yKaft7NaDiLN"
      },
      "source": [
        "### 방법 1 : 모든 조합에 대해 찾기\n",
        "- 배열에서 요소 3개를 고르는 경우, 가능한 모든 조합을 리스트로 저장함\n",
        "- 각 리스트에서 세 개 값의 합이 0인 경우만 선택함"
      ]
    },
    {
      "cell_type": "code",
      "metadata": {
        "id": "ojJblPEllNvt"
      },
      "source": [
        "# 방법1\n",
        "# 배열 입력\n",
        "nums = [-1, 0, 1, 2, -1, -4]\n",
        "\n",
        "# 배열에서 3개 요소를 묶어서 저장함\n",
        "# 3개 요소의 합이 0인 경우만 출력"
      ],
      "execution_count": null,
      "outputs": []
    },
    {
      "cell_type": "markdown",
      "metadata": {
        "id": "Tt1GvlaOEFnm"
      },
      "source": [
        "### 방법 2 : 배열의 길이를 줄여 나가며 찾기\n",
        "- 배열을 오름차순으로 정렬함\n",
        "- 가장 작은 값과 가장 큰 값의 합이 0보다 크거나 작은지 판단함\n",
        "- 두 수의 합을 0과 비교하고, 선택하지 않은 수 중 가장 작거나 큰 값을 더함\n",
        "    - 만약 두 수의 합이 0보다 크다면, 다음 수는 음수여야 세 수의 합이 0이 될 수 있음\n",
        "    - 만약 두 수의 합이 0보다 작다면, 다음 수는 양수여야 세 수의 합이 0이 될 수 있음\n",
        "- 세 수의 합을 0과 비교하고,\n",
        "    - 세 수의 합이 0이 될 수 없는 경우는 가장 작거나 큰 값을 배열에서 제외함\n",
        "    - 세 수의 합이 0인 경우에는 배열에 속한 가장 작은 값과 가장 큰 값을 제외함\n",
        "- 이 과정을 배열의 길이가 3 이상인 경우에만 반복함"
      ]
    },
    {
      "cell_type": "code",
      "metadata": {
        "colab": {
          "base_uri": "https://localhost:8080/"
        },
        "id": "WXeeuZeTm8g3",
        "outputId": "d3b278b2-d6ab-4622-8985-3d850c028296"
      },
      "source": [
        "# 방법2\n",
        "\n",
        "# 배열 입력\n",
        "nums = [-1, 0, 1, 2, -1, -4]\n",
        "\n",
        "# 출력값 저장할 리스트 생성\n",
        "zero_maker = []\n",
        "\n",
        "# 배열 정렬하기\n",
        "nums_sort = sorted(nums)\n",
        "\n",
        "\n",
        "while len(nums_sort)>=3:\n",
        "    print(\"반복 시 리스트 요소 확인:\", nums_sort)\n",
        "\n",
        "    # 배열에서 가장 왼쪽 값(최소값), 오른쪽 값(최대값) 두 값 더하기\n",
        "    sum_two = nums_sort[0] + nums_sort[-1]\n",
        "\n",
        "    # 두 수의 합이 0보다 크거나 같으면,\n",
        "    if sum_two >= 0:\n",
        "        print(\"\\t- sum_two >= 0\")\n",
        "        # 남은 수에서 가장 왼쪽 값을 더함\n",
        "        sum_three = sum_two + nums_sort[1]\n",
        "        if sum_three == 0:\n",
        "            # 세 수를 더한 값이 0인 경우 출력 리스트에 저장\n",
        "            zero_maker.append([nums_sort[0], nums_sort[1], nums_sort[-1]])\n",
        "            nums_sort.remove(nums_sort[0])\n",
        "            nums_sort.remove(nums_sort[-1])\n",
        "            print(\"\\t==0:\", nums_sort)\n",
        "        elif sum_three > 0:\n",
        "            nums_sort.remove(nums_sort[-1])\n",
        "            print(\"\\t>0:\", nums_sort)\n",
        "        else:\n",
        "            nums_sort.remove(nums_sort[0])\n",
        "            print(\"\\t<0:\", nums_sort)\n",
        "\n",
        "    # 두 수의 합이 0보다 작으면,\n",
        "    else:\n",
        "        print(\"\\t- sum_two < 0\")\n",
        "        # 남은 수에서 가장 오른쪽 값을 더함\n",
        "        sum_three = sum_two + nums_sort[-2]\n",
        "        if sum_three == 0:\n",
        "            # 세 수를 더한 값이 0인 경우 출력 리스트에 저장\n",
        "            zero_maker.append([nums_sort[0], nums_sort[-2], nums_sort[-1]])\n",
        "            nums_sort.remove(nums_sort[0])\n",
        "            nums_sort.remove(nums_sort[-1])\n",
        "            print(\"\\t==0: \", nums_sort)\n",
        "        elif sum_three > 0:\n",
        "            nums_sort.remove(nums_sort[-1])\n",
        "            print(\"\\t>0: \", nums_sort)\n",
        "        else:\n",
        "            nums_sort.remove(nums_sort[0])\n",
        "            print(\"\\t<0: \", nums_sort)\n",
        "\n",
        "# 출력\n",
        "print(\"답:\", zero_maker)"
      ],
      "execution_count": 39,
      "outputs": [
        {
          "output_type": "stream",
          "name": "stdout",
          "text": [
            "반복 시 리스트 요소 확인: [-4, -1, -1, 0, 1, 2]\n",
            "\t- sum_two < 0\n",
            "\t<0:  [-1, -1, 0, 1, 2]\n",
            "반복 시 리스트 요소 확인: [-1, -1, 0, 1, 2]\n",
            "\t- sum_two >= 0\n",
            "\t==0: [-1, 0, 1]\n",
            "반복 시 리스트 요소 확인: [-1, 0, 1]\n",
            "\t- sum_two >= 0\n",
            "\t==0: [0]\n",
            "답: [[-1, -1, 2], [-1, 0, 1]]\n"
          ]
        }
      ]
    },
    {
      "cell_type": "markdown",
      "metadata": {
        "id": "aXfisSdeIDPw"
      },
      "source": [
        "#### 그 외 : list의 기능 탐구"
      ]
    },
    {
      "cell_type": "code",
      "metadata": {
        "colab": {
          "base_uri": "https://localhost:8080/"
        },
        "id": "PmhjYmHaH91c",
        "outputId": "51c16cb8-c8ae-451e-c2b8-e95a129c4a4c"
      },
      "source": [
        "help(list.remove)"
      ],
      "execution_count": 51,
      "outputs": [
        {
          "output_type": "stream",
          "name": "stdout",
          "text": [
            "Help on method_descriptor:\n",
            "\n",
            "remove(self, value, /)\n",
            "    Remove first occurrence of value.\n",
            "    \n",
            "    Raises ValueError if the value is not present.\n",
            "\n"
          ]
        }
      ]
    },
    {
      "cell_type": "code",
      "metadata": {
        "colab": {
          "base_uri": "https://localhost:8080/"
        },
        "id": "mB4Fmg5t-jvd",
        "outputId": "5187eba6-3a23-4635-9e5e-22998d997588"
      },
      "source": [
        "# list에서 remove()는 1개씩 지울 수 있음\n",
        "nums = [-1, 0, 1, 2, -1, -4]\n",
        "nums.remove(nums[0])\n",
        "nums.remove(nums[-1])\n",
        "nums"
      ],
      "execution_count": 40,
      "outputs": [
        {
          "output_type": "execute_result",
          "data": {
            "text/plain": [
              "[0, 1, 2, -1]"
            ]
          },
          "metadata": {},
          "execution_count": 40
        }
      ]
    },
    {
      "cell_type": "code",
      "metadata": {
        "colab": {
          "base_uri": "https://localhost:8080/"
        },
        "id": "pUO9xTI_CccP",
        "outputId": "15b0583c-7662-44e6-ff81-63e522f8a868"
      },
      "source": [
        "# list에서 append() 안에 []로 묶어서 더해주면 중복 리스트로 추가됨\n",
        "nums_sort = [-1, 0, 1, 2, -1, -4]\n",
        "zero_maker=[]\n",
        "zero_maker.append([nums_sort[0], nums_sort[-1], nums_sort[-2]])\n",
        "zero_maker.append([nums_sort[0], nums_sort[-1], nums_sort[1]])\n",
        "zero_maker"
      ],
      "execution_count": 41,
      "outputs": [
        {
          "output_type": "execute_result",
          "data": {
            "text/plain": [
              "[[-1, -4, -1], [-1, -4, 0]]"
            ]
          },
          "metadata": {},
          "execution_count": 41
        }
      ]
    },
    {
      "cell_type": "markdown",
      "metadata": {
        "id": "GCkjsGcdkc8h"
      },
      "source": [
        "## 연결 리스트 (Linked List)\n",
        "### 문제 16.두 수의 덧셈(p221)\n",
        "- 역순으로 저장된 연결 리스트의 숫자를 더하라\n",
        "```\n",
        "# 입력\n",
        "(2 -> 4 -> 3) + (5 -> 6 -> 4)\n",
        "# 출력\n",
        "7 -> 0 -> 8\n",
        "```\n",
        "- 342 + 465 = 807\n",
        "- 먼저 입력된 숫자가 낮은 자리 숫자\n",
        "- 각 자리의 숫자 합이 10 이상이 되면 다음 자리로 1 넘김"
      ]
    },
    {
      "cell_type": "markdown",
      "metadata": {
        "id": "wdid5PULcRAW"
      },
      "source": [
        "## 방법\n",
        "- 입력받은 문자열에서 식 추출하기\n",
        "- 식에서 숫자 추출하여 리스트에 저장하기\n",
        "- 리스트 안의 요소를 자릿수 맞춰 더하기\n",
        "- 각 식에 대해 반복\n",
        "- 모든 식의 합 구하기\n",
        "- 적절한 형식(역순)으로 출력하기"
      ]
    },
    {
      "cell_type": "code",
      "metadata": {
        "colab": {
          "base_uri": "https://localhost:8080/"
        },
        "id": "i6mYIrUMJpn3",
        "outputId": "7f63a6e2-6717-4bb8-e524-4231a7b608ec"
      },
      "source": [
        "# 문자열 입력\n",
        "input_data = \"(2 -> 4 -> 3) + (5 -> 6 -> 4)\"\n",
        "\n",
        "num_sum = 0\n",
        "\n",
        "# \"+\" 기준으로 분할해서 식 단위로 입력 받기\n",
        "for form_data in input_data.split(\"+\"):\n",
        "\n",
        "    # 식 안에서 숫자만 저장할 리스트 생성\n",
        "    # 여기서 리스트 리셋됨\n",
        "    num_list = []\n",
        "\n",
        "    for data in form_data:\n",
        "        #print(data, type(data))\n",
        "        try:\n",
        "            # 모두 str이므로 int로 타입 변환함\n",
        "            num = int(data)\n",
        "            num_list.append(num)\n",
        "            #print(num_list)\n",
        "        except:\n",
        "            # int로 변환할 수 없는 data 처리함\n",
        "            pass\n",
        "\n",
        "    # 리스트에 입력 받은 순서대로 자릿수 곱해주고 num_sum에 누적으로 더함\n",
        "    num_sum += num_list[0] + num_list[1]*10 + num_list[2]*100\n",
        "    print(num_sum)\n",
        "\n",
        "# 결과를 형식에 맞게 출력함\n",
        "# 문자열로 변환하면\n",
        "num_str = str(num_sum)\n",
        "# 인덱스를 이용하여 출력할 수 있음\n",
        "print(f\"{num_str[2]} -> {num_str[1]} -> {num_str[0]}\")"
      ],
      "execution_count": 127,
      "outputs": [
        {
          "output_type": "stream",
          "name": "stdout",
          "text": [
            "342\n",
            "807\n",
            "7 -> 0 -> 8\n"
          ]
        }
      ]
    },
    {
      "cell_type": "code",
      "metadata": {
        "colab": {
          "base_uri": "https://localhost:8080/"
        },
        "id": "OGiJymWeTGlj",
        "outputId": "321009b4-1668-4baf-ced0-eae7789865b9"
      },
      "source": [
        "# 개선된 코드\n",
        "# 4자리 수를 입력해도 처리 됨\n",
        "\n",
        "# 문자열 입력\n",
        "input_data = \"(2 -> 4 -> 3) + (5 -> 6 -> 4)\"\n",
        "#input_data = \"(2 -> 4 -> 3) + (5 -> 6 -> 4) + (1->1->4->7)\"\n",
        "\n",
        "num_sum=0\n",
        "#num_sum = {}\n",
        "\n",
        "# \"+\" 기준으로 분할해서 식 단위로 입력 받기\n",
        "for form_data in input_data.split(\"+\"):\n",
        "\n",
        "    # 식 안에서 숫자만 저장할 리스트 생성\n",
        "    num_list = []\n",
        "\n",
        "    for data in form_data:\n",
        "        try:\n",
        "            # 모두 str이므로 int로 타입 변환함\n",
        "            num = int(data)\n",
        "            num_list.append(num)\n",
        "            #print(num_list)\n",
        "\n",
        "        except:\n",
        "            # int로 변환할 수 없는 data 처리함\n",
        "            pass\n",
        "\n",
        "    # 리스트에 입력 받은 순서대로 자릿수 곱해주고 num_sum에 누적으로 더함\n",
        "    lenght_num = len(num_list)\n",
        "    for i in range(lenght_num):\n",
        "        num_sum += num_list[i]*(10**i)\n",
        "    print(num_sum)\n",
        "\n",
        "\n",
        "# 결과를 형식에 맞게 출력함\n",
        "num_str = str(num_sum)\n",
        "length_str = len(num_str)\n",
        "# 인덱스는 0부터 시작하고, 자릿수는 1부터 시작하니 range에 범위 줄 때 -1씩 처리함\n",
        "# range()를 이용해서 마지막 파라미터를 -1로 설정하여 역순으로 출력\n",
        "for i in range(length_str-1, -1, -1):\n",
        "    # 마지막 출력은 화살표 없음\n",
        "    if i != 0:\n",
        "        print(f\"{num_str[i]}\", end=' -> ')\n",
        "    else:\n",
        "        print(f\"{num_str[i]}\")"
      ],
      "execution_count": 153,
      "outputs": [
        {
          "output_type": "stream",
          "name": "stdout",
          "text": [
            "342\n",
            "807\n",
            "7 -> 0 -> 8\n"
          ]
        }
      ]
    },
    {
      "cell_type": "code",
      "metadata": {
        "colab": {
          "base_uri": "https://localhost:8080/"
        },
        "id": "aHfvsO8MaB3n",
        "outputId": "f4fb3f2b-56cb-4708-b6fa-73e3b4fee8cc"
      },
      "source": [
        "num_str = str(num_sum)\n",
        "length_str = len(num_str)\n",
        "for i in range(length_str-1, -1, -1):\n",
        "    #print(i)\n",
        "    if i != 0:\n",
        "        print(f\"{num_str[i]}\", end=' -> ')\n",
        "    else:\n",
        "        print(f\"{num_str[i]}\")"
      ],
      "execution_count": 152,
      "outputs": [
        {
          "output_type": "stream",
          "name": "stdout",
          "text": [
            "7 -> 0 -> 8\n"
          ]
        }
      ]
    },
    {
      "cell_type": "code",
      "metadata": {
        "colab": {
          "base_uri": "https://localhost:8080/"
        },
        "id": "GyOkl9-DGa4c",
        "outputId": "7f4ee956-667d-4839-b12f-d8561703cb68"
      },
      "source": [
        "help(str.split)"
      ],
      "execution_count": 52,
      "outputs": [
        {
          "output_type": "stream",
          "name": "stdout",
          "text": [
            "Help on method_descriptor:\n",
            "\n",
            "split(self, /, sep=None, maxsplit=-1)\n",
            "    Return a list of the words in the string, using sep as the delimiter string.\n",
            "    \n",
            "    sep\n",
            "      The delimiter according which to split the string.\n",
            "      None (the default value) means split according to any whitespace,\n",
            "      and discard empty strings from the result.\n",
            "    maxsplit\n",
            "      Maximum number of splits to do.\n",
            "      -1 (the default value) means no limit.\n",
            "\n"
          ]
        }
      ]
    },
    {
      "cell_type": "code",
      "metadata": {
        "id": "wav3lbBOYp11"
      },
      "source": [
        "#help(range)\n",
        "#range(start, stop[, step]) -> range object"
      ],
      "execution_count": 154,
      "outputs": []
    },
    {
      "cell_type": "code",
      "metadata": {
        "id": "sc8CKqveHw8o"
      },
      "source": [
        "'''\n",
        "        # 딕셔너리로 합 저장 - x\n",
        "        # key를 자릿수로 받는 경우, 나중에 받은 값만 저장됨\n",
        "        # key를 각 자릿수의 값, value를 자릿수으로 받는 경우, 같은 자릿수의 같은 값을 더하면 나중 값만 저장됨\n",
        "        for i, num in enumerate(num_list):\n",
        "        num_sum[num*(10**i)] = i \n",
        "        print(num_sum)\n",
        "        '''"
      ],
      "execution_count": null,
      "outputs": []
    }
  ]
}